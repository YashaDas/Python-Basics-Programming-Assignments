{
 "cells": [
  {
   "cell_type": "markdown",
   "id": "e7091224",
   "metadata": {},
   "source": [
    "# Python Basics Programming Assignment_23 "
   ]
  },
  {
   "cell_type": "markdown",
   "id": "e1a6c7ad",
   "metadata": {},
   "source": [
    "### Question 1\n",
    "\n",
    "\n",
    "### Create a function that takes a number as an argument and returns True or False depending on whether the number is symmetrical or not. A number is symmetrical when it is the same as its reverse.\n",
    "\n",
    "\n",
    "### Examples\n",
    "\n",
    "\n",
    "### is_symmetrical(7227) ➞ True\n",
    "\n",
    "\n",
    "### is_symmetrical(12567) ➞ False\n",
    "\n",
    "\n",
    "### is_symmetrical(44444444) ➞ True\n",
    "\n",
    "\n",
    "### is_symmetrical(9939) ➞ False\n",
    "\n",
    "\n",
    "### is_symmetrical(1112111) ➞ True"
   ]
  },
  {
   "cell_type": "markdown",
   "id": "9a3a606e",
   "metadata": {},
   "source": [
    "#### SOLUTION:"
   ]
  },
  {
   "cell_type": "code",
   "execution_count": 15,
   "id": "5e16d577",
   "metadata": {},
   "outputs": [],
   "source": [
    "def is_symmetrical(num):\n",
    "    currentDigit = reversedDigit = 0\n",
    "    remainingNum = num\n",
    "    while(remainingNum != 0):\n",
    "\n",
    "        currentDigit = remainingNum % 10\n",
    "\n",
    "        reversedDigit = reversedDigit * 10 + currentDigit\n",
    "        remainingNum = remainingNum // 10\n",
    "\n",
    "    if reversedDigit == num:\n",
    "        print(\"True\")\n",
    "    else:\n",
    "        print(\"False\")"
   ]
  },
  {
   "cell_type": "code",
   "execution_count": 16,
   "id": "f9e1c203",
   "metadata": {},
   "outputs": [
    {
     "name": "stdout",
     "output_type": "stream",
     "text": [
      "True\n"
     ]
    }
   ],
   "source": [
    "is_symmetrical(3223)"
   ]
  },
  {
   "cell_type": "code",
   "execution_count": 18,
   "id": "d93d21c7",
   "metadata": {},
   "outputs": [
    {
     "name": "stdout",
     "output_type": "stream",
     "text": [
      "False\n"
     ]
    }
   ],
   "source": [
    "is_symmetrical(3214)"
   ]
  },
  {
   "cell_type": "markdown",
   "id": "3afe6626",
   "metadata": {},
   "source": [
    "### Question 2\n",
    "\n",
    "\n",
    "### Given a string of numbers separated by a comma and space, return the product of the numbers.\n",
    "\n",
    "\n",
    "### Examples\n",
    "\n",
    "\n",
    "### multiply_nums(\"2, 3\") ➞ 6\n",
    "\n",
    "\n",
    "### multiply_nums(\"1, 2, 3, 4\") ➞ 24\n",
    "\n",
    "\n",
    "### multiply_nums(\"54, 75, 453, 0\") ➞ 0\n",
    "\n",
    "\n",
    "### multiply_nums(\"10, -2\") ➞ -20"
   ]
  },
  {
   "cell_type": "markdown",
   "id": "911e6d11",
   "metadata": {},
   "source": [
    "#### SOLUTION:"
   ]
  },
  {
   "cell_type": "code",
   "execution_count": 1,
   "id": "298e4765",
   "metadata": {},
   "outputs": [],
   "source": [
    "def multiply_nums(s):\n",
    "    s = s.replace(' ', \"\")\n",
    "    s = s.split(',')\n",
    "    sum = 1\n",
    "    for i in s:\n",
    "        sum = sum * int(i)\n",
    "    return sum"
   ]
  },
  {
   "cell_type": "code",
   "execution_count": 2,
   "id": "cb10c3e0",
   "metadata": {},
   "outputs": [
    {
     "data": {
      "text/plain": [
       "6000"
      ]
     },
     "execution_count": 2,
     "metadata": {},
     "output_type": "execute_result"
    }
   ],
   "source": [
    "multiply_nums('10,20,30')"
   ]
  },
  {
   "cell_type": "code",
   "execution_count": 3,
   "id": "241c7ff3",
   "metadata": {},
   "outputs": [
    {
     "data": {
      "text/plain": [
       "0"
      ]
     },
     "execution_count": 3,
     "metadata": {},
     "output_type": "execute_result"
    }
   ],
   "source": [
    "multiply_nums('0,6,57')"
   ]
  },
  {
   "cell_type": "markdown",
   "id": "2e5249f7",
   "metadata": {},
   "source": [
    "### Question 3\n",
    "\n",
    "\n",
    "### Create a function that squares every digit of a number.\n",
    "\n",
    "\n",
    "### Examples\n",
    "\n",
    "\n",
    "### square_digits(9119) ➞ 811181\n",
    "\n",
    "\n",
    "### square_digits(2483) ➞ 416649\n",
    "\n",
    "\n",
    "### square_digits(3212) ➞ 9414\n",
    "\n",
    "\n",
    "### Notes\n",
    "\n",
    "\n",
    "### The function receives an integer and must return an integer."
   ]
  },
  {
   "cell_type": "markdown",
   "id": "a65625c7",
   "metadata": {},
   "source": [
    "#### SOLUTION:"
   ]
  },
  {
   "cell_type": "code",
   "execution_count": 4,
   "id": "e30f2b22",
   "metadata": {},
   "outputs": [],
   "source": [
    "def square_digits(num):\n",
    "    z = ''.join(str(int(i)**2) for i in str(num))\n",
    "    return int(z)"
   ]
  },
  {
   "cell_type": "code",
   "execution_count": 5,
   "id": "06e72308",
   "metadata": {},
   "outputs": [
    {
     "data": {
      "text/plain": [
       "4916"
      ]
     },
     "execution_count": 5,
     "metadata": {},
     "output_type": "execute_result"
    }
   ],
   "source": [
    "square_digits(234)"
   ]
  },
  {
   "cell_type": "markdown",
   "id": "146ac572",
   "metadata": {},
   "source": [
    "### Question 4\n",
    "\n",
    "\n",
    "### Create a function that sorts a list and removes all duplicate items from it.\n",
    "\n",
    "\n",
    "### Examples\n",
    "\n",
    "\n",
    "### setify([1, 3, 3, 5, 5]) ➞ [1, 3, 5]\n",
    "\n",
    "\n",
    "### setify([4, 4, 4, 4]) ➞ [4]\n",
    "\n",
    "\n",
    "### setify([5, 7, 8, 9, 10, 15]) ➞ [5, 7, 8, 9, 10, 15]\n",
    "\n",
    "\n",
    "### setify([3, 3, 3, 2, 1]) ➞ [1, 2, 3]"
   ]
  },
  {
   "cell_type": "markdown",
   "id": "18d2f84c",
   "metadata": {},
   "source": [
    "#### SOLUTION:"
   ]
  },
  {
   "cell_type": "code",
   "execution_count": 6,
   "id": "bf614d77",
   "metadata": {},
   "outputs": [],
   "source": [
    "def setify(lst):\n",
    "    return list(set(lst))"
   ]
  },
  {
   "cell_type": "code",
   "execution_count": 8,
   "id": "d83933eb",
   "metadata": {},
   "outputs": [
    {
     "data": {
      "text/plain": [
       "[0, 2, 3, 4, 5, 7, 9, 11]"
      ]
     },
     "execution_count": 8,
     "metadata": {},
     "output_type": "execute_result"
    }
   ],
   "source": [
    "setify([5,5,3,4,7,7,9,0,11,2])"
   ]
  },
  {
   "cell_type": "markdown",
   "id": "a3496177",
   "metadata": {},
   "source": [
    "### Question 5\n",
    "\n",
    "\n",
    "### Create a function that returns the mean of all digits.\n",
    "\n",
    "\n",
    "### Examples\n",
    "\n",
    "\n",
    "### mean(42) ➞ 3\n",
    "\n",
    "\n",
    "### mean(12345) ➞ 3\n",
    "\n",
    "\n",
    "### mean(666) ➞ 6\n",
    "\n",
    "\n",
    "### Notes\n",
    "\n",
    "\n",
    "### • The mean of all digits is the sum of digits / how many digits there are (e.g. mean of digits in 512 is (5+1+2)/3(number of digits) = 8/3=2).\n",
    "\n",
    "\n",
    "### • The mean will always be an integer."
   ]
  },
  {
   "cell_type": "markdown",
   "id": "fb0b886d",
   "metadata": {},
   "source": [
    "#### SOLUTION:"
   ]
  },
  {
   "cell_type": "code",
   "execution_count": 9,
   "id": "0fc176f2",
   "metadata": {},
   "outputs": [],
   "source": [
    "def mean(n): \n",
    "    N = len(str(n)) \n",
    "    sum = mean = 0\n",
    "    \n",
    "    for digit in str(n):\n",
    "        sum += int(digit)       \n",
    "    return int(sum/N)"
   ]
  },
  {
   "cell_type": "code",
   "execution_count": 10,
   "id": "a2e2764b",
   "metadata": {},
   "outputs": [
    {
     "data": {
      "text/plain": [
       "4"
      ]
     },
     "execution_count": 10,
     "metadata": {},
     "output_type": "execute_result"
    }
   ],
   "source": [
    "mean(345)"
   ]
  },
  {
   "cell_type": "code",
   "execution_count": 11,
   "id": "79b2af12",
   "metadata": {},
   "outputs": [
    {
     "data": {
      "text/plain": [
       "6"
      ]
     },
     "execution_count": 11,
     "metadata": {},
     "output_type": "execute_result"
    }
   ],
   "source": [
    "mean(667)"
   ]
  },
  {
   "cell_type": "code",
   "execution_count": 12,
   "id": "b06f996e",
   "metadata": {},
   "outputs": [
    {
     "data": {
      "text/plain": [
       "4"
      ]
     },
     "execution_count": 12,
     "metadata": {},
     "output_type": "execute_result"
    }
   ],
   "source": [
    "mean(305678)"
   ]
  }
 ],
 "metadata": {
  "kernelspec": {
   "display_name": "Python 3 (ipykernel)",
   "language": "python",
   "name": "python3"
  },
  "language_info": {
   "codemirror_mode": {
    "name": "ipython",
    "version": 3
   },
   "file_extension": ".py",
   "mimetype": "text/x-python",
   "name": "python",
   "nbconvert_exporter": "python",
   "pygments_lexer": "ipython3",
   "version": "3.9.7"
  }
 },
 "nbformat": 4,
 "nbformat_minor": 5
}
