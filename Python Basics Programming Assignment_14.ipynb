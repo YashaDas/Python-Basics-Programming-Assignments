{
 "cells": [
  {
   "cell_type": "markdown",
   "id": "fa74aeb3",
   "metadata": {},
   "source": [
    "# Python Basics Programming Assignment_14"
   ]
  },
  {
   "cell_type": "markdown",
   "id": "669eee49",
   "metadata": {},
   "source": [
    "### Question 1:\n",
    "\n",
    "\n",
    "### Define a class with a generator which can iterate the numbers, which are divisible by 7, between a given range 0 and n."
   ]
  },
  {
   "cell_type": "markdown",
   "id": "896ea845",
   "metadata": {},
   "source": [
    "#### SOLUTION: "
   ]
  },
  {
   "cell_type": "code",
   "execution_count": 1,
   "id": "bdf21dbc",
   "metadata": {},
   "outputs": [
    {
     "name": "stdout",
     "output_type": "stream",
     "text": [
      "0\n",
      "7\n",
      "14\n",
      "21\n",
      "28\n",
      "35\n",
      "42\n",
      "49\n",
      "56\n",
      "63\n",
      "70\n",
      "77\n",
      "84\n",
      "91\n",
      "98\n"
     ]
    }
   ],
   "source": [
    "class iterator(object):\n",
    "    def __init__(self, n):\n",
    "        self.n = n\n",
    "    \n",
    "    def divBySeven(self):\n",
    "        for i in range(0, self.n):\n",
    "            if i % 7 == 0:\n",
    "                yield i\n",
    "\n",
    "for num in iterator(100).divBySeven():\n",
    "    print(num)"
   ]
  },
  {
   "cell_type": "markdown",
   "id": "a7830578",
   "metadata": {},
   "source": [
    "### Question 2:\n",
    "    \n",
    "    \n",
    "### Write a program to compute the frequency of the words from the input. The output should output after sorting the key alphanumerically. \n",
    "\n",
    "### Suppose the following input is supplied to the program:\n",
    "\n",
    "### New to Python or choosing between Python 2 and Python 3? Read Python 2 or Python 3.\n",
    "\n",
    "### Then, the output should be:\n",
    "\n",
    "### 2:2\n",
    "\n",
    "### 3.:1\n",
    "\n",
    "### 3?:1\n",
    "\n",
    "### New:1\n",
    "\n",
    "### Python:5\n",
    "\n",
    "### Read:1\n",
    "\n",
    "### and:1\n",
    "\n",
    "### between:1\n",
    "\n",
    "### choosing:1\n",
    "\n",
    "### or:2\n",
    "\n",
    "### to:1"
   ]
  },
  {
   "cell_type": "markdown",
   "id": "fe091f39",
   "metadata": {},
   "source": [
    "#### SOLUTION:  "
   ]
  },
  {
   "cell_type": "code",
   "execution_count": 2,
   "id": "d6f7682e",
   "metadata": {},
   "outputs": [
    {
     "name": "stdout",
     "output_type": "stream",
     "text": [
      "A horse is a horse, of course, of course, And no one can talk to a horse of course, That is, of course, unless the horse is the famous Mr. Ed.\n",
      "A:1\n",
      "And:1\n",
      "Ed.:1\n",
      "Mr.:1\n",
      "That:1\n",
      "a:2\n",
      "can:1\n",
      "course,:4\n",
      "famous:1\n",
      "horse:3\n",
      "horse,:1\n",
      "is:2\n",
      "is,:1\n",
      "no:1\n",
      "of:4\n",
      "one:1\n",
      "talk:1\n",
      "the:2\n",
      "to:1\n",
      "unless:1\n"
     ]
    }
   ],
   "source": [
    "ss = input().split()\n",
    "word = sorted(set(ss))     # split words are stored and sorted as a set\n",
    "\n",
    "for i in word:\n",
    "    print(\"{0}:{1}\".format(i,ss.count(i)))"
   ]
  },
  {
   "cell_type": "markdown",
   "id": "5caff4d0",
   "metadata": {},
   "source": [
    "### Question 3:\n",
    "\n",
    "\n",
    "### Define a class Person and its two child classes: Male and Female. All classes have a method \"getGender\" which can print \"Male\" for Male class and \"Female\" for Female class."
   ]
  },
  {
   "cell_type": "markdown",
   "id": "fba6c5de",
   "metadata": {},
   "source": [
    "#### SOLUTION:  "
   ]
  },
  {
   "cell_type": "code",
   "execution_count": 3,
   "id": "69f65639",
   "metadata": {},
   "outputs": [
    {
     "name": "stdout",
     "output_type": "stream",
     "text": [
      "Male\n",
      "Female\n"
     ]
    }
   ],
   "source": [
    "class Person(object):\n",
    "    def getGender(self):\n",
    "        return \"Unknown\"\n",
    "\n",
    "class Male(Person):\n",
    "    def getGender(self):\n",
    "        return \"Male\"\n",
    "\n",
    "class Female(Person):\n",
    "    def getGender(self):\n",
    "        return \"Female\"\n",
    "\n",
    "M = Male()\n",
    "F= Female()\n",
    "print(M.getGender())\n",
    "print(F.getGender())"
   ]
  },
  {
   "cell_type": "markdown",
   "id": "29e9df61",
   "metadata": {},
   "source": [
    "### Question 4:\n",
    "    \n",
    "    \n",
    "### Please write a program to generate all sentences where subject is in [\"I\", \"You\"] and verb is in [\"Play\", \"Love\"] and the object is in [\"Hockey\",\"Football\"]."
   ]
  },
  {
   "cell_type": "markdown",
   "id": "22499635",
   "metadata": {},
   "source": [
    "#### SOLUTION:  "
   ]
  },
  {
   "cell_type": "code",
   "execution_count": 4,
   "id": "8b2d63d3",
   "metadata": {},
   "outputs": [
    {
     "name": "stdout",
     "output_type": "stream",
     "text": [
      "I Play Hockey\n",
      "I Play Football\n",
      "I Love Hockey\n",
      "I Love Football\n",
      "You Play Hockey\n",
      "You Play Football\n",
      "You Love Hockey\n",
      "You Love Football\n"
     ]
    }
   ],
   "source": [
    "subjects=[\"I\", \"You\"]\n",
    "verbs=[\"Play\", \"Love\"]\n",
    "objects=[\"Hockey\",\"Football\"]\n",
    "\n",
    "for sub in subjects:\n",
    "    for verb in verbs:\n",
    "        for obj in objects:\n",
    "            print(\"{} {} {}\".format(sub,verb,obj))"
   ]
  },
  {
   "cell_type": "markdown",
   "id": "71d6118a",
   "metadata": {},
   "source": [
    "### Question 5:\n",
    "    \n",
    "    \n",
    "### Please write a program to compress and decompress the string \"hello world!hello world!hello world!hello world!\"."
   ]
  },
  {
   "cell_type": "markdown",
   "id": "b45627f1",
   "metadata": {},
   "source": [
    "#### SOLUTION:  "
   ]
  },
  {
   "cell_type": "code",
   "execution_count": 5,
   "id": "393de26b",
   "metadata": {},
   "outputs": [
    {
     "name": "stdout",
     "output_type": "stream",
     "text": [
      "b'x\\x9c\\xcbH\\xcd\\xc9\\xc9W(\\xcf/\\xcaIQ\\xcc \\x82\\r\\x00\\xbd[\\x11\\xf5'\n",
      "b'hello world!hello world!hello world!hello world!'\n"
     ]
    }
   ],
   "source": [
    "import zlib\n",
    "sentence = 'hello world!hello world!hello world!hello world!'.encode()\n",
    "compress_sentence = zlib.compress(sentence)\n",
    "print(compress_sentence)\n",
    "print(zlib.decompress(compress_sentence))"
   ]
  },
  {
   "cell_type": "markdown",
   "id": "6f1ac6e0",
   "metadata": {},
   "source": [
    "### Question 6:\n",
    "    \n",
    "    \n",
    "### Please write a binary search function which searches an item in a sorted list. The function should return the index of element to be searched in the list."
   ]
  },
  {
   "cell_type": "markdown",
   "id": "80f2afd2",
   "metadata": {},
   "source": [
    "#### SOLUTION:  "
   ]
  },
  {
   "cell_type": "code",
   "execution_count": 6,
   "id": "f6d55f2a",
   "metadata": {},
   "outputs": [
    {
     "name": "stdout",
     "output_type": "stream",
     "text": [
      "Element is present at index 7\n"
     ]
    }
   ],
   "source": [
    "# Iterative Binary Search Function method Python Implementation\n",
    "# It returns index of n in given list1 if present,else returns -1   \n",
    "\n",
    "def binary_search(list1, n):  \n",
    "    low = 0  \n",
    "    high = len(list1) - 1  \n",
    "    mid = 0  \n",
    "  \n",
    "    while low <= high:  \n",
    "        # for get integer result   \n",
    "        mid = (high + low) // 2  \n",
    "  \n",
    "        # Check if n is present at mid   \n",
    "        if list1[mid] < n:  \n",
    "            low = mid + 1  \n",
    "  \n",
    "        # If n is greater, compare to the right of mid   \n",
    "        elif list1[mid] > n:  \n",
    "            high = mid - 1  \n",
    "  \n",
    "        # If n is smaller, compared to the left of mid  \n",
    "        else:  \n",
    "            return mid  \n",
    "  \n",
    "            # element was not present in the list, return -1  \n",
    "    return -1  \n",
    "  \n",
    "list1 = [0, 10, 20, 30, 40, 50, 60, 70, 80, 90, 100]  \n",
    "n = 70  \n",
    " \n",
    "result = binary_search(list1, n)  \n",
    "  \n",
    "if result != -1:  \n",
    "    print(\"Element is present at index\", str(result))  \n",
    "else:  \n",
    "    print(\"Element is not present in list1\")  "
   ]
  }
 ],
 "metadata": {
  "kernelspec": {
   "display_name": "Python 3 (ipykernel)",
   "language": "python",
   "name": "python3"
  },
  "language_info": {
   "codemirror_mode": {
    "name": "ipython",
    "version": 3
   },
   "file_extension": ".py",
   "mimetype": "text/x-python",
   "name": "python",
   "nbconvert_exporter": "python",
   "pygments_lexer": "ipython3",
   "version": "3.9.7"
  }
 },
 "nbformat": 4,
 "nbformat_minor": 5
}
