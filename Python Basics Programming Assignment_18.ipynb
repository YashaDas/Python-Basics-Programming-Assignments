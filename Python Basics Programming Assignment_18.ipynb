{
 "cells": [
  {
   "cell_type": "markdown",
   "id": "c212edec",
   "metadata": {},
   "source": [
    "# Python Basics Programming Assignment_18"
   ]
  },
  {
   "cell_type": "markdown",
   "id": "9946f961",
   "metadata": {},
   "source": [
    "### Question 1\n",
    "\n",
    "\n",
    "### Create a function that takes a list of non-negative integers and strings and return a new list without the strings.\n",
    "\n",
    "\n",
    "### Examples\n",
    "\n",
    "\n",
    "### filter_list([1, 2, \"a\", \"b\"]) ➞ [1, 2]\n",
    "\n",
    "\n",
    "### filter_list([1, \"a\", \"b\", 0, 15]) ➞ [1, 0, 15]\n",
    "\n",
    "\n",
    "### filter_list([1, 2, \"aasf\", \"1\", \"123\", 123]) ➞ [1, 2, 123]"
   ]
  },
  {
   "cell_type": "markdown",
   "id": "daebc037",
   "metadata": {},
   "source": [
    "#### SOLUTION: "
   ]
  },
  {
   "cell_type": "code",
   "execution_count": 3,
   "id": "859693a9",
   "metadata": {},
   "outputs": [
    {
     "name": "stdout",
     "output_type": "stream",
     "text": [
      "[123, 0, 1, 2, 7, 15]\n"
     ]
    }
   ],
   "source": [
    "l = ['1', '2', \"a\", \"b\", \"123\", 123, \"aeiou\", 0, 1, 2, 7, 15]\n",
    "\n",
    "def filter_list(l):\n",
    "    new_list = []\n",
    "    for x in l:\n",
    "        if type(x) == int:\n",
    "            new_list.append(x)\n",
    "    return new_list\n",
    "\n",
    "print(filter_list(l))"
   ]
  },
  {
   "cell_type": "markdown",
   "id": "4a4da315",
   "metadata": {},
   "source": [
    "### Question 2\n",
    "\n",
    "\n",
    "### The \"Reverser\" takes a string as input and returns that string in reverse order, with the opposite case.\n",
    "\n",
    "\n",
    "### Examples\n",
    "\n",
    "\n",
    "### reverse(\"Hello World\") ➞ \"DLROw OLLEh\"\n",
    "\n",
    "\n",
    "### reverse(\"ReVeRsE\") ➞ \"eSrEvEr\"\n",
    "\n",
    "\n",
    "### reverse(\"Radar\") ➞ \"RADAr\""
   ]
  },
  {
   "cell_type": "markdown",
   "id": "dcae5b6e",
   "metadata": {},
   "source": [
    "#### SOLUTION:  "
   ]
  },
  {
   "cell_type": "code",
   "execution_count": 4,
   "id": "983ce9cd",
   "metadata": {},
   "outputs": [
    {
     "name": "stdout",
     "output_type": "stream",
     "text": [
      "REDRo ESREVEr\n"
     ]
    }
   ],
   "source": [
    "def reverse(str):\n",
    "    str = str[::-1]\n",
    "    return str.swapcase()\n",
    "    \n",
    "print(reverse('Reverse Order'))"
   ]
  },
  {
   "cell_type": "markdown",
   "id": "ff7556c1",
   "metadata": {},
   "source": [
    "### Question 3\n",
    "\n",
    "\n",
    "### You can assign variables from lists like this:\n",
    "    \n",
    "    \n",
    "#### lst = [1, 2, 3, 4, 5, 6]\n",
    "\n",
    "\n",
    "#### first = lst[0]\n",
    "\n",
    "\n",
    "#### middle = lst[1:-1]\n",
    "\n",
    "\n",
    "#### last = lst[-1]\n",
    "\n",
    "\n",
    "#### print(first) ➞ outputs 1\n",
    "\n",
    "\n",
    "#### print(middle) ➞ outputs [2, 3, 4, 5]\n",
    "\n",
    "\n",
    "#### print(last) ➞ outputs 6\n",
    "\n",
    "\n",
    "### With Python 3, you can assign variables from lists in a much more succinct way. Create variables first, middle and last from the given list using destructuring assignment (check the Resources tab for some examples), where:\n",
    "\n",
    "    \n",
    "#### first  ➞ 1\n",
    "\n",
    "\n",
    "#### middle ➞ [2, 3, 4, 5]\n",
    "\n",
    "\n",
    "#### last ➞ 6\n",
    "\n",
    "\n",
    "### Your task is to unpack the list writeyourcodehere into three variables, being first, middle, and last, with middle being everything in between the first and last element. Then print all three variables."
   ]
  },
  {
   "cell_type": "markdown",
   "id": "d1225fb1",
   "metadata": {},
   "source": [
    "#### SOLUTION:  "
   ]
  },
  {
   "cell_type": "code",
   "execution_count": 5,
   "id": "d4bb4572",
   "metadata": {},
   "outputs": [
    {
     "data": {
      "text/plain": [
       "[2, 3, 4, 5]"
      ]
     },
     "execution_count": 5,
     "metadata": {},
     "output_type": "execute_result"
    }
   ],
   "source": [
    "lst = [1, 2, 3, 4, 5, 6]\n",
    "first ,*middle,last = lst\n",
    "middle"
   ]
  },
  {
   "cell_type": "code",
   "execution_count": 6,
   "id": "d41d3b22",
   "metadata": {},
   "outputs": [
    {
     "data": {
      "text/plain": [
       "1"
      ]
     },
     "execution_count": 6,
     "metadata": {},
     "output_type": "execute_result"
    }
   ],
   "source": [
    "first"
   ]
  },
  {
   "cell_type": "code",
   "execution_count": 7,
   "id": "934e8876",
   "metadata": {},
   "outputs": [
    {
     "data": {
      "text/plain": [
       "6"
      ]
     },
     "execution_count": 7,
     "metadata": {},
     "output_type": "execute_result"
    }
   ],
   "source": [
    "last"
   ]
  },
  {
   "cell_type": "markdown",
   "id": "9e0752ed",
   "metadata": {},
   "source": [
    "### Question 4\n",
    "\n",
    "\n",
    "### Write a function that calculates the factorial of a number recursively.\n",
    "\n",
    "\n",
    "### Examples\n",
    "\n",
    "\n",
    "### factorial(5) ➞ 120\n",
    "\n",
    "\n",
    "### factorial(3) ➞ 6\n",
    "\n",
    "\n",
    "### factorial(1) ➞ 1\n",
    "\n",
    "\n",
    "### factorial(0) ➞ 1"
   ]
  },
  {
   "cell_type": "markdown",
   "id": "991e8e16",
   "metadata": {},
   "source": [
    "#### SOLUTION:  "
   ]
  },
  {
   "cell_type": "code",
   "execution_count": 8,
   "id": "60fb21b0",
   "metadata": {},
   "outputs": [
    {
     "name": "stdout",
     "output_type": "stream",
     "text": [
      "enter a number :10\n",
      "Factorial of 10 is 3628800\n"
     ]
    }
   ],
   "source": [
    "def factorial(n):     \n",
    "    if n == 0:\n",
    "        return 1    \n",
    "    return n * factorial(n-1)\n",
    "\n",
    "num = int(input('enter a number :'))\n",
    "print(\"Factorial of\", num, \"is\", factorial(num))"
   ]
  },
  {
   "cell_type": "markdown",
   "id": "39ed5410",
   "metadata": {},
   "source": [
    "### Question 5\n",
    "\n",
    "\n",
    "### Write a function that moves all elements of one type to the end of the list.\n",
    "\n",
    "\n",
    "### Examples\n",
    "\n",
    "\n",
    "### move_to_end([1, 3, 2, 4, 4, 1], 1) ➞ [3, 2, 4, 4, 1, 1]\n",
    "\n",
    "##### Move all the 1s to the end of the array.\n",
    "\n",
    "\n",
    "### move_to_end([7, 8, 9, 1, 2, 3, 4], 9) ➞ [7, 8, 1, 2, 3, 4, 9]\n",
    "\n",
    "\n",
    "### move_to_end([\"a\", \"a\", \"a\", \"b\"], \"a\") ➞ [\"b\", \"a\", \"a\", \"a\"]"
   ]
  },
  {
   "cell_type": "markdown",
   "id": "85bf6329",
   "metadata": {},
   "source": [
    "#### SOLUTION:  "
   ]
  },
  {
   "cell_type": "code",
   "execution_count": 9,
   "id": "4dc699c7",
   "metadata": {},
   "outputs": [],
   "source": [
    "def move_to_end(array, toMove):\n",
    "     \n",
    "    i = 0\n",
    " \n",
    "    \n",
    "    j = len(array) - 1\n",
    "  \n",
    "   \n",
    "    while (i < j):\n",
    "  \n",
    "        while (i < j and array[j] == toMove):\n",
    "  \n",
    "           \n",
    "            j-=1\n",
    "  \n",
    "        if (array[i] == toMove):\n",
    "  \n",
    "            # swap the two elements\n",
    "            # in the array\n",
    "            array[i], array[j] = array[j] , array[i]\n",
    "  \n",
    "       \n",
    "        i += 1\n",
    "  \n",
    "    # return the result\n",
    "    return array"
   ]
  },
  {
   "cell_type": "code",
   "execution_count": 10,
   "id": "44eee1a1",
   "metadata": {},
   "outputs": [
    {
     "name": "stdout",
     "output_type": "stream",
     "text": [
      "7 8 3 1 2 9 9 "
     ]
    }
   ],
   "source": [
    "arr = [7, 8, 9, 1, 2, 3, 9]\n",
    "a = 9\n",
    "ans = move_to_end(arr, a)\n",
    "for i in range(len(arr)):\n",
    "    print(ans[i] ,end= \" \")"
   ]
  },
  {
   "cell_type": "code",
   "execution_count": 11,
   "id": "186b753c",
   "metadata": {},
   "outputs": [
    {
     "name": "stdout",
     "output_type": "stream",
     "text": [
      "d c b b a a a a "
     ]
    }
   ],
   "source": [
    "arr = ['a', 'a', 'a', 'b', 'b', 'c', 'd', 'a']\n",
    "k = 'a'\n",
    "ans = move_to_end(arr, k)\n",
    "for i in range(len(arr)):\n",
    "    print(ans[i] ,end= \" \")"
   ]
  }
 ],
 "metadata": {
  "kernelspec": {
   "display_name": "Python 3 (ipykernel)",
   "language": "python",
   "name": "python3"
  },
  "language_info": {
   "codemirror_mode": {
    "name": "ipython",
    "version": 3
   },
   "file_extension": ".py",
   "mimetype": "text/x-python",
   "name": "python",
   "nbconvert_exporter": "python",
   "pygments_lexer": "ipython3",
   "version": "3.9.7"
  }
 },
 "nbformat": 4,
 "nbformat_minor": 5
}
