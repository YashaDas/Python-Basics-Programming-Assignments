{
 "cells": [
  {
   "cell_type": "markdown",
   "id": "6c281a8a",
   "metadata": {},
   "source": [
    "# Python Basics Programming Assignment_5"
   ]
  },
  {
   "cell_type": "markdown",
   "id": "c819a4c2",
   "metadata": {},
   "source": [
    "### 1. Write a Python Program to Find LCM?"
   ]
  },
  {
   "cell_type": "markdown",
   "id": "c6af8ec2",
   "metadata": {},
   "source": [
    "##### SOLUTION: "
   ]
  },
  {
   "cell_type": "code",
   "execution_count": 1,
   "id": "1f9f2f94",
   "metadata": {},
   "outputs": [
    {
     "name": "stdout",
     "output_type": "stream",
     "text": [
      "Enter first number: 34\n",
      "Enter second number: 62\n",
      "The L.C.M. of 34 and 62 is 1054\n"
     ]
    }
   ],
   "source": [
    "# Python Program to Find LCM\n",
    "\n",
    "# define a function\n",
    "def lcm(x, y):\n",
    "    # choose the greater number\n",
    "    if x > y:  \n",
    "        greater = x  \n",
    "    else:  \n",
    "        greater = y  \n",
    "    while(True):  \n",
    "        if((greater % x == 0) and (greater % y == 0)):  \n",
    "            lcm = greater  \n",
    "            break  \n",
    "        greater += 1  \n",
    "    return lcm  \n",
    "  \n",
    "num1 = int(input(\"Enter first number: \"))  \n",
    "num2 = int(input(\"Enter second number: \"))  \n",
    "print(\"The L.C.M. of\", num1,\"and\", num2,\"is\", lcm(num1, num2))"
   ]
  },
  {
   "cell_type": "markdown",
   "id": "f62e96c6",
   "metadata": {},
   "source": [
    "### 2. Write a Python Program to Find HCF?"
   ]
  },
  {
   "cell_type": "markdown",
   "id": "c8c26eb8",
   "metadata": {},
   "source": [
    "##### SOLUTION:  "
   ]
  },
  {
   "cell_type": "code",
   "execution_count": 2,
   "id": "2c154d80",
   "metadata": {},
   "outputs": [
    {
     "name": "stdout",
     "output_type": "stream",
     "text": [
      "Enter first number: 50\n",
      "Enter second number: 25\n",
      "The H.C.F. of 50 and 25 is 25\n"
     ]
    }
   ],
   "source": [
    "# Python Program to Find HCF\n",
    "\n",
    "# define a function\n",
    "def hcf(x, y):\n",
    "    # choose the smaller number\n",
    "    if x > y:  \n",
    "        smaller = y  \n",
    "    else:  \n",
    "        smaller = x  \n",
    "    for i in range(1,smaller + 1):  \n",
    "        if((x % i == 0) and (y % i == 0)):  \n",
    "            hcf = i  \n",
    "    return hcf  \n",
    "  \n",
    "num1 = int(input(\"Enter first number: \"))  \n",
    "num2 = int(input(\"Enter second number: \"))  \n",
    "print(\"The H.C.F. of\", num1,\"and\", num2,\"is\", hcf(num1, num2))  "
   ]
  },
  {
   "cell_type": "markdown",
   "id": "821420cd",
   "metadata": {},
   "source": [
    "### 3. Write a Python Program to Convert Decimal to Binary, Octal and Hexadecimal?"
   ]
  },
  {
   "cell_type": "markdown",
   "id": "9922bf19",
   "metadata": {},
   "source": [
    "##### SOLUTION: "
   ]
  },
  {
   "cell_type": "code",
   "execution_count": 4,
   "id": "2366cc06",
   "metadata": {},
   "outputs": [
    {
     "name": "stdout",
     "output_type": "stream",
     "text": [
      "Enter a decimal number: 70\n",
      "0b1000110 in binary.\n",
      "0o106 in octal.\n",
      "0x46 in hexadecimal.\n"
     ]
    }
   ],
   "source": [
    "# Python Program to Convert Decimal to Binary, Octal and Hexadecimal\n",
    "\n",
    "dec = int(input(\"Enter a decimal number: \"))  \n",
    "  \n",
    "print(bin(dec),\"in binary.\")  \n",
    "print(oct(dec),\"in octal.\")  \n",
    "print(hex(dec),\"in hexadecimal.\")\n",
    "\n",
    "# In this program, we have used built-in functions bin(), oct() and hex() \n",
    "# to convert the given decimal number into respective number systems.\n",
    "# These functions take an integer (in decimal) and return a string."
   ]
  },
  {
   "cell_type": "markdown",
   "id": "da4a9b3e",
   "metadata": {},
   "source": [
    "### 4. Write a Python Program To Find ASCII value of a character?"
   ]
  },
  {
   "cell_type": "markdown",
   "id": "7b8261d4",
   "metadata": {},
   "source": [
    "##### SOLUTION:  "
   ]
  },
  {
   "cell_type": "code",
   "execution_count": 7,
   "id": "bbf0eeee",
   "metadata": {},
   "outputs": [
    {
     "name": "stdout",
     "output_type": "stream",
     "text": [
      "Enter a character: H\n",
      "The ASCII value of 'H' is 72\n"
     ]
    }
   ],
   "source": [
    "# Python Program to find ASCII value of a character\n",
    "\n",
    "x = input(\"Enter a character: \")  \n",
    "print(\"The ASCII value of '\" + x + \"' is\", ord(x))\n",
    "\n",
    "# Here we have used ord() function to convert a character to an integer (ASCII value). \n",
    "# This function returns the Unicode code point of that character."
   ]
  },
  {
   "cell_type": "markdown",
   "id": "f24e873b",
   "metadata": {},
   "source": [
    "### 5. Write a Python Program to Make a Simple Calculator with 4 basic mathematical operations?"
   ]
  },
  {
   "cell_type": "markdown",
   "id": "55c7fc92",
   "metadata": {},
   "source": [
    "##### SOLUTION:  "
   ]
  },
  {
   "cell_type": "code",
   "execution_count": 9,
   "id": "e945cee5",
   "metadata": {},
   "outputs": [
    {
     "name": "stdout",
     "output_type": "stream",
     "text": [
      "Select operation.\n",
      "1.Add\n",
      "2.Subtract\n",
      "3.Multiply\n",
      "4.Divide\n",
      "Enter choice(1/2/3/4): 1\n",
      "Enter first number: 2\n",
      "Enter second number: 3\n",
      "2.0 + 3.0 = 5.0\n"
     ]
    }
   ],
   "source": [
    "# Python Program to Make a Simple Calculator with 4 basic mathematical operations\n",
    "\n",
    "# This function adds two numbers\n",
    "def add(x, y):\n",
    "    return x + y\n",
    "\n",
    "# This function subtracts two numbers\n",
    "def subtract(x, y):\n",
    "    return x - y\n",
    "\n",
    "# This function multiplies two numbers\n",
    "def multiply(x, y):\n",
    "    return x * y\n",
    "\n",
    "# This function divides two numbers\n",
    "def divide(x, y):\n",
    "    return x / y\n",
    "\n",
    "\n",
    "print(\"Select operation.\")\n",
    "print(\"1.Add\")\n",
    "print(\"2.Subtract\")\n",
    "print(\"3.Multiply\")\n",
    "print(\"4.Divide\")\n",
    "\n",
    "while True:\n",
    "    # Take input from the user\n",
    "    choice = input(\"Enter choice(1/2/3/4): \")\n",
    "\n",
    "    # Check if choice is one of the four options\n",
    "    if choice in ('1', '2', '3', '4'):\n",
    "        num1 = float(input(\"Enter first number: \"))\n",
    "        num2 = float(input(\"Enter second number: \"))\n",
    "\n",
    "        if choice == '1':\n",
    "            print(num1, \"+\", num2, \"=\", add(num1, num2))\n",
    "\n",
    "        elif choice == '2':\n",
    "            print(num1, \"-\", num2, \"=\", subtract(num1, num2))\n",
    "\n",
    "        elif choice == '3':\n",
    "            print(num1, \"*\", num2, \"=\", multiply(num1, num2))\n",
    "\n",
    "        elif choice == '4':\n",
    "            print(num1, \"/\", num2, \"=\", divide(num1, num2))\n",
    "        break\n",
    "    else:\n",
    "        print(\"Invalid Input\")"
   ]
  }
 ],
 "metadata": {
  "kernelspec": {
   "display_name": "Python 3 (ipykernel)",
   "language": "python",
   "name": "python3"
  },
  "language_info": {
   "codemirror_mode": {
    "name": "ipython",
    "version": 3
   },
   "file_extension": ".py",
   "mimetype": "text/x-python",
   "name": "python",
   "nbconvert_exporter": "python",
   "pygments_lexer": "ipython3",
   "version": "3.9.7"
  }
 },
 "nbformat": 4,
 "nbformat_minor": 5
}
