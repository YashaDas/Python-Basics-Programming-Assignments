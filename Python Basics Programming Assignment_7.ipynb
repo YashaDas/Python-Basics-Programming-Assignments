{
 "cells": [
  {
   "cell_type": "markdown",
   "id": "58b8479e",
   "metadata": {},
   "source": [
    "# Python Basics Programming Assignment_7"
   ]
  },
  {
   "cell_type": "markdown",
   "id": "981f07f3",
   "metadata": {},
   "source": [
    "### 1. Write a Python Program to find sum of array?"
   ]
  },
  {
   "cell_type": "markdown",
   "id": "1e1c529f",
   "metadata": {},
   "source": [
    "##### SOLUTION:"
   ]
  },
  {
   "cell_type": "code",
   "execution_count": 1,
   "id": "b5e1ab52",
   "metadata": {},
   "outputs": [
    {
     "name": "stdout",
     "output_type": "stream",
     "text": [
      "Sum of the array is  21\n"
     ]
    }
   ],
   "source": [
    "def sum(arr):\n",
    "    sum = 0\n",
    "    for i in arr:\n",
    "        sum = sum + i\n",
    "    return sum\n",
    "\n",
    "arr = []\n",
    "\n",
    "arr = [1,2,3,4,5,6]\n",
    "\n",
    "a = len(arr)\n",
    "b = sum(arr)\n",
    "\n",
    "print(\"Sum of the array is \", b)"
   ]
  },
  {
   "cell_type": "markdown",
   "id": "54824c9e",
   "metadata": {},
   "source": [
    "### 2. Write a Python Program to find largest element in an array?"
   ]
  },
  {
   "cell_type": "markdown",
   "id": "af3e130a",
   "metadata": {},
   "source": [
    "##### SOLUTION:"
   ]
  },
  {
   "cell_type": "code",
   "execution_count": 2,
   "id": "d9d70dd6",
   "metadata": {},
   "outputs": [
    {
     "name": "stdout",
     "output_type": "stream",
     "text": [
      "Largest element in the array is  700\n"
     ]
    }
   ],
   "source": [
    "def largest(arr,n):\n",
    "    max = arr[0]\n",
    "    for i in range(1,n):\n",
    "        if arr[i] > max:\n",
    "            max = arr[i]\n",
    "    return max\n",
    "\n",
    "arr = [35,26,49,53,100,700,123]\n",
    "\n",
    "n = len(arr)\n",
    "a = largest(arr,n)\n",
    "\n",
    "print(\"Largest element in the array is \", a)"
   ]
  },
  {
   "cell_type": "markdown",
   "id": "b33543f9",
   "metadata": {},
   "source": [
    "### 3. Write a Python Program for array rotation?"
   ]
  },
  {
   "cell_type": "markdown",
   "id": "bd2e8c99",
   "metadata": {},
   "source": [
    "##### SOLUTION:"
   ]
  },
  {
   "cell_type": "code",
   "execution_count": 5,
   "id": "71b07095",
   "metadata": {},
   "outputs": [
    {
     "name": "stdout",
     "output_type": "stream",
     "text": [
      "Array after rotation is:  [3, 4, 5, 6, 7, 1, 2]\n"
     ]
    }
   ],
   "source": [
    "def rotateArray(arr, n, d):\n",
    "    temp = []\n",
    "    i = 0\n",
    "    while (i < d):\n",
    "        temp.append(arr[i])\n",
    "        i = i + 1\n",
    "    i = 0\n",
    "    while (d < n):\n",
    "        arr[i] = arr[d]\n",
    "        i = i + 1\n",
    "        d = d + 1\n",
    "    arr[:] = arr[: i] + temp\n",
    "    return arr\n",
    "arr = [1, 2, 3, 4, 5, 6, 7]\n",
    "print(\"Array after rotation is: \", end=' ')\n",
    "print(rotateArray(arr, len(arr),2))"
   ]
  },
  {
   "cell_type": "markdown",
   "id": "565ec667",
   "metadata": {},
   "source": [
    "### 4. Write a Python Program to Split the array and add the first part to the end?"
   ]
  },
  {
   "cell_type": "markdown",
   "id": "622a1e28",
   "metadata": {},
   "source": [
    "##### SOLUTION:"
   ]
  },
  {
   "cell_type": "code",
   "execution_count": 6,
   "id": "f46f584e",
   "metadata": {},
   "outputs": [
    {
     "name": "stdout",
     "output_type": "stream",
     "text": [
      "55 62 523 360 12 10 "
     ]
    }
   ],
   "source": [
    "def splitArr(a, n, k): \n",
    "    b = a[:k]\n",
    "    return (a[k::]+b[::])\n",
    "          \n",
    "arr = [12, 10, 55, 62, 523, 360]\n",
    "n = len(arr)\n",
    "position = 2\n",
    "arr = splitArr(arr, n, position)\n",
    "for i in range(0, n): \n",
    "    print(arr[i], end = ' ')"
   ]
  },
  {
   "cell_type": "markdown",
   "id": "67901a49",
   "metadata": {},
   "source": [
    "### 5. Write a Python Program to check if given array is Monotonic?"
   ]
  },
  {
   "cell_type": "markdown",
   "id": "d84e1ece",
   "metadata": {},
   "source": [
    "##### SOLUTION:"
   ]
  },
  {
   "cell_type": "code",
   "execution_count": 7,
   "id": "fd4476fd",
   "metadata": {},
   "outputs": [
    {
     "name": "stdout",
     "output_type": "stream",
     "text": [
      "True\n"
     ]
    }
   ],
   "source": [
    "def isMonotonic(arr):\n",
    "  \n",
    "    return (all(arr[i] <= arr[i + 1] for i in range(len(arr) - 1)) or\n",
    "            all(arr[i] >= arr[i + 1] for i in range(len(arr) - 1)))\n",
    "  \n",
    "\n",
    "arr = [7,8,9,10,11,12,13,14,15]\n",
    "  \n",
    "\n",
    "print(isMonotonic(arr))"
   ]
  }
 ],
 "metadata": {
  "kernelspec": {
   "display_name": "Python 3 (ipykernel)",
   "language": "python",
   "name": "python3"
  },
  "language_info": {
   "codemirror_mode": {
    "name": "ipython",
    "version": 3
   },
   "file_extension": ".py",
   "mimetype": "text/x-python",
   "name": "python",
   "nbconvert_exporter": "python",
   "pygments_lexer": "ipython3",
   "version": "3.9.7"
  }
 },
 "nbformat": 4,
 "nbformat_minor": 5
}
