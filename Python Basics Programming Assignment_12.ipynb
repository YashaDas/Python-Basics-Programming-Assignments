{
 "cells": [
  {
   "cell_type": "markdown",
   "id": "0af820a9",
   "metadata": {},
   "source": [
    "# Python Basics Programming Assignment_12"
   ]
  },
  {
   "cell_type": "markdown",
   "id": "77c7277c",
   "metadata": {},
   "source": [
    "### 1. Write a Python program to Extract Unique values dictionary values?"
   ]
  },
  {
   "cell_type": "markdown",
   "id": "2f5c8def",
   "metadata": {},
   "source": [
    "##### SOLUTION: "
   ]
  },
  {
   "cell_type": "code",
   "execution_count": 1,
   "id": "af888124",
   "metadata": {},
   "outputs": [
    {
     "name": "stdout",
     "output_type": "stream",
     "text": [
      "The original dictionary is : {'abc': [5, 6, 7, 8], 'def': [10, 11, 7, 5], 'xyz': [6, 12, 10, 8], 'lmn': [1, 2, 5]}\n",
      "The unique values list is : [1, 2, 5, 6, 7, 8, 10, 11, 12]\n"
     ]
    }
   ],
   "source": [
    "# Python program to Extract Unique values dictionary values\n",
    "\n",
    "dict_values = {'abc' : [5, 6, 7, 8], 'def' : [10, 11, 7, 5], 'xyz' : [6, 12, 10, 8], 'lmn' : [1, 2, 5]}\n",
    "  \n",
    "print(\"The original dictionary is : \" + str(dict_values))\n",
    "  \n",
    "# Extract Unique values dictionary values\n",
    "# Using set comprehension + values() + sorted()\n",
    "unique_values = list(sorted({i for val in dict_values.values() for i in val}))\n",
    "  \n",
    "print(\"The unique values list is : \" + str(unique_values)) "
   ]
  },
  {
   "cell_type": "markdown",
   "id": "09981f96",
   "metadata": {},
   "source": [
    "### 2. Write a Python program to find the sum of all items in a dictionary?"
   ]
  },
  {
   "cell_type": "markdown",
   "id": "f37d7510",
   "metadata": {},
   "source": [
    "##### SOLUTION:  "
   ]
  },
  {
   "cell_type": "code",
   "execution_count": 2,
   "id": "dc71c685",
   "metadata": {},
   "outputs": [
    {
     "name": "stdout",
     "output_type": "stream",
     "text": [
      "Sum of all items in dictionary : 1200\n"
     ]
    }
   ],
   "source": [
    "# Python Program to find the sum of all items in a Dictionary\n",
    "  \n",
    "def Sum_all_items(dict):\n",
    "    sum = 0\n",
    "    for i in dict.values():\n",
    "        sum = sum + i\n",
    "    return sum\n",
    "  \n",
    "dict = {'x': 200, 'y': 700, 'z': 300}\n",
    "print(\"Sum of all items in dictionary :\", Sum_all_items(dict))"
   ]
  },
  {
   "cell_type": "markdown",
   "id": "3bfa258a",
   "metadata": {},
   "source": [
    "### 3. Write a Python program to Merging two Dictionaries?"
   ]
  },
  {
   "cell_type": "markdown",
   "id": "babb02f6",
   "metadata": {},
   "source": [
    "##### SOLUTION:  "
   ]
  },
  {
   "cell_type": "code",
   "execution_count": 3,
   "id": "5fa60d19",
   "metadata": {},
   "outputs": [
    {
     "name": "stdout",
     "output_type": "stream",
     "text": [
      "{'a': 20, 'b': 40, 'c': 60, 'd': 5, 'e': 10, 'f': 15}\n"
     ]
    }
   ],
   "source": [
    "# Python program to Merging two Dictionaries\n",
    "\n",
    "dict1 = {'a' : 20, 'b' : 40, 'c' : 60}\n",
    "dict2 = {'d' : 5, 'e' : 10, 'f' : 15}\n",
    "\n",
    "# Using update() method to merge two dictionaries\n",
    "dict1.update(dict2)\n",
    "\n",
    "print(dict1)"
   ]
  },
  {
   "cell_type": "markdown",
   "id": "fe2936d6",
   "metadata": {},
   "source": [
    "### 4. Write a Python program to convert key-values list to flat dictionary?"
   ]
  },
  {
   "cell_type": "markdown",
   "id": "75e8dadd",
   "metadata": {},
   "source": [
    "##### SOLUTION:  "
   ]
  },
  {
   "cell_type": "code",
   "execution_count": 1,
   "id": "774c3216",
   "metadata": {},
   "outputs": [
    {
     "name": "stdout",
     "output_type": "stream",
     "text": [
      "The original dictionary is : {'month': [1, 2, 3, 4], 'name': ['Jan', 'Feb', 'March', 'April']}\n",
      "Flattened dictionary : {1: 'Jan', 2: 'Feb', 3: 'March', 4: 'April'}\n"
     ]
    }
   ],
   "source": [
    "# Python program to convert key-values list to flat dictionary\n",
    "\n",
    "# Using dict() + zip()\n",
    "from itertools import product\n",
    "  \n",
    "\n",
    "test_dict = {'month' : [1, 2, 3, 4],\n",
    "             'name' : ['Jan', 'Feb', 'March', 'April']}\n",
    "  \n",
    "\n",
    "print(\"The original dictionary is : \" + str(test_dict))\n",
    "  \n",
    "# Convert key-values list to flat dictionary\n",
    "\n",
    "# Using dict() + zip()\n",
    "month_name = dict(zip(test_dict['month'], test_dict['name']))\n",
    "  \n",
    "\n",
    "print(\"Flattened dictionary : \" + str(month_name))"
   ]
  },
  {
   "cell_type": "markdown",
   "id": "19cd4034",
   "metadata": {},
   "source": [
    "### 5. Write a Python program to insertion at the beginning in OrderedDict?"
   ]
  },
  {
   "cell_type": "markdown",
   "id": "838d4fa5",
   "metadata": {},
   "source": [
    "##### SOLUTION: "
   ]
  },
  {
   "cell_type": "code",
   "execution_count": 7,
   "id": "fdda38b5",
   "metadata": {},
   "outputs": [
    {
     "name": "stdout",
     "output_type": "stream",
     "text": [
      "OrderedDict([('lilylotus', '3'), ('middle', '1'), ('hellobye', '2')])\n"
     ]
    }
   ],
   "source": [
    "# Python program to insertion at the beginning in OrderedDict\n",
    "\n",
    "from collections import OrderedDict\n",
    "  \n",
    "iniordered_dict = OrderedDict([('middle','1'), ('hellobye','2')])\n",
    "  \n",
    "# inserting items at the beginning of dict \n",
    "iniordered_dict.update({'lilylotus':'3'})\n",
    "iniordered_dict.move_to_end('lilylotus', last = False)\n",
    "                       \n",
    "print (str(iniordered_dict))"
   ]
  },
  {
   "cell_type": "markdown",
   "id": "22281fb5",
   "metadata": {},
   "source": [
    "### 6. Write a Python program to check order of character in string using OrderedDict()?"
   ]
  },
  {
   "cell_type": "markdown",
   "id": "feac4ec9",
   "metadata": {},
   "source": [
    "##### SOLUTION: "
   ]
  },
  {
   "cell_type": "code",
   "execution_count": 9,
   "id": "c34d932b",
   "metadata": {},
   "outputs": [
    {
     "name": "stdout",
     "output_type": "stream",
     "text": [
      "true\n"
     ]
    }
   ],
   "source": [
    "# Python program to check order of character in string using OrderedDict()\n",
    "\n",
    "from collections import OrderedDict \n",
    "  \n",
    "def CheckOrder(input, pattern): \n",
    "    dict = OrderedDict.fromkeys(input) \n",
    "    pattern_length = 0\n",
    "    for key,value in dict.items(): \n",
    "        if (key == pattern[pattern_length]): \n",
    "            pattern_length = pattern_length + 1\n",
    "        if (pattern_length == (len(pattern))): \n",
    "            return 'true'\n",
    "    return 'false'\n",
    " \n",
    "if __name__ == \"__main__\": \n",
    "    input = 'data science'\n",
    "    pattern = 'dat'\n",
    "    print (CheckOrder(input,pattern)) "
   ]
  },
  {
   "cell_type": "markdown",
   "id": "500fef24",
   "metadata": {},
   "source": [
    "### 7. Write a Python program to sort Python Dictionaries by Key or Value?"
   ]
  },
  {
   "cell_type": "markdown",
   "id": "4fd20cac",
   "metadata": {},
   "source": [
    "##### SOLUTION:  "
   ]
  },
  {
   "cell_type": "code",
   "execution_count": 8,
   "id": "8b1b99d8",
   "metadata": {},
   "outputs": [
    {
     "name": "stdout",
     "output_type": "stream",
     "text": [
      "course: computer science\n",
      "name: abcxyz\n",
      "rollno: 1234567890\n",
      "subject: python programming\n"
     ]
    }
   ],
   "source": [
    "# Python program to sort Python Dictionaries by Key\n",
    "\n",
    "student_dict = {'name':'abcxyz','course':'computer science','subject':'python programming','rollno':'1234567890'}\n",
    "\n",
    "for key in sorted(student_dict):\n",
    "    print(\"%s: %s\" % (key, student_dict[key]))"
   ]
  }
 ],
 "metadata": {
  "kernelspec": {
   "display_name": "Python 3 (ipykernel)",
   "language": "python",
   "name": "python3"
  },
  "language_info": {
   "codemirror_mode": {
    "name": "ipython",
    "version": 3
   },
   "file_extension": ".py",
   "mimetype": "text/x-python",
   "name": "python",
   "nbconvert_exporter": "python",
   "pygments_lexer": "ipython3",
   "version": "3.9.7"
  }
 },
 "nbformat": 4,
 "nbformat_minor": 5
}
