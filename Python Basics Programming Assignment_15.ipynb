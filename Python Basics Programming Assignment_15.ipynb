{
 "cells": [
  {
   "cell_type": "markdown",
   "id": "71d8985d",
   "metadata": {},
   "source": [
    "# Python Basics Programming Assignment_15"
   ]
  },
  {
   "cell_type": "markdown",
   "id": "fddb4e62",
   "metadata": {},
   "source": [
    "### Question 1:\n",
    "\n",
    "\n",
    "### Please write a program using generator to print the numbers which can be divisible by 5 and 7 between 0 and n in comma separated form while n is input by console.\n",
    "\n",
    "\n",
    "### Example:\n",
    "\n",
    "\n",
    "### If the following n is given as input to the program:\n",
    "\n",
    "\n",
    "### 100\n",
    "\n",
    "\n",
    "### Then, the output of the program should be:\n",
    "\n",
    "\n",
    "### 0,35,70"
   ]
  },
  {
   "cell_type": "markdown",
   "id": "89ed2dac",
   "metadata": {},
   "source": [
    "##### SOLUTION: "
   ]
  },
  {
   "cell_type": "code",
   "execution_count": 1,
   "id": "1fce8bed",
   "metadata": {},
   "outputs": [
    {
     "name": "stdout",
     "output_type": "stream",
     "text": [
      "Enter a value : 700\n",
      "0, 35, 70, 105, 140, 175, 210, 245, 280, 315, 350, 385, 420, 455, 490, 525, 560, 595, 630, 665, 700\n"
     ]
    }
   ],
   "source": [
    "def NumberGenerator(n):\n",
    "    for i in range(n + 1):\n",
    "        if i % 5 == 0 and i % 7 == 0:    \n",
    "            yield i\n",
    "\n",
    "n = int(input(\"Enter a value : \"))\n",
    "values = []\n",
    "for i in NumberGenerator(n):\n",
    "    values.append(str(i))\n",
    "\n",
    "print(\", \".join(values))"
   ]
  },
  {
   "cell_type": "markdown",
   "id": "740b4c16",
   "metadata": {},
   "source": [
    "### Question 2:\n",
    "    \n",
    "    \n",
    "### Please write a program using generator to print the even numbers between 0 and n in comma separated form while n is input by console.\n",
    "\n",
    "\n",
    "### Example:\n",
    "    \n",
    "    \n",
    "### If the following n is given as input to the program:\n",
    "    \n",
    "    \n",
    "### 10\n",
    "\n",
    "\n",
    "### Then, the output of the program should be:\n",
    "    \n",
    "    \n",
    "### 0,2,4,6,8,10"
   ]
  },
  {
   "cell_type": "markdown",
   "id": "77476b85",
   "metadata": {},
   "source": [
    "##### SOLUTION:  "
   ]
  },
  {
   "cell_type": "code",
   "execution_count": 2,
   "id": "685b80fe",
   "metadata": {},
   "outputs": [
    {
     "name": "stdout",
     "output_type": "stream",
     "text": [
      "Enter a value : 200\n",
      "0, 2, 4, 6, 8, 10, 12, 14, 16, 18, 20, 22, 24, 26, 28, 30, 32, 34, 36, 38, 40, 42, 44, 46, 48, 50, 52, 54, 56, 58, 60, 62, 64, 66, 68, 70, 72, 74, 76, 78, 80, 82, 84, 86, 88, 90, 92, 94, 96, 98, 100, 102, 104, 106, 108, 110, 112, 114, 116, 118, 120, 122, 124, 126, 128, 130, 132, 134, 136, 138, 140, 142, 144, 146, 148, 150, 152, 154, 156, 158, 160, 162, 164, 166, 168, 170, 172, 174, 176, 178, 180, 182, 184, 186, 188, 190, 192, 194, 196, 198, 200\n"
     ]
    }
   ],
   "source": [
    "def EvenNumberGenerator(n):\n",
    "    i = 0\n",
    "    while i <= n:\n",
    "        if i % 2 == 0:\n",
    "            yield i\n",
    "        i += 1\n",
    "\n",
    "\n",
    "n = int(input(\"Enter a value : \"))\n",
    "values = []\n",
    "for i in EvenNumberGenerator(n):\n",
    "    values.append(str(i))\n",
    "\n",
    "print(\", \".join(values))"
   ]
  },
  {
   "cell_type": "markdown",
   "id": "60e545ce",
   "metadata": {},
   "source": [
    "### Question 3:\n",
    "    \n",
    "    \n",
    "### The Fibonacci Sequence is computed based on the following formula:\n",
    "    \n",
    "    \n",
    "### f(n)=0 if n=0\n",
    "\n",
    "\n",
    "### f(n)=1 if n=1\n",
    "\n",
    "\n",
    "### f(n)=f(n-1)+f(n-2) if n>1\n",
    "\n",
    "\n",
    "### Please write a program using list comprehension to print the Fibonacci Sequence in comma separated form with a given n input by console.\n",
    "\n",
    "\n",
    "### Example:\n",
    "    \n",
    "    \n",
    "### If the following n is given as input to the program:\n",
    "    \n",
    "    \n",
    "### 7\n",
    "\n",
    "\n",
    "### Then, the output of the program should be:\n",
    "    \n",
    "    \n",
    "### 0,1,1,2,3,5,8,13"
   ]
  },
  {
   "cell_type": "markdown",
   "id": "8feeda91",
   "metadata": {},
   "source": [
    "##### SOLUTION:  "
   ]
  },
  {
   "cell_type": "code",
   "execution_count": 3,
   "id": "a1f791b3",
   "metadata": {},
   "outputs": [
    {
     "name": "stdout",
     "output_type": "stream",
     "text": [
      "Enter a value : 21\n",
      "0, 1, 1, 2, 3, 5, 8, 13, 21, 34, 55, 89, 144, 233, 377, 610, 987, 1597, 2584, 4181, 6765, 10946\n"
     ]
    }
   ],
   "source": [
    "def f(n):\n",
    "    if n == 0: \n",
    "        return 0\n",
    "    elif n == 1: \n",
    "        return 1\n",
    "    else: \n",
    "        return f(n - 1) + f(n - 2)\n",
    "\n",
    "n = int(input(\"Enter a value : \"))\n",
    "values = [str(f(x)) for x in range(0, n + 1)]\n",
    "print(\", \".join(values))"
   ]
  },
  {
   "cell_type": "markdown",
   "id": "a18c240f",
   "metadata": {},
   "source": [
    "### Question 4:\n",
    "    \n",
    "    \n",
    "### Assuming that we have some email addresses in the \"username@companyname.com\" format, please write program to print the user name of a given email address. Both user names and company names are composed of letters only.\n",
    "\n",
    "\n",
    "### Example:\n",
    "    \n",
    "    \n",
    "### If the following email address is given as input to the program:\n",
    "    \n",
    "    \n",
    "### john@google.com\n",
    "\n",
    "\n",
    "### Then, the output of the program should be:\n",
    "    \n",
    "    \n",
    "### john"
   ]
  },
  {
   "cell_type": "markdown",
   "id": "8557ab20",
   "metadata": {},
   "source": [
    "##### SOLUTION:  "
   ]
  },
  {
   "cell_type": "code",
   "execution_count": 4,
   "id": "d4b1f53c",
   "metadata": {},
   "outputs": [
    {
     "data": {
      "text/plain": [
       "'python'"
      ]
     },
     "execution_count": 4,
     "metadata": {},
     "output_type": "execute_result"
    }
   ],
   "source": [
    "def GetUserName(s):\n",
    "    try:\n",
    "        return s.split(\"@\")[0]\n",
    "    except:\n",
    "        print(\"This is not a email-adress\")\n",
    "\n",
    "GetUserName(\"python@google.com\")"
   ]
  },
  {
   "cell_type": "markdown",
   "id": "19a85401",
   "metadata": {},
   "source": [
    "### Question 5:\n",
    "    \n",
    "    \n",
    "### Define a class named Shape and its subclass Square. The Square class has an init function which takes a length as argument. Both classes have a area function which can print the area of the shape where Shape's area is 0 by default."
   ]
  },
  {
   "cell_type": "markdown",
   "id": "8441a96f",
   "metadata": {},
   "source": [
    "##### SOLUTION:  "
   ]
  },
  {
   "cell_type": "code",
   "execution_count": 5,
   "id": "0b3f5bd0",
   "metadata": {},
   "outputs": [
    {
     "name": "stdout",
     "output_type": "stream",
     "text": [
      "49\n",
      "0\n"
     ]
    }
   ],
   "source": [
    "class Shape():\n",
    "    def __init__(self):\n",
    "        pass\n",
    "\n",
    "    def area(self):\n",
    "        return 0\n",
    "\n",
    "class Square(Shape):\n",
    "    def __init__(self,length = 0):\n",
    "        Shape.__init__(self)\n",
    "        self.length = length\n",
    "\n",
    "    def area(self):\n",
    "        return self.length*self.length\n",
    "\n",
    "Area_sqr = Square(7)\n",
    "print(Area_sqr.area())      # prints square of the given argument\n",
    "print(Square().area())   # prints zero as default area"
   ]
  }
 ],
 "metadata": {
  "kernelspec": {
   "display_name": "Python 3 (ipykernel)",
   "language": "python",
   "name": "python3"
  },
  "language_info": {
   "codemirror_mode": {
    "name": "ipython",
    "version": 3
   },
   "file_extension": ".py",
   "mimetype": "text/x-python",
   "name": "python",
   "nbconvert_exporter": "python",
   "pygments_lexer": "ipython3",
   "version": "3.9.7"
  }
 },
 "nbformat": 4,
 "nbformat_minor": 5
}
