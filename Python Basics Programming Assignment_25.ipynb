{
 "cells": [
  {
   "cell_type": "markdown",
   "id": "b93f8486",
   "metadata": {},
   "source": [
    "# Python Basics Programming Assignment_25"
   ]
  },
  {
   "cell_type": "markdown",
   "id": "cd6fd96f",
   "metadata": {},
   "source": [
    "### Question1\n",
    "\n",
    "\n",
    "### Create a function that takes three integer arguments (a, b, c) and returns the amount of integers which are of equal value.\n",
    "\n",
    "\n",
    "### Examples\n",
    "\n",
    "\n",
    "### equal(3, 4, 3) ➞ 2\n",
    "\n",
    "\n",
    "### equal(1, 1, 1) ➞ 3\n",
    "\n",
    "\n",
    "### equal(3, 4, 1) ➞ 0 \n",
    "\n",
    "\n",
    "### Notes\n",
    "\n",
    "\n",
    "### Your function must return 0, 2 or 3."
   ]
  },
  {
   "cell_type": "markdown",
   "id": "59fb6adc",
   "metadata": {},
   "source": [
    "#### SOLUTION:"
   ]
  },
  {
   "cell_type": "code",
   "execution_count": 1,
   "id": "ada8eba8",
   "metadata": {},
   "outputs": [],
   "source": [
    "def equal(a,b,c):\n",
    "    num = 0\n",
    "    if a == b and a == c :\n",
    "        num = 3\n",
    "    elif a == b or a == c :\n",
    "        num = 2\n",
    "    else:\n",
    "        num = 0\n",
    "    return num"
   ]
  },
  {
   "cell_type": "code",
   "execution_count": 2,
   "id": "38d9ef3f",
   "metadata": {},
   "outputs": [
    {
     "data": {
      "text/plain": [
       "3"
      ]
     },
     "execution_count": 2,
     "metadata": {},
     "output_type": "execute_result"
    }
   ],
   "source": [
    "equal(2,2,2)"
   ]
  },
  {
   "cell_type": "code",
   "execution_count": 3,
   "id": "7fee9473",
   "metadata": {},
   "outputs": [
    {
     "data": {
      "text/plain": [
       "2"
      ]
     },
     "execution_count": 3,
     "metadata": {},
     "output_type": "execute_result"
    }
   ],
   "source": [
    "equal(1,2,1)"
   ]
  },
  {
   "cell_type": "code",
   "execution_count": 4,
   "id": "86654425",
   "metadata": {},
   "outputs": [
    {
     "data": {
      "text/plain": [
       "0"
      ]
     },
     "execution_count": 4,
     "metadata": {},
     "output_type": "execute_result"
    }
   ],
   "source": [
    "equal(5,6,7)"
   ]
  },
  {
   "cell_type": "markdown",
   "id": "f6bf09fe",
   "metadata": {},
   "source": [
    "### Question2\n",
    "\n",
    "\n",
    "### Write a function that converts a dictionary into a list of keys-values tuples.\n",
    "\n",
    "\n",
    "### Examples\n",
    "\n",
    "\n",
    "### dict_to_list({\n",
    "###  \"D\": 1,\n",
    "###  \"B\": 2,\n",
    "###  \"C\": 3\n",
    "### }) ➞ [(\"B\", 2), (\"C\", 3), (\"D\", 1)]\n",
    "\n",
    "\n",
    "### dict_to_list({\n",
    "###  \"likes\": 2,\n",
    "###  \"dislikes\": 3,\n",
    "###  \"followers\": 10\n",
    "### }) ➞ [(\"dislikes\", 3), (\"followers\", 10), (\"likes\", 2)]\n",
    "\n",
    "\n",
    "### Notes\n",
    "\n",
    "\n",
    "### Return the elements in the list in alphabetical order."
   ]
  },
  {
   "cell_type": "markdown",
   "id": "757cfcc2",
   "metadata": {},
   "source": [
    "#### SOLUTION:"
   ]
  },
  {
   "cell_type": "code",
   "execution_count": 5,
   "id": "93407161",
   "metadata": {},
   "outputs": [],
   "source": [
    "def dict_to_list(d):\n",
    "    return list(d.items())"
   ]
  },
  {
   "cell_type": "code",
   "execution_count": 6,
   "id": "a9e4c821",
   "metadata": {},
   "outputs": [
    {
     "data": {
      "text/plain": [
       "[('k1', 'abc'), ('k2', 23), ('k3', 'sky'), ('k4', 9430), ('k5', 'stars')]"
      ]
     },
     "execution_count": 6,
     "metadata": {},
     "output_type": "execute_result"
    }
   ],
   "source": [
    "dict_to_list({'k1': \"abc\", 'k2': 23, 'k3': \"sky\", 'k4': 9430, 'k5': \"stars\"})"
   ]
  },
  {
   "cell_type": "markdown",
   "id": "6c15388a",
   "metadata": {},
   "source": [
    "### Question3\n",
    "\n",
    "\n",
    "### Write a function that creates a dictionary with each (key, value) pair being the (lower case, upper case) versions of a letter, respectively.\n",
    "\n",
    "\n",
    "### Examples\n",
    "\n",
    "\n",
    "### mapping([\"p\", \"s\"]) ➞ { \"p\": \"P\", \"s\": \"S\" }\n",
    "\n",
    "\n",
    "### mapping([\"a\", \"b\", \"c\"]) ➞ { \"a\": \"A\", \"b\": \"B\", \"c\": \"C\" }\n",
    "\n",
    "\n",
    "### mapping([\"a\", \"v\", \"y\", \"z\"]) ➞ { \"a\": \"A\", \"v\": \"V\", \"y\": \"Y\", \"z\": \"Z\" }\n",
    "\n",
    "\n",
    "### Notes\n",
    "\n",
    "\n",
    "### All of the letters in the input list will always be lowercase."
   ]
  },
  {
   "cell_type": "markdown",
   "id": "82bf22d8",
   "metadata": {},
   "source": [
    "#### SOLUTION:"
   ]
  },
  {
   "cell_type": "code",
   "execution_count": 7,
   "id": "ccc6e5e9",
   "metadata": {},
   "outputs": [],
   "source": [
    "def mapping(lst):\n",
    "    return {v.lower():v.upper() for v in lst}"
   ]
  },
  {
   "cell_type": "code",
   "execution_count": 8,
   "id": "15614836",
   "metadata": {},
   "outputs": [
    {
     "data": {
      "text/plain": [
       "{'y': 'Y',\n",
       " 'd': 'D',\n",
       " 's': 'S',\n",
       " 'p': 'P',\n",
       " 'v': 'V',\n",
       " 'b': 'B',\n",
       " 'j': 'J',\n",
       " 'k': 'K',\n",
       " 'm': 'M'}"
      ]
     },
     "execution_count": 8,
     "metadata": {},
     "output_type": "execute_result"
    }
   ],
   "source": [
    "mapping([\"y\", \"d\", \"s\", \"p\", \"v\", \"b\", \"j\", \"k\", \"m\"])"
   ]
  },
  {
   "cell_type": "markdown",
   "id": "113b60a6",
   "metadata": {},
   "source": [
    "### Question4\n",
    "\n",
    "\n",
    "### Write a function, that replaces all vowels in a string with a specified vowel.\n",
    "\n",
    "\n",
    "### Examples\n",
    "\n",
    "\n",
    "### vow_replace(\"apples and bananas\", \"u\") ➞ \"upplus und bununus\"\n",
    "\n",
    "\n",
    "### vow_replace(\"cheese casserole\", \"o\") ➞ \"chooso cossorolo\"\n",
    "\n",
    "\n",
    "### vow_replace(\"stuffed jalapeno poppers\", \"e\") ➞ \"steffed jelepene peppers\"\n",
    "\n",
    "\n",
    "### Notes\n",
    "\n",
    "\n",
    "### All words will be lowercase. Y is not considered a vowel."
   ]
  },
  {
   "cell_type": "markdown",
   "id": "6f378f7c",
   "metadata": {},
   "source": [
    "#### SOLUTION:"
   ]
  },
  {
   "cell_type": "code",
   "execution_count": 9,
   "id": "be63dcaf",
   "metadata": {},
   "outputs": [],
   "source": [
    "def vow_replace(s,ch):\n",
    "    vowel ='AEIOUaeiuo'\n",
    "    s1 = []\n",
    "    for i in range(len(s)):\n",
    "        if s[i] in vowel:\n",
    "            s1.append(ch)\n",
    "        else:\n",
    "            s1.append(s[i])\n",
    "\n",
    "    return ''.join((s1))"
   ]
  },
  {
   "cell_type": "code",
   "execution_count": 10,
   "id": "56ade44b",
   "metadata": {},
   "outputs": [
    {
     "data": {
      "text/plain": [
       "'vpplv'"
      ]
     },
     "execution_count": 10,
     "metadata": {},
     "output_type": "execute_result"
    }
   ],
   "source": [
    "vow_replace(\"Apple\", \"v\")"
   ]
  },
  {
   "cell_type": "code",
   "execution_count": 11,
   "id": "83b301cd",
   "metadata": {},
   "outputs": [
    {
     "data": {
      "text/plain": [
       "'Chooso'"
      ]
     },
     "execution_count": 11,
     "metadata": {},
     "output_type": "execute_result"
    }
   ],
   "source": [
    "vow_replace(\"Cheese\", \"o\")"
   ]
  },
  {
   "cell_type": "markdown",
   "id": "2a49814b",
   "metadata": {},
   "source": [
    "### Question5\n",
    "\n",
    "\n",
    "### Create a function that takes a string as input and capitalizes a letter if its ASCII code is even and returns its lower case version if its ASCII code is odd.\n",
    "\n",
    "\n",
    "### Examples\n",
    "\n",
    "\n",
    "### ascii_capitalize(\"to be or not to be!\") ➞ \"To Be oR NoT To Be!\"\n",
    "\n",
    "\n",
    "### ascii_capitalize(\"THE LITTLE MERMAID\") ➞ \"THe LiTTLe meRmaiD\"\n",
    "\n",
    "\n",
    "### ascii_capitalize(\"Oh what a beautiful morning.\") ➞ \"oH wHaT a BeauTiFuL moRNiNg.\""
   ]
  },
  {
   "cell_type": "markdown",
   "id": "42e2e4ae",
   "metadata": {},
   "source": [
    "#### SOLUTION:"
   ]
  },
  {
   "cell_type": "code",
   "execution_count": 12,
   "id": "0553f93c",
   "metadata": {},
   "outputs": [],
   "source": [
    "def ascii_capitalize(s):\n",
    "    s1 = []\n",
    "    for i in range(len(s)):\n",
    "        if ord(s[i]) % 2 == 0:\n",
    "            s1.append(s[i].upper())\n",
    "        else:\n",
    "            s1.append(s[i].lower())\n",
    "\n",
    "    return \"\".join((s1))"
   ]
  },
  {
   "cell_type": "code",
   "execution_count": 13,
   "id": "b37090f9",
   "metadata": {},
   "outputs": [
    {
     "data": {
      "text/plain": [
       "'BoRN To BeaT'"
      ]
     },
     "execution_count": 13,
     "metadata": {},
     "output_type": "execute_result"
    }
   ],
   "source": [
    "ascii_capitalize(\"boRn tO BeaT\")"
   ]
  },
  {
   "cell_type": "code",
   "execution_count": 14,
   "id": "d4c4a8dd",
   "metadata": {},
   "outputs": [
    {
     "data": {
      "text/plain": [
       "'sLow aND sTeaDy aLways wiNs THe Race'"
      ]
     },
     "execution_count": 14,
     "metadata": {},
     "output_type": "execute_result"
    }
   ],
   "source": [
    "ascii_capitalize(\"sloW AND SteAdy AlwAYs WIns thE raCE\")"
   ]
  }
 ],
 "metadata": {
  "kernelspec": {
   "display_name": "Python 3 (ipykernel)",
   "language": "python",
   "name": "python3"
  },
  "language_info": {
   "codemirror_mode": {
    "name": "ipython",
    "version": 3
   },
   "file_extension": ".py",
   "mimetype": "text/x-python",
   "name": "python",
   "nbconvert_exporter": "python",
   "pygments_lexer": "ipython3",
   "version": "3.9.7"
  }
 },
 "nbformat": 4,
 "nbformat_minor": 5
}
