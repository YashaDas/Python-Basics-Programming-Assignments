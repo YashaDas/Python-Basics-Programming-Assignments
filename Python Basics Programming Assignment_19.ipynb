{
 "cells": [
  {
   "cell_type": "markdown",
   "id": "88be9f71",
   "metadata": {},
   "source": [
    "# Python Basics Programming Assignment_19"
   ]
  },
  {
   "cell_type": "markdown",
   "id": "18fb07b2",
   "metadata": {},
   "source": [
    "### Question1\n",
    "\n",
    "\n",
    "### Create a function that takes a string and returns a string in which each character is repeated once.\n",
    "\n",
    "\n",
    "### Examples\n",
    "\n",
    "\n",
    "### double_char(\"String\") ➞ \"SSttrriinngg\"\n",
    "\n",
    "\n",
    "### double_char(\"Hello World!\") ➞ \"HHeelllloo  WWoorrlldd!!\"\n",
    "\n",
    "\n",
    "### double_char(\"1234!_ \") ➞ \"11223344!!__  \""
   ]
  },
  {
   "cell_type": "markdown",
   "id": "033a8a29",
   "metadata": {},
   "source": [
    "#### SOLUTION: "
   ]
  },
  {
   "cell_type": "code",
   "execution_count": 1,
   "id": "e794a446",
   "metadata": {},
   "outputs": [],
   "source": [
    "def double_char(str):\n",
    "    return ''.join([c+c for c in str])"
   ]
  },
  {
   "cell_type": "code",
   "execution_count": 2,
   "id": "97373529",
   "metadata": {},
   "outputs": [
    {
     "data": {
      "text/plain": [
       "'CChhooccoollaattee'"
      ]
     },
     "execution_count": 2,
     "metadata": {},
     "output_type": "execute_result"
    }
   ],
   "source": [
    "double_char(\"Chocolate\")"
   ]
  },
  {
   "cell_type": "code",
   "execution_count": 3,
   "id": "8ab5c345",
   "metadata": {},
   "outputs": [
    {
     "data": {
      "text/plain": [
       "'112233__445566__778899__'"
      ]
     },
     "execution_count": 3,
     "metadata": {},
     "output_type": "execute_result"
    }
   ],
   "source": [
    "double_char(\"123_456_789_\")"
   ]
  },
  {
   "cell_type": "markdown",
   "id": "12796ce3",
   "metadata": {},
   "source": [
    "### Question2\n",
    "\n",
    "\n",
    "### Create a function that reverses a boolean value and returns the string \"boolean expected\" if another variable type is given.\n",
    "\n",
    "\n",
    "### Examples\n",
    "\n",
    "\n",
    "### reverse(True) ➞ False\n",
    "\n",
    "\n",
    "### reverse(False) ➞ True\n",
    "\n",
    "\n",
    "### reverse(0) ➞ \"boolean expected\"\n",
    "\n",
    "\n",
    "### reverse(None) ➞ \"boolean expected\""
   ]
  },
  {
   "cell_type": "markdown",
   "id": "b1b60089",
   "metadata": {},
   "source": [
    "#### SOLUTION: "
   ]
  },
  {
   "cell_type": "code",
   "execution_count": 4,
   "id": "5af373b7",
   "metadata": {},
   "outputs": [],
   "source": [
    "def reverse(arg=None):\n",
    "    return not arg if type(arg) == bool else \"boolean expected\""
   ]
  },
  {
   "cell_type": "code",
   "execution_count": 5,
   "id": "46bb61ea",
   "metadata": {},
   "outputs": [
    {
     "data": {
      "text/plain": [
       "False"
      ]
     },
     "execution_count": 5,
     "metadata": {},
     "output_type": "execute_result"
    }
   ],
   "source": [
    "reverse(True)"
   ]
  },
  {
   "cell_type": "code",
   "execution_count": 6,
   "id": "05c99afe",
   "metadata": {},
   "outputs": [
    {
     "data": {
      "text/plain": [
       "True"
      ]
     },
     "execution_count": 6,
     "metadata": {},
     "output_type": "execute_result"
    }
   ],
   "source": [
    "reverse(False)"
   ]
  },
  {
   "cell_type": "code",
   "execution_count": 7,
   "id": "d54388fc",
   "metadata": {},
   "outputs": [
    {
     "data": {
      "text/plain": [
       "'boolean expected'"
      ]
     },
     "execution_count": 7,
     "metadata": {},
     "output_type": "execute_result"
    }
   ],
   "source": [
    "reverse(0)"
   ]
  },
  {
   "cell_type": "code",
   "execution_count": 8,
   "id": "870033b2",
   "metadata": {},
   "outputs": [
    {
     "data": {
      "text/plain": [
       "'boolean expected'"
      ]
     },
     "execution_count": 8,
     "metadata": {},
     "output_type": "execute_result"
    }
   ],
   "source": [
    "reverse(1)"
   ]
  },
  {
   "cell_type": "code",
   "execution_count": 9,
   "id": "bf623fb9",
   "metadata": {},
   "outputs": [
    {
     "data": {
      "text/plain": [
       "'boolean expected'"
      ]
     },
     "execution_count": 9,
     "metadata": {},
     "output_type": "execute_result"
    }
   ],
   "source": [
    "reverse(None)"
   ]
  },
  {
   "cell_type": "markdown",
   "id": "03109c0d",
   "metadata": {},
   "source": [
    "### Question3\n",
    "\n",
    "\n",
    "### Create a function that returns the thickness (in meters) of a piece of paper after folding it n number of times. The paper starts off with a thickness of 0.5mm.\n",
    "\n",
    "\n",
    "### Examples\n",
    "\n",
    "\n",
    "### num_layers(1) ➞ \"0.001m\"\n",
    "\n",
    "#### Paper folded once is 1mm (equal to 0.001m)\n",
    "\n",
    "\n",
    "### num_layers(4) ➞ \"0.008m\"\n",
    "\n",
    "#### Paper folded 4 times is 8mm (equal to 0.008m)\n",
    "\n",
    "\n",
    "### num_layers(21) ➞ \"1048.576m\"\n",
    "\n",
    "#### Paper folded 21 times is 1048576mm (equal to 1048.576m)"
   ]
  },
  {
   "cell_type": "markdown",
   "id": "22353ae7",
   "metadata": {},
   "source": [
    "#### SOLUTION:  "
   ]
  },
  {
   "cell_type": "code",
   "execution_count": 10,
   "id": "74d5b76e",
   "metadata": {},
   "outputs": [],
   "source": [
    "def num_layers(n):\n",
    "    thickness = 0.5\n",
    "    for _ in range(n):\n",
    "        thickness *= 2\n",
    "    \n",
    "    return str(thickness / 1000)+'m' # for meters"
   ]
  },
  {
   "cell_type": "code",
   "execution_count": 11,
   "id": "75ae50be",
   "metadata": {},
   "outputs": [
    {
     "data": {
      "text/plain": [
       "'0.064m'"
      ]
     },
     "execution_count": 11,
     "metadata": {},
     "output_type": "execute_result"
    }
   ],
   "source": [
    "num_layers(7)"
   ]
  },
  {
   "cell_type": "code",
   "execution_count": 12,
   "id": "458ec0de",
   "metadata": {},
   "outputs": [
    {
     "data": {
      "text/plain": [
       "'8.192m'"
      ]
     },
     "execution_count": 12,
     "metadata": {},
     "output_type": "execute_result"
    }
   ],
   "source": [
    "num_layers(14)"
   ]
  },
  {
   "cell_type": "code",
   "execution_count": 13,
   "id": "2047948f",
   "metadata": {},
   "outputs": [
    {
     "data": {
      "text/plain": [
       "'1048.576m'"
      ]
     },
     "execution_count": 13,
     "metadata": {},
     "output_type": "execute_result"
    }
   ],
   "source": [
    "num_layers(21)"
   ]
  },
  {
   "cell_type": "markdown",
   "id": "059a7699",
   "metadata": {},
   "source": [
    "### Question4\n",
    "\n",
    "\n",
    "### Create a function that takes a single string as argument and returns an ordered list containing the indices of all capital letters in the string.\n",
    "\n",
    "\n",
    "### Examples\n",
    "\n",
    "\n",
    "### index_of_caps(\"eDaBiT\") ➞ [1, 3, 5]\n",
    "\n",
    "\n",
    "### index_of_caps(\"eQuINoX\") ➞ [1, 3, 4, 6]\n",
    "\n",
    "\n",
    "### index_of_caps(\"determine\") ➞ []\n",
    "\n",
    "\n",
    "### index_of_caps(\"STRIKE\") ➞ [0, 1, 2, 3, 4, 5]\n",
    "\n",
    "\n",
    "### index_of_caps(\"sUn\") ➞ [1]"
   ]
  },
  {
   "cell_type": "markdown",
   "id": "20565a8c",
   "metadata": {},
   "source": [
    "#### SOLUTION: "
   ]
  },
  {
   "cell_type": "code",
   "execution_count": 14,
   "id": "adff9f50",
   "metadata": {},
   "outputs": [],
   "source": [
    "def index_of_caps(word):\n",
    "    indices = []\n",
    "    for i in range(len(word)):\n",
    "        if word[i].isupper():\n",
    "             indices.append(i)\n",
    "    return indices"
   ]
  },
  {
   "cell_type": "code",
   "execution_count": 15,
   "id": "0f828895",
   "metadata": {},
   "outputs": [
    {
     "data": {
      "text/plain": [
       "[1]"
      ]
     },
     "execution_count": 15,
     "metadata": {},
     "output_type": "execute_result"
    }
   ],
   "source": [
    "index_of_caps(\"iNeuron\")"
   ]
  },
  {
   "cell_type": "code",
   "execution_count": 16,
   "id": "ebbb53d8",
   "metadata": {},
   "outputs": [
    {
     "data": {
      "text/plain": [
       "[0, 5, 11, 16]"
      ]
     },
     "execution_count": 16,
     "metadata": {},
     "output_type": "execute_result"
    }
   ],
   "source": [
    "index_of_caps(\"Full Stack Data Science\")"
   ]
  },
  {
   "cell_type": "code",
   "execution_count": 17,
   "id": "adfcf510",
   "metadata": {},
   "outputs": [
    {
     "data": {
      "text/plain": [
       "[]"
      ]
     },
     "execution_count": 17,
     "metadata": {},
     "output_type": "execute_result"
    }
   ],
   "source": [
    "index_of_caps(\"student\")"
   ]
  },
  {
   "cell_type": "code",
   "execution_count": 18,
   "id": "a7123d3d",
   "metadata": {},
   "outputs": [
    {
     "data": {
      "text/plain": [
       "[0, 1, 2, 3]"
      ]
     },
     "execution_count": 18,
     "metadata": {},
     "output_type": "execute_result"
    }
   ],
   "source": [
    "index_of_caps(\"DATA\")"
   ]
  },
  {
   "cell_type": "markdown",
   "id": "7fe36013",
   "metadata": {},
   "source": [
    "### Question5\n",
    "\n",
    "\n",
    "### Using list comprehensions, create a function that finds all even numbers from 1 to the given number.\n",
    "\n",
    "\n",
    "### Examples\n",
    "\n",
    "\n",
    "### find_even_nums(8) ➞ [2, 4, 6, 8]\n",
    "\n",
    "\n",
    "### find_even_nums(4) ➞ [2, 4]\n",
    "\n",
    "\n",
    "### find_even_nums(2) ➞ [2]"
   ]
  },
  {
   "cell_type": "markdown",
   "id": "138f3e50",
   "metadata": {},
   "source": [
    "#### SOLUTION: "
   ]
  },
  {
   "cell_type": "code",
   "execution_count": 19,
   "id": "24ce827e",
   "metadata": {},
   "outputs": [
    {
     "name": "stdout",
     "output_type": "stream",
     "text": [
      "Enter a number : 30\n"
     ]
    },
    {
     "data": {
      "text/plain": [
       "[2, 4, 6, 8, 10, 12, 14, 16, 18, 20, 22, 24, 26, 28, 30]"
      ]
     },
     "execution_count": 19,
     "metadata": {},
     "output_type": "execute_result"
    }
   ],
   "source": [
    "def find_even_nums(n):\n",
    "    even =[x for x in range(2,n+1) if x % 2 == 0]\n",
    "    return even\n",
    "\n",
    "n = int(input('Enter a number : '))\n",
    "find_even_nums(n)"
   ]
  }
 ],
 "metadata": {
  "kernelspec": {
   "display_name": "Python 3 (ipykernel)",
   "language": "python",
   "name": "python3"
  },
  "language_info": {
   "codemirror_mode": {
    "name": "ipython",
    "version": 3
   },
   "file_extension": ".py",
   "mimetype": "text/x-python",
   "name": "python",
   "nbconvert_exporter": "python",
   "pygments_lexer": "ipython3",
   "version": "3.9.7"
  }
 },
 "nbformat": 4,
 "nbformat_minor": 5
}
