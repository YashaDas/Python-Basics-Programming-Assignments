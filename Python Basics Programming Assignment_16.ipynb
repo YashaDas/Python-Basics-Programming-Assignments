{
 "cells": [
  {
   "cell_type": "markdown",
   "id": "8ca4f993",
   "metadata": {},
   "source": [
    "# Python Basics Programming Assignment_16"
   ]
  },
  {
   "cell_type": "markdown",
   "id": "81a63241",
   "metadata": {},
   "source": [
    "### Question1. Write a function that stutters a word as if someone is struggling to read it. The first two letters are repeated twice with an ellipsis ... and space after each, and then the word is pronounced with a question mark ?.\n",
    "\n",
    "\n",
    "### Examples\n",
    "\n",
    "\n",
    "### stutter(\"incredible\") ➞ \"in... in... incredible?\"\n",
    "\n",
    "\n",
    "### stutter(\"enthusiastic\") ➞ \"en... en... enthusiastic?\"\n",
    "\n",
    "\n",
    "### stutter(\"outstanding\") ➞ \"ou... ou... outstanding?\"\n",
    "\n",
    "\n",
    "### Hint :- Assume all input is in lower case and at least two characters long."
   ]
  },
  {
   "cell_type": "markdown",
   "id": "2f782b0e",
   "metadata": {},
   "source": [
    "#### SOLUTION:"
   ]
  },
  {
   "cell_type": "code",
   "execution_count": 1,
   "id": "9bd95cfa",
   "metadata": {},
   "outputs": [
    {
     "name": "stdout",
     "output_type": "stream",
     "text": [
      "Enter word : ineuron\n",
      "in... in... ineuron?\n"
     ]
    }
   ],
   "source": [
    "def stutter(word):\n",
    "    return (2*(word[:2]+'... '))+word+'?'\n",
    "word = input('Enter word : ')\n",
    "print(stutter(word))"
   ]
  },
  {
   "cell_type": "markdown",
   "id": "d3a99be3",
   "metadata": {},
   "source": [
    "### Question 2. Create a function that takes an angle in radians and returns the corresponding angle in degrees rounded to one decimal place.\n",
    "\n",
    "\n",
    "### Examples\n",
    "\n",
    "\n",
    "### radians_to_degrees(1) ➞ 57.3\n",
    "\n",
    "\n",
    "### radians_to_degrees(20) ➞ 1145.9\n",
    "\n",
    "\n",
    "### radians_to_degrees(50) ➞ 2864.8"
   ]
  },
  {
   "cell_type": "markdown",
   "id": "4ce291ed",
   "metadata": {},
   "source": [
    "#### SOLUTION:"
   ]
  },
  {
   "cell_type": "code",
   "execution_count": 24,
   "id": "c16289a4",
   "metadata": {},
   "outputs": [
    {
     "name": "stdout",
     "output_type": "stream",
     "text": [
      "Enter the Radian : 2\n",
      "degree = 114.6\n"
     ]
    }
   ],
   "source": [
    "# Function for conversion\n",
    "def radians_to_degrees(radian):\n",
    "    pi = 3.14159\n",
    "    #formula\n",
    "    degree = radian * (180/pi)\n",
    "    return degree\n",
    "\n",
    "from decimal import Decimal\n",
    "radian = float(input('Enter the Radian : '))\n",
    "print(\"degree =\",round(radians_to_degrees(radian),1))"
   ]
  },
  {
   "cell_type": "markdown",
   "id": "2cedc3c0",
   "metadata": {},
   "source": [
    "### Question 3. In this challenge, establish if a given integer num is a Curzon number. If 1 plus 2 elevated to num is exactly divisible by 1 plus 2 multiplied by num, then num is a Curzon number.\n",
    "\n",
    "\n",
    "### Given a non-negative integer num, implement a function that returns True if num is a Curzon number, or False otherwise.\n",
    "\n",
    "\n",
    "### Examples\n",
    "\n",
    "\n",
    "### is_curzon(5) ➞ True\n",
    "\n",
    "\n",
    "##### 2 ** 5 + 1 = 33\n",
    "\n",
    "\n",
    "##### 2 * 5 + 1 = 11\n",
    "\n",
    "\n",
    "##### 33 is a multiple of 11\n",
    "\n",
    "\n",
    "### is_curzon(10) ➞ False\n",
    "\n",
    "\n",
    "##### 2 ** 10 + 1 = 1025\n",
    "\n",
    "\n",
    "##### 2 * 10 + 1 = 21\n",
    "\n",
    "\n",
    "##### 1025 is not a multiple of 21\n",
    "\n",
    "\n",
    "### is_curzon(14) ➞ True\n",
    "\n",
    "\n",
    "##### 2 ** 14 + 1 = 16385\n",
    "\n",
    "\n",
    "##### 2 * 14 + 1 = 29\n",
    "\n",
    "\n",
    "##### 16385 is a multiple of 29"
   ]
  },
  {
   "cell_type": "markdown",
   "id": "7391e45f",
   "metadata": {},
   "source": [
    "#### SOLUTION:"
   ]
  },
  {
   "cell_type": "code",
   "execution_count": 31,
   "id": "73fab175",
   "metadata": {},
   "outputs": [
    {
     "name": "stdout",
     "output_type": "stream",
     "text": [
      "Enter a number : 90\n",
      "True\n"
     ]
    }
   ],
   "source": [
    "def CurzonNumber(n):\n",
    " \n",
    "    power, product = 0, 0\n",
    " \n",
    "    # Find 2**n + 1\n",
    "    power = pow(2, n) + 1\n",
    " \n",
    "    # Find 2*n + 1\n",
    "    product = 2 * n + 1\n",
    " \n",
    "    # Check for divisibility\n",
    "    if (power % product == 0):\n",
    "        print(\"True\")\n",
    "    else:\n",
    "        print(\"False\")\n",
    "        \n",
    "n = int(input('Enter a number : '))\n",
    "CurzonNumber(n)"
   ]
  },
  {
   "cell_type": "code",
   "execution_count": 32,
   "id": "b9c6ccb6",
   "metadata": {},
   "outputs": [
    {
     "name": "stdout",
     "output_type": "stream",
     "text": [
      "True\n"
     ]
    }
   ],
   "source": [
    "CurzonNumber(98)"
   ]
  },
  {
   "cell_type": "code",
   "execution_count": 33,
   "id": "293c0b42",
   "metadata": {},
   "outputs": [
    {
     "name": "stdout",
     "output_type": "stream",
     "text": [
      "False\n"
     ]
    }
   ],
   "source": [
    "CurzonNumber(22)"
   ]
  },
  {
   "cell_type": "markdown",
   "id": "0ee1694e",
   "metadata": {},
   "source": [
    "### Question 4. Given the side length x find the area of a hexagon.\n",
    " \n",
    "### Examples\n",
    "\n",
    "\n",
    "### area_of_hexagon(1) ➞ 2.6\n",
    "\n",
    "\n",
    "### area_of_hexagon(2) ➞ 10.4\n",
    "\n",
    "\n",
    "### area_of_hexagon(3) ➞ 23.4"
   ]
  },
  {
   "cell_type": "markdown",
   "id": "4e0a973a",
   "metadata": {},
   "source": [
    "#### SOLUTION: "
   ]
  },
  {
   "cell_type": "code",
   "execution_count": 34,
   "id": "11b78f59",
   "metadata": {},
   "outputs": [
    {
     "name": "stdout",
     "output_type": "stream",
     "text": [
      "Enter the length : 4\n",
      "Area: 41.6\n"
     ]
    }
   ],
   "source": [
    "import math\n",
    "def area_of_hexagon(s):     \n",
    "    return ((3 * math.sqrt(3) * (sideLength * sideLength)) / 2);\n",
    "     \n",
    "\n",
    "sideLength = float(input('Enter the length : '))\n",
    "\n",
    "print(\"Area:\",\"{0:.1f}\".format(area_of_hexagon(sideLength)))"
   ]
  },
  {
   "cell_type": "markdown",
   "id": "e41001cd",
   "metadata": {},
   "source": [
    "### Question 5. Create a function that returns a base-2 (binary) representation of a base-10 (decimal) string number. To convert is simple: ((2) means base-2 and (10) means base-10) 010101001(2) = 1 + 8 + 32 + 128.\n",
    "\n",
    "\n",
    "### Going from right to left, the value of the most right bit is 1, now from that every bit to the left will be x2 the value, value of an 8 bit binary numbers are (256, 128, 64, 32, 16, 8, 4, 2, 1).\n",
    "\n",
    "\n",
    "### Examples\n",
    "\n",
    "\n",
    "### binary(1) ➞ \"1\"\n",
    "\n",
    "\n",
    "#### 1*1 = 1\n",
    "\n",
    "\n",
    "### binary(5) ➞ \"101\"\n",
    "\n",
    "\n",
    "#### 1*1 + 1*4 = 5\n",
    "\n",
    "\n",
    "### binary(10) ➞ \"1010\"\n",
    "\n",
    "\n",
    "#### 1*2 + 1*8 = 10"
   ]
  },
  {
   "cell_type": "markdown",
   "id": "ff760db3",
   "metadata": {},
   "source": [
    "#### SOLUTION:"
   ]
  },
  {
   "cell_type": "code",
   "execution_count": 36,
   "id": "32f96d37",
   "metadata": {},
   "outputs": [
    {
     "name": "stdout",
     "output_type": "stream",
     "text": [
      "0\n",
      "1\n",
      "10\n",
      "11\n",
      "100\n",
      "101\n",
      "110\n",
      "111\n",
      "1000\n",
      "1001\n",
      "1010\n",
      "1011\n",
      "1100\n",
      "1101\n",
      "1110\n",
      "1111\n",
      "10000\n",
      "10001\n",
      "10010\n",
      "10011\n",
      "10100\n",
      "10101\n",
      "10110\n",
      "10111\n",
      "11000\n",
      "11001\n",
      "11010\n",
      "11011\n",
      "11100\n",
      "11101\n",
      "11110\n",
      "11111\n",
      "100000\n",
      "100001\n",
      "100010\n",
      "100011\n",
      "100100\n",
      "100101\n",
      "100110\n",
      "100111\n",
      "101000\n",
      "101001\n",
      "101010\n",
      "101011\n",
      "101100\n",
      "101101\n",
      "101110\n",
      "101111\n",
      "110000\n",
      "110001\n",
      "110010\n",
      "110011\n",
      "110100\n",
      "110101\n",
      "110110\n",
      "110111\n",
      "111000\n",
      "111001\n",
      "111010\n",
      "111011\n",
      "111100\n",
      "111101\n",
      "111110\n",
      "111111\n",
      "1000000\n",
      "1000001\n",
      "1000010\n",
      "1000011\n",
      "1000100\n",
      "1000101\n",
      "1000110\n",
      "1000111\n",
      "1001000\n",
      "1001001\n",
      "1001010\n",
      "1001011\n",
      "1001100\n",
      "1001101\n",
      "1001110\n",
      "1001111\n",
      "1010000\n",
      "1010001\n",
      "1010010\n",
      "1010011\n",
      "1010100\n",
      "1010101\n",
      "1010110\n",
      "1010111\n",
      "1011000\n",
      "1011001\n",
      "1011010\n",
      "1011011\n",
      "1011100\n",
      "1011101\n",
      "1011110\n",
      "1011111\n",
      "1100000\n",
      "1100001\n",
      "1100010\n",
      "1100011\n"
     ]
    }
   ],
   "source": [
    "def decimalToBinary(n):\n",
    "    return bin(n).replace(\"0b\", \"\")\n",
    "   \n",
    "for i in range(0,100):\n",
    "    print(decimalToBinary(i))"
   ]
  }
 ],
 "metadata": {
  "kernelspec": {
   "display_name": "Python 3 (ipykernel)",
   "language": "python",
   "name": "python3"
  },
  "language_info": {
   "codemirror_mode": {
    "name": "ipython",
    "version": 3
   },
   "file_extension": ".py",
   "mimetype": "text/x-python",
   "name": "python",
   "nbconvert_exporter": "python",
   "pygments_lexer": "ipython3",
   "version": "3.9.7"
  }
 },
 "nbformat": 4,
 "nbformat_minor": 5
}
