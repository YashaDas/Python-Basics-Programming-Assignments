{
 "cells": [
  {
   "cell_type": "markdown",
   "id": "0d987396",
   "metadata": {},
   "source": [
    "# Python Basics Programming Assignment_13"
   ]
  },
  {
   "cell_type": "markdown",
   "id": "3539c9d4",
   "metadata": {},
   "source": [
    "### Question 1:\n",
    "\n",
    "### Write a program that calculates and prints the value according to the given formula:\n",
    "\n",
    "#### Q = Square root of [(2 * C * D)/H]\n",
    "\n",
    "#### Following are the fixed values of C and H:\n",
    "\n",
    "#### C is 50. H is 30.\n",
    "\n",
    "#### D is the variable whose values should be input to your program in a comma-separated sequence.\n",
    "\n",
    "#### Example\n",
    "\n",
    "#### Let us assume the following comma separated input sequence is given to the program:\n",
    "\n",
    "#### 100,150,180\n",
    "\n",
    "#### The output of the program should be:\n",
    "\n",
    "#### 18,22,24"
   ]
  },
  {
   "cell_type": "markdown",
   "id": "2479c7cd",
   "metadata": {},
   "source": [
    "##### SOLUTION: "
   ]
  },
  {
   "cell_type": "code",
   "execution_count": 2,
   "id": "043592e1",
   "metadata": {},
   "outputs": [
    {
     "name": "stdout",
     "output_type": "stream",
     "text": [
      "Value of D :60,70,80\n",
      "14,15,16\n"
     ]
    }
   ],
   "source": [
    "import math\n",
    "\n",
    "C = 50\n",
    "H = 30\n",
    "D = input(\"Value of D :\")\n",
    "Q = []\n",
    "\n",
    "i = [x for x in D.split(',')]\n",
    "\n",
    "for D in i:\n",
    "    Q.append(str(int(round(math.sqrt(2*C*float(D)/H)))))\n",
    "\n",
    "print(','.join(Q))"
   ]
  },
  {
   "cell_type": "markdown",
   "id": "4d7c2063",
   "metadata": {},
   "source": [
    "### Question 2:\n",
    "\n",
    "\n",
    "### Write a program which takes 2 digits, X,Y as input and generates a 2-dimensional array. The element value in the i-th row and j-th column of the array should be i*j.\n",
    "\n",
    "#### Note: i=0,1.., X-1; j=0,1,¡Y-1.\n",
    "\n",
    "#### Example\n",
    "\n",
    "#### Suppose the following inputs are given to the program:\n",
    "\n",
    "#### 3,5\n",
    "\n",
    "#### Then, the output of the program should be:\n",
    "\n",
    "#### [[0, 0, 0, 0, 0], [0, 1, 2, 3, 4], [0, 2, 4, 6, 8]] "
   ]
  },
  {
   "cell_type": "markdown",
   "id": "a7a07ef1",
   "metadata": {},
   "source": [
    "##### SOLUTION: "
   ]
  },
  {
   "cell_type": "code",
   "execution_count": 3,
   "id": "4b3a7b1f",
   "metadata": {},
   "outputs": [
    {
     "name": "stdout",
     "output_type": "stream",
     "text": [
      "Input number of rows: 7\n",
      "Input number of columns: 3\n",
      "[[0, 0, 0], [0, 1, 2], [0, 2, 4], [0, 3, 6], [0, 4, 8], [0, 5, 10], [0, 6, 12]]\n"
     ]
    }
   ],
   "source": [
    "X = int(input(\"Input number of rows: \"))\n",
    "Y = int(input(\"Input number of columns: \"))\n",
    "two_dem_array = [[0 for j in range(Y)] for i in range(X)]\n",
    "\n",
    "for i in range(X):\n",
    "    for j in range(Y):\n",
    "        two_dem_array[i][j]= i*j\n",
    "\n",
    "print(two_dem_array)"
   ]
  },
  {
   "cell_type": "markdown",
   "id": "ed52446b",
   "metadata": {},
   "source": [
    "### Question 3:\n",
    "    \n",
    "    \n",
    "### Write a program that accepts a comma separated sequence of words as input and prints the words in a comma-separated sequence after sorting them alphabetically.\n",
    "\n",
    "#### Suppose the following input is supplied to the program:\n",
    "\n",
    "#### without,hello,bag,world\n",
    "\n",
    "#### Then, the output should be:\n",
    "\n",
    "#### bag,hello,without,world"
   ]
  },
  {
   "cell_type": "markdown",
   "id": "d2e825b9",
   "metadata": {},
   "source": [
    "##### SOLUTION: "
   ]
  },
  {
   "cell_type": "code",
   "execution_count": 4,
   "id": "092e502c",
   "metadata": {},
   "outputs": [
    {
     "name": "stdout",
     "output_type": "stream",
     "text": [
      "Enter comma separated sequence of words: zoo, boot, heat, chocolate, rainbow, purple, mug\n",
      "boot, chocolate, heat, mug, purple, rainbow, zoo\n"
     ]
    }
   ],
   "source": [
    "phrase = input(\"Enter comma separated sequence of words: \")\n",
    "words = phrase.split(', ')\n",
    "words.sort()\n",
    "print((', ').join(words))"
   ]
  },
  {
   "cell_type": "markdown",
   "id": "fc80cced",
   "metadata": {},
   "source": [
    "### Question 4:\n",
    "    \n",
    "    \n",
    "### Write a program that accepts a sequence of whitespace separated words as input and prints the words after removing all duplicate words and sorting them alphanumerically.\n",
    "\n",
    "#### Suppose the following input is supplied to the program:\n",
    "\n",
    "#### hello world and practice makes perfect and hello world again\n",
    "\n",
    "#### Then, the output should be:\n",
    "\n",
    "#### again and hello makes perfect practice world"
   ]
  },
  {
   "cell_type": "markdown",
   "id": "9576c940",
   "metadata": {},
   "source": [
    "##### SOLUTION:"
   ]
  },
  {
   "cell_type": "code",
   "execution_count": 1,
   "id": "c1661d8f",
   "metadata": {},
   "outputs": [
    {
     "name": "stdout",
     "output_type": "stream",
     "text": [
      "Enter a sequence of whitespace separated words : this is a sequence of whitespace separated words\n",
      "a is of separated sequence this whitespace words\n"
     ]
    }
   ],
   "source": [
    "phase = input(\"Enter a sequence of whitespace separated words : \")\n",
    "words = phase.split(' ')\n",
    "words.sort()\n",
    "print((' ').join(words))"
   ]
  },
  {
   "cell_type": "markdown",
   "id": "486cd77b",
   "metadata": {},
   "source": [
    "### Question 5:\n",
    "    \n",
    "    \n",
    "### Write a program that accepts a sentence and calculate the number of letters and digits.\n",
    "\n",
    "#### Suppose the following input is supplied to the program:\n",
    "\n",
    "#### hello world! 123\n",
    "\n",
    "#### Then, the output should be:\n",
    "\n",
    "#### LETTERS 10\n",
    "\n",
    "#### DIGITS 3"
   ]
  },
  {
   "cell_type": "markdown",
   "id": "706f7724",
   "metadata": {},
   "source": [
    "##### SOLUTION: "
   ]
  },
  {
   "cell_type": "code",
   "execution_count": 18,
   "id": "50be6293",
   "metadata": {},
   "outputs": [
    {
     "name": "stdout",
     "output_type": "stream",
     "text": [
      "Enter a sentence : The is a sentence that contains number 1,2,3,4,5,6,7,8,9,0\n",
      "Letters 32\n",
      "Digits 10\n"
     ]
    }
   ],
   "source": [
    "sentence = input(\"Enter a sentence : \")\n",
    "d=l=0\n",
    "for c in sentence:\n",
    "    if c.isdigit():\n",
    "        d=d+1\n",
    "    elif c.isalpha():\n",
    "        l=l+1\n",
    "    else:\n",
    "        pass\n",
    "print(\"Letters\", l)\n",
    "print(\"Digits\", d)"
   ]
  },
  {
   "cell_type": "markdown",
   "id": "1ae14edf",
   "metadata": {},
   "source": [
    "# Question 6:\n",
    "    \n",
    "    \n",
    "### A website requires the users to input username and password to register. Write a program to check the validity of password input by users.\n",
    "\n",
    "#### Following are the criteria for checking the password:\n",
    "\n",
    "1. At least 1 letter between [a-z]\n",
    "\n",
    "\n",
    "2. At least 1 number between [0-9]\n",
    "\n",
    "\n",
    "3. At least 1 letter between [A-Z]\n",
    "\n",
    "\n",
    "4. At least 1 character from [$#@]\n",
    "\n",
    "\n",
    "5. Minimum length of transaction password: 6\n",
    "\n",
    "\n",
    "6. Maximum length of transaction password: 12\n",
    "\n",
    "\n",
    "Your program should accept a sequence of comma separated passwords and will check them according to the above criteria. Passwords that match the criteria are to be printed, each separated by a comma.\n",
    "\n",
    "\n",
    "Example\n",
    "\n",
    "\n",
    "If the following passwords are given as input to the program:\n",
    "\n",
    "\n",
    "ABd1234@1,a F1#,2w3E*,2We3345\n",
    "\n",
    "\n",
    "Then, the output of the program should be:\n",
    "\n",
    "\n",
    "ABd1234@1"
   ]
  },
  {
   "cell_type": "markdown",
   "id": "53c2b7ab",
   "metadata": {},
   "source": [
    "##### SOLUTION: "
   ]
  },
  {
   "cell_type": "code",
   "execution_count": 20,
   "id": "96cb1582",
   "metadata": {},
   "outputs": [
    {
     "name": "stdout",
     "output_type": "stream",
     "text": [
      "Enter password : Python@123\n",
      "Valid Password\n"
     ]
    }
   ],
   "source": [
    "import re\n",
    "password = input(\"Enter password : \")\n",
    "x = True\n",
    "while x:  \n",
    "    if (len(password)<6 or len(password)>12):\n",
    "        break\n",
    "    elif not re.search(\"[a-z]\",password):\n",
    "        break\n",
    "    elif not re.search(\"[0-9]\",password):\n",
    "        break\n",
    "    elif not re.search(\"[A-Z]\",password):\n",
    "        break\n",
    "    elif not re.search(\"[$#@]\",password):\n",
    "        break\n",
    "    elif re.search(\"\\s\",password):\n",
    "        break\n",
    "    else:\n",
    "        print(\"Valid Password\")\n",
    "        x=False\n",
    "        break\n",
    "\n",
    "if x:\n",
    "    print(\"Not a Valid Password\")"
   ]
  }
 ],
 "metadata": {
  "kernelspec": {
   "display_name": "Python 3 (ipykernel)",
   "language": "python",
   "name": "python3"
  },
  "language_info": {
   "codemirror_mode": {
    "name": "ipython",
    "version": 3
   },
   "file_extension": ".py",
   "mimetype": "text/x-python",
   "name": "python",
   "nbconvert_exporter": "python",
   "pygments_lexer": "ipython3",
   "version": "3.9.7"
  }
 },
 "nbformat": 4,
 "nbformat_minor": 5
}
