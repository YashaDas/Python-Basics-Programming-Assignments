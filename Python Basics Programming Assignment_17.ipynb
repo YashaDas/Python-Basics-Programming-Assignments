{
 "cells": [
  {
   "cell_type": "markdown",
   "id": "c2fed350",
   "metadata": {},
   "source": [
    "# Python Basics Programming Assignment_17"
   ]
  },
  {
   "cell_type": "markdown",
   "id": "c0f134ef",
   "metadata": {},
   "source": [
    "### Question1. Create a function that takes three arguments a, b, c and returns the sum of the numbers that are evenly divided by c from the range a, b inclusive.\n",
    "\n",
    "\n",
    "### Examples\n",
    "\n",
    "\n",
    "### evenly_divisible(1, 10, 20) ➞ 0\n",
    "\n",
    "#### No number between 1 and 10 can be evenly divided by 20.\n",
    "\n",
    "\n",
    "### evenly_divisible(1, 10, 2) ➞ 30\n",
    "\n",
    "#### 2 + 4 + 6 + 8 + 10 = 30\n",
    "\n",
    "\n",
    "### evenly_divisible(1, 10, 3) ➞ 18\n",
    "\n",
    "#### 3 + 6 + 9 = 18"
   ]
  },
  {
   "cell_type": "markdown",
   "id": "c26c21a4",
   "metadata": {},
   "source": [
    "#### SOLUTION: "
   ]
  },
  {
   "cell_type": "code",
   "execution_count": 1,
   "id": "5989e880",
   "metadata": {},
   "outputs": [
    {
     "name": "stdout",
     "output_type": "stream",
     "text": [
      "Enter a : 1\n",
      "Enter b : 10\n",
      "Enter c : 4\n",
      "12\n"
     ]
    }
   ],
   "source": [
    "def evenly_divisible(a, b, c):     \n",
    "    sum = 0\n",
    "    for i in range(a, b + 1): \n",
    "        if (i % c == 0):\n",
    "            sum += i \n",
    "    return sum\n",
    "a = int(input('Enter a : '))\n",
    "b = int(input('Enter b : '))\n",
    "c = int(input('Enter c : '))\n",
    "print(evenly_divisible(a, b, c))"
   ]
  },
  {
   "cell_type": "markdown",
   "id": "f35f77ef",
   "metadata": {},
   "source": [
    "### Question2. Create a function that returns True if a given inequality expression is correct and False otherwise.\n",
    "\n",
    "\n",
    "### Examples\n",
    "\n",
    "\n",
    "### correct_signs(\"3 < 7 < 11\") ➞ True\n",
    "\n",
    "\n",
    "### correct_signs(\"13 > 44 > 33 > 1\") ➞ False\n",
    "\n",
    "\n",
    "### correct_signs(\"1 < 2 < 6 < 9 > 3\") ➞ True"
   ]
  },
  {
   "cell_type": "markdown",
   "id": "b845d528",
   "metadata": {},
   "source": [
    "#### SOLUTION:"
   ]
  },
  {
   "cell_type": "code",
   "execution_count": 2,
   "id": "334ca01e",
   "metadata": {},
   "outputs": [
    {
     "name": "stdout",
     "output_type": "stream",
     "text": [
      "False\n",
      "False\n",
      "True\n"
     ]
    }
   ],
   "source": [
    "def correct_signs(txt): \n",
    "    return eval(txt)\n",
    "print(correct_signs(\"3 > 7 < 11\"))\n",
    "print(correct_signs(\"13 > 44 > 33 > 1\"))\n",
    "print(correct_signs(\"1 < 2 < 6 < 9 > 3\"))"
   ]
  },
  {
   "cell_type": "markdown",
   "id": "65c35889",
   "metadata": {},
   "source": [
    "### Question3. Create a function that replaces all the vowels in a string with a specified character.\n",
    "\n",
    "\n",
    "### Examples\n",
    "\n",
    "\n",
    "### replace_vowels(\"the aardvark\", \"#\") ➞ \"th# ##rdv#rk\"\n",
    "\n",
    "\n",
    "### replace_vowels(\"minnie mouse\", \"?\") ➞ \"m?nn?? m??s?\"\n",
    "\n",
    "\n",
    "### replace_vowels(\"shakespeare\", \"*\") ➞ \"sh*k*sp**r*\""
   ]
  },
  {
   "cell_type": "markdown",
   "id": "3cac98a4",
   "metadata": {},
   "source": [
    "#### SOLUTION: "
   ]
  },
  {
   "cell_type": "code",
   "execution_count": 3,
   "id": "9ecf47aa",
   "metadata": {},
   "outputs": [
    {
     "name": "stdout",
     "output_type": "stream",
     "text": [
      "enter a string : abecidofu\n",
      "enter a vowel replacing string : *\n",
      "\n",
      "Given Sting: abecidofu\n",
      "Given Specified Character: *\n",
      "Afer replacing vowels with the specified character: *b*c*d*f*\n"
     ]
    }
   ],
   "source": [
    "def replace_vowels(str, s):\n",
    "    vowels = 'AEIOUaeiou'\n",
    "    for ele in vowels:  \n",
    "        str = str.replace(ele, s)  \n",
    "    return str\n",
    "  \n",
    "input_str = input(\"enter a string : \")\n",
    "s = input(\"enter a vowel replacing string : \")\n",
    "print(\"\\nGiven Sting:\", input_str)\n",
    "print(\"Given Specified Character:\", s)\n",
    "print(\"Afer replacing vowels with the specified character:\",replace_vowels(input_str, s))"
   ]
  },
  {
   "cell_type": "markdown",
   "id": "951b36db",
   "metadata": {},
   "source": [
    "### Question4. Write a function that calculates the factorial of a number recursively.\n",
    "\n",
    "\n",
    "### Examples\n",
    "\n",
    "\n",
    "### factorial(5) ➞ 120\n",
    "\n",
    "\n",
    "### factorial(3) ➞ 6\n",
    "\n",
    "\n",
    "### factorial(1) ➞ 1\n",
    "\n",
    "\n",
    "### factorial(0) ➞ 1"
   ]
  },
  {
   "cell_type": "markdown",
   "id": "fc9a722f",
   "metadata": {},
   "source": [
    "#### SOLUTION:"
   ]
  },
  {
   "cell_type": "code",
   "execution_count": 4,
   "id": "61d1e1db",
   "metadata": {},
   "outputs": [
    {
     "name": "stdout",
     "output_type": "stream",
     "text": [
      "enter a number :7\n",
      "Factorial of 7 is 5040\n"
     ]
    }
   ],
   "source": [
    "def factorial(n):     \n",
    "    if n == 0:\n",
    "        return 1    \n",
    "    return n * factorial(n-1)\n",
    "\n",
    "num = int(input('enter a number :'))\n",
    "print(\"Factorial of\", num, \"is\", factorial(num))"
   ]
  },
  {
   "cell_type": "markdown",
   "id": "9d0101f6",
   "metadata": {},
   "source": [
    "### Question 5\n",
    "\n",
    "\n",
    "### Hamming distance is the number of characters that differ between two strings.\n",
    "\n",
    "\n",
    "### To illustrate:\n",
    "    \n",
    "    \n",
    "### String1: \"abcbba\"\n",
    "    \n",
    "    \n",
    "### String2: \"abcbda\"\n",
    "    \n",
    "    \n",
    "\n",
    "### Hamming Distance: 1 - \"b\" vs. \"d\" is the only difference.\n",
    "    \n",
    "    \n",
    "### Create a function that computes the hamming distance between two strings.\n",
    "\n",
    "\n",
    "### Examples\n",
    "\n",
    "\n",
    "### hamming_distance(\"abcde\", \"bcdef\") ➞ 5\n",
    "\n",
    "\n",
    "### hamming_distance(\"abcde\", \"abcde\") ➞ 0\n",
    "\n",
    "\n",
    "### hamming_distance(\"strong\", \"strung\") ➞ 1"
   ]
  },
  {
   "cell_type": "markdown",
   "id": "2427caac",
   "metadata": {},
   "source": [
    "#### SOLUTION: "
   ]
  },
  {
   "cell_type": "code",
   "execution_count": 5,
   "id": "51af0538",
   "metadata": {},
   "outputs": [
    {
     "name": "stdout",
     "output_type": "stream",
     "text": [
      "5\n"
     ]
    }
   ],
   "source": [
    "def hamming_distance(str1, str2):\n",
    "    i = 0\n",
    "    count = 0\n",
    " \n",
    "    while(i < len(str1)):\n",
    "        if(str1[i] != str2[i]):\n",
    "            count += 1\n",
    "        i += 1\n",
    "    return count\n",
    " \n",
    "\n",
    "str1 = \"abcde\"\n",
    "str2 = \"bcdef\"\n",
    " \n",
    "print(hamming_distance(str1, str2))"
   ]
  },
  {
   "cell_type": "code",
   "execution_count": 6,
   "id": "ba8f0d00",
   "metadata": {},
   "outputs": [
    {
     "data": {
      "text/plain": [
       "1"
      ]
     },
     "execution_count": 6,
     "metadata": {},
     "output_type": "execute_result"
    }
   ],
   "source": [
    "hamming_distance(\"moon\", \"mood\")"
   ]
  },
  {
   "cell_type": "code",
   "execution_count": 7,
   "id": "c524aae0",
   "metadata": {},
   "outputs": [
    {
     "data": {
      "text/plain": [
       "0"
      ]
     },
     "execution_count": 7,
     "metadata": {},
     "output_type": "execute_result"
    }
   ],
   "source": [
    "hamming_distance(\"blue\",\"blue\")"
   ]
  }
 ],
 "metadata": {
  "kernelspec": {
   "display_name": "Python 3 (ipykernel)",
   "language": "python",
   "name": "python3"
  },
  "language_info": {
   "codemirror_mode": {
    "name": "ipython",
    "version": 3
   },
   "file_extension": ".py",
   "mimetype": "text/x-python",
   "name": "python",
   "nbconvert_exporter": "python",
   "pygments_lexer": "ipython3",
   "version": "3.9.7"
  }
 },
 "nbformat": 4,
 "nbformat_minor": 5
}
