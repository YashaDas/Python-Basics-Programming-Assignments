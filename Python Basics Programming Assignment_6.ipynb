{
 "cells": [
  {
   "cell_type": "markdown",
   "id": "1affb4a9",
   "metadata": {},
   "source": [
    "# Python Basics Programming Assignment_6"
   ]
  },
  {
   "cell_type": "markdown",
   "id": "25c18037",
   "metadata": {},
   "source": [
    "### 1. Write a Python Program to Display Fibonacci Sequence Using Recursion?"
   ]
  },
  {
   "cell_type": "markdown",
   "id": "5b98211e",
   "metadata": {},
   "source": [
    "##### SOLUTION: "
   ]
  },
  {
   "cell_type": "code",
   "execution_count": 1,
   "id": "90a68252",
   "metadata": {},
   "outputs": [
    {
     "name": "stdout",
     "output_type": "stream",
     "text": [
      "How many terms? 9\n",
      "Fibonacci sequence:\n",
      "0\n",
      "1\n",
      "1\n",
      "2\n",
      "3\n",
      "5\n",
      "8\n",
      "13\n",
      "21\n"
     ]
    }
   ],
   "source": [
    "# Python program to display the Fibonacci Sequence Using Recursion\n",
    "\n",
    "def recur_fibo(n):\n",
    "    if n <= 1:\n",
    "        return n\n",
    "    else:\n",
    "        return(recur_fibo(n-1) + recur_fibo(n-2))\n",
    "    \n",
    "# take input from the user\n",
    "nterms = int(input(\"How many terms? \"))\n",
    "\n",
    "# check if the number of terms is valid\n",
    "if nterms <= 0:\n",
    "    print(\"Plese enter a positive integer\")\n",
    "else:\n",
    "    print(\"Fibonacci sequence:\")\n",
    "    for i in range(nterms):\n",
    "        print(recur_fibo(i))"
   ]
  },
  {
   "cell_type": "markdown",
   "id": "af54006d",
   "metadata": {},
   "source": [
    "### 2. Write a Python Program to Find Factorial of Number Using Recursion?"
   ]
  },
  {
   "cell_type": "markdown",
   "id": "96985192",
   "metadata": {},
   "source": [
    "##### SOLUTION:  "
   ]
  },
  {
   "cell_type": "code",
   "execution_count": 2,
   "id": "9c71f648",
   "metadata": {},
   "outputs": [
    {
     "name": "stdout",
     "output_type": "stream",
     "text": [
      "Enter a number: 7\n",
      "The factorial of 7 is 5040\n"
     ]
    }
   ],
   "source": [
    "# Python Program to Find Factorial of Number Using Recursion\n",
    "\n",
    "def recur_factorial(n):\n",
    "    if n == 1:\n",
    "        return n\n",
    "    else:\n",
    "        return n*recur_factorial(n-1)\n",
    "    \n",
    "# take input from the user\n",
    "num = int(input(\"Enter a number: \"))\n",
    "\n",
    "# check if the number is negative\n",
    "if num < 0:\n",
    "    print(\"Sorry, factorial does not exist for negative numbers\")\n",
    "elif num == 0:\n",
    "    print(\"The factorial of 0 is 1\")\n",
    "else:\n",
    "    print(\"The factorial of\", num, \"is\", recur_factorial(num))"
   ]
  },
  {
   "cell_type": "markdown",
   "id": "2f8f5e1d",
   "metadata": {},
   "source": [
    "### 3. Write a Python Program to calculate your Body Mass Index?"
   ]
  },
  {
   "cell_type": "markdown",
   "id": "700582d8",
   "metadata": {},
   "source": [
    "##### SOLUTION:  "
   ]
  },
  {
   "cell_type": "code",
   "execution_count": 3,
   "id": "4146a536",
   "metadata": {},
   "outputs": [
    {
     "name": "stdout",
     "output_type": "stream",
     "text": [
      "Input your height in Feet: 5\n",
      "Input your weight in Kilogram: 55\n",
      "Your body mass index is:  2.2\n"
     ]
    }
   ],
   "source": [
    "# Python Program to calculate your Body Mass Index\n",
    "\n",
    "height = float(input(\"Input your height in Feet: \"))\n",
    "weight = float(input(\"Input your weight in Kilogram: \"))\n",
    "print(\"Your body mass index is: \", round(weight / (height * height),2))"
   ]
  },
  {
   "cell_type": "markdown",
   "id": "849470a2",
   "metadata": {},
   "source": [
    "### 4. Write a Python Program to calculate the natural logarithm of any number?"
   ]
  },
  {
   "cell_type": "markdown",
   "id": "f0500dc2",
   "metadata": {},
   "source": [
    "##### SOLUTION: "
   ]
  },
  {
   "cell_type": "code",
   "execution_count": 4,
   "id": "e84ba7b2",
   "metadata": {},
   "outputs": [
    {
     "name": "stdout",
     "output_type": "stream",
     "text": [
      "Enter a value: 27\n",
      "natural logarithm of  27.0  is =  3.295836866004329\n",
      "base-5 logarithm of  27.0  is =  2.047818583457956\n",
      "natural logarithm of 1+  27.0  is =  3.332204510175204\n",
      "base-2 logarithm of  27.0  is =  4.754887502163468\n",
      "base-10 logarithm of  27.0  is =  1.4313637641589874\n"
     ]
    }
   ],
   "source": [
    "# Python Program to calculate the natural logarithm of any number\n",
    "\n",
    "# log() function is used to find the the natural logarithm of x (to base e in Python for the given input(x – parameter).\n",
    "#The syntax of log() function in Python is:\n",
    "#math.log(x[, base])\n",
    "\n",
    "# importing math module\n",
    "import math\n",
    "\n",
    "# take input from the users\n",
    "x = float(input(\"Enter a value: \"))\n",
    "\n",
    "# natural logarithm (base-e) using log(x)\n",
    "print(\"natural logarithm of \", x, \" is = \", math.log(x))\n",
    "# logarithm (base-5) using log(x, base)\n",
    "print(\"base-5 logarithm of \", x, \" is = \", math.log(x,5))\n",
    "\n",
    "# natural logarithm (base-e) of 1+ number using log1p(x)\n",
    "print(\"natural logarithm of 1+ \", x, \" is = \", math.log(1+x))\n",
    "\n",
    "# base-2 logarithm using log2(x)\n",
    "print(\"base-2 logarithm of \", x, \" is = \", math.log2(x))\n",
    "\n",
    "# base-10 logarithm using log10(x)\n",
    "print(\"base-10 logarithm of \", x, \" is = \", math.log10(x))"
   ]
  },
  {
   "cell_type": "markdown",
   "id": "cbe86a0e",
   "metadata": {},
   "source": [
    "### 5. Write a Python Program for cube sum of first n natural numbers?"
   ]
  },
  {
   "cell_type": "markdown",
   "id": "720d1a4e",
   "metadata": {},
   "source": [
    "##### SOLUTION:  "
   ]
  },
  {
   "cell_type": "code",
   "execution_count": 5,
   "id": "c967fef9",
   "metadata": {},
   "outputs": [
    {
     "name": "stdout",
     "output_type": "stream",
     "text": [
      "Enter the value of n : 30\n",
      "Cube sum :  216225\n"
     ]
    }
   ],
   "source": [
    "# Python Program for cube sum of first n natural numbers\n",
    "\n",
    "def findCubeSum(n):\n",
    "    sum = 0\n",
    "    for value in range(1, n+1):\n",
    "        sum += value**3\n",
    "    return sum\n",
    "\n",
    "# take input from the users\n",
    "n = int(input(\"Enter the value of n : \"))\n",
    "\n",
    "print(\"Cube sum : \", findCubeSum(n))"
   ]
  }
 ],
 "metadata": {
  "kernelspec": {
   "display_name": "Python 3 (ipykernel)",
   "language": "python",
   "name": "python3"
  },
  "language_info": {
   "codemirror_mode": {
    "name": "ipython",
    "version": 3
   },
   "file_extension": ".py",
   "mimetype": "text/x-python",
   "name": "python",
   "nbconvert_exporter": "python",
   "pygments_lexer": "ipython3",
   "version": "3.9.7"
  }
 },
 "nbformat": 4,
 "nbformat_minor": 5
}
