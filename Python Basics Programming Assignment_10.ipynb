{
 "cells": [
  {
   "cell_type": "markdown",
   "id": "5b1ad1f6",
   "metadata": {},
   "source": [
    "# Python Basics Programming Assignment_10"
   ]
  },
  {
   "cell_type": "markdown",
   "id": "de121660",
   "metadata": {},
   "source": [
    "### 1. Write a Python program to find sum of elements in list?"
   ]
  },
  {
   "cell_type": "markdown",
   "id": "03c87584",
   "metadata": {},
   "source": [
    "##### SOLUTION: "
   ]
  },
  {
   "cell_type": "code",
   "execution_count": 1,
   "id": "e140845f",
   "metadata": {},
   "outputs": [
    {
     "name": "stdout",
     "output_type": "stream",
     "text": [
      "Sum of all elements in list:  28\n"
     ]
    }
   ],
   "source": [
    "# creating a list\n",
    "l = [1, 2, 3, 4, 5, 6, 7]\n",
    " \n",
    "# using sum() function\n",
    "total = sum(l)\n",
    " \n",
    "# printing total value\n",
    "print(\"Sum of all elements in list: \", total)"
   ]
  },
  {
   "cell_type": "markdown",
   "id": "23c1efee",
   "metadata": {},
   "source": [
    "### 2. Write a Python program to  Multiply all numbers in the list?"
   ]
  },
  {
   "cell_type": "markdown",
   "id": "75f43685",
   "metadata": {},
   "source": [
    "##### SOLUTION:  "
   ]
  },
  {
   "cell_type": "code",
   "execution_count": 2,
   "id": "97d58e4b",
   "metadata": {},
   "outputs": [
    {
     "name": "stdout",
     "output_type": "stream",
     "text": [
      "1235520\n"
     ]
    }
   ],
   "source": [
    "import math\n",
    "\n",
    "l1 = [8,9,10,11, 12, 13]\n",
    " \n",
    "multiply_list = math.prod(l1)\n",
    "\n",
    "print(multiply_list)"
   ]
  },
  {
   "cell_type": "markdown",
   "id": "6c0abe80",
   "metadata": {},
   "source": [
    "### 3. Write a Python program to find smallest number in a list?"
   ]
  },
  {
   "cell_type": "markdown",
   "id": "92d8f5e2",
   "metadata": {},
   "source": [
    "##### SOLUTION:  "
   ]
  },
  {
   "cell_type": "code",
   "execution_count": 3,
   "id": "5a7c8da2",
   "metadata": {},
   "outputs": [
    {
     "name": "stdout",
     "output_type": "stream",
     "text": [
      "Smallest number in the list is : 6\n"
     ]
    }
   ],
   "source": [
    "# creating a list\n",
    "l2 = [14, 15, 20, 13, 21, 10, 8, 7, 6]\n",
    " \n",
    "#using min() function \n",
    "print(\"Smallest number in the list is :\", min(l2))"
   ]
  },
  {
   "cell_type": "markdown",
   "id": "93b758d9",
   "metadata": {},
   "source": [
    "### 4. Write a Python program to find largest number in a list?"
   ]
  },
  {
   "cell_type": "markdown",
   "id": "7abbcd31",
   "metadata": {},
   "source": [
    "##### SOLUTION:  "
   ]
  },
  {
   "cell_type": "code",
   "execution_count": 4,
   "id": "3aef6eef",
   "metadata": {},
   "outputs": [
    {
     "name": "stdout",
     "output_type": "stream",
     "text": [
      "Largest number in the list is : 1045\n"
     ]
    }
   ],
   "source": [
    "# creating a list \n",
    "l3 = [100, 345, 620, 1045, 32, 2, -1, 700, 150]\n",
    "\n",
    "#using max() function\n",
    "print(\"Largest number in the list is :\", max(l3))"
   ]
  },
  {
   "cell_type": "markdown",
   "id": "fb1330f0",
   "metadata": {},
   "source": [
    "### 5. Write a Python program to find second largest number in a list?"
   ]
  },
  {
   "cell_type": "markdown",
   "id": "1c00d187",
   "metadata": {},
   "source": [
    "##### SOLUTION:  "
   ]
  },
  {
   "cell_type": "code",
   "execution_count": 5,
   "id": "f6c7de20",
   "metadata": {},
   "outputs": [
    {
     "name": "stdout",
     "output_type": "stream",
     "text": [
      "Second largest number in the list is: 70\n"
     ]
    }
   ],
   "source": [
    "# creating a list \n",
    "l4 = [5 ,4, 3, 10, 2, 64, 70, 123, 1, 0]\n",
    " \n",
    "# sorting the list\n",
    "l4.sort()\n",
    " \n",
    "# printing the second last element\n",
    "print(\"Second largest number in the list is:\", l4[-2])"
   ]
  },
  {
   "cell_type": "markdown",
   "id": "6f2e0a6a",
   "metadata": {},
   "source": [
    "### 6. Write a Python program to find N largest elements from a list?"
   ]
  },
  {
   "cell_type": "markdown",
   "id": "49b36bf4",
   "metadata": {},
   "source": [
    "##### SOLUTION:  "
   ]
  },
  {
   "cell_type": "code",
   "execution_count": 6,
   "id": "1d8f6af1",
   "metadata": {},
   "outputs": [
    {
     "name": "stdout",
     "output_type": "stream",
     "text": [
      "N largest elements from the list : 3\n",
      "[769, 930, 3000]\n"
     ]
    }
   ],
   "source": [
    "# creating a list\n",
    "l5 = [3000, 365, 400, 102, 769, -60, 930]\n",
    "\n",
    "# taking input for N largest elements from a list \n",
    "n = int(input(\"N largest elements from the list : \"))\n",
    "\n",
    "#sorting the list  \n",
    "l5.sort()\n",
    "print(l5[-n:])"
   ]
  },
  {
   "cell_type": "markdown",
   "id": "f3fc299e",
   "metadata": {},
   "source": [
    "### 7. Write a Python program to print even numbers in a list?"
   ]
  },
  {
   "cell_type": "markdown",
   "id": "ba2e857c",
   "metadata": {},
   "source": [
    "##### SOLUTION:  "
   ]
  },
  {
   "cell_type": "code",
   "execution_count": 10,
   "id": "0304238b",
   "metadata": {},
   "outputs": [
    {
     "data": {
      "text/plain": [
       "[20, 4, 124, 6]"
      ]
     },
     "execution_count": 10,
     "metadata": {},
     "output_type": "execute_result"
    }
   ],
   "source": [
    "# creating a list\n",
    "l6 = [20, 3, 4, 15, 124, 6, 33, 7]\n",
    "lst = []  \n",
    "for num in l6:\n",
    "    if num % 2 == 0:\n",
    "        lst.append(num)\n",
    "lst        "
   ]
  },
  {
   "cell_type": "markdown",
   "id": "6d424b06",
   "metadata": {},
   "source": [
    "### 8. Write a Python program to print odd numbers in a List?"
   ]
  },
  {
   "cell_type": "markdown",
   "id": "d913cd19",
   "metadata": {},
   "source": [
    "##### SOLUTION:  "
   ]
  },
  {
   "cell_type": "code",
   "execution_count": 11,
   "id": "73e15f5d",
   "metadata": {},
   "outputs": [
    {
     "data": {
      "text/plain": [
       "[63, 45, 3, 75]"
      ]
     },
     "execution_count": 11,
     "metadata": {},
     "output_type": "execute_result"
    }
   ],
   "source": [
    "# creating a list\n",
    "l7 = [63, 45, 6, 3, 22, 75, 42, 8]\n",
    "lst2 = []  \n",
    "for num in l7:\n",
    "    if num % 2 != 0:\n",
    "        lst2.append(num)\n",
    "lst2        "
   ]
  },
  {
   "cell_type": "markdown",
   "id": "e1e65dc5",
   "metadata": {},
   "source": [
    "### 9. Write a Python program to Remove empty List from List?"
   ]
  },
  {
   "cell_type": "markdown",
   "id": "4f64cb2a",
   "metadata": {},
   "source": [
    "##### SOLUTION:  "
   ]
  },
  {
   "cell_type": "code",
   "execution_count": 12,
   "id": "6a5d9305",
   "metadata": {},
   "outputs": [
    {
     "name": "stdout",
     "output_type": "stream",
     "text": [
      "The list with empyty lists :  [[], [1, 2], [], [23, 24, 25, 26], [-3, 0], []]\n",
      "The list after removing the empty lists :  [[1, 2], [23, 24, 25, 26], [-3, 0]]\n"
     ]
    }
   ],
   "source": [
    "# creating a list with empty lists\n",
    "l8 = [[], [1,2,], [], [23,24,25,26],[-3,0,],[]]\n",
    "\n",
    "#printing the list with empty lists\n",
    "print(\"The list with empyty lists : \",l8)\n",
    "\n",
    "#removing empty lists from the list using filter() function\n",
    "l9 = list(filter(None,l8))\n",
    "\n",
    "# printing the list after removing the empty lists\n",
    "print(\"The list after removing the empty lists : \",l9)"
   ]
  },
  {
   "cell_type": "markdown",
   "id": "167a7b26",
   "metadata": {},
   "source": [
    "### 10. Write a Python program to Cloning or Copying a list?"
   ]
  },
  {
   "cell_type": "markdown",
   "id": "541248a1",
   "metadata": {},
   "source": [
    "##### SOLUTION:  "
   ]
  },
  {
   "cell_type": "code",
   "execution_count": 13,
   "id": "6ecb417d",
   "metadata": {},
   "outputs": [
    {
     "name": "stdout",
     "output_type": "stream",
     "text": [
      "Original List: [5, 6, 7, 8, 9, 12, 45, 67, 80]\n",
      "After Cloning: [5, 6, 7, 8, 9, 12, 45, 67, 80]\n"
     ]
    }
   ],
   "source": [
    "def Cloning(l10):\n",
    "    l11_copy = list(l10)\n",
    "    return l11_copy\n",
    "  \n",
    "l10 = [5, 6, 7 ,8, 9, 12, 45, 67, 80]\n",
    "l12 = Cloning(l10)\n",
    "print(\"Original List:\", l10)\n",
    "print(\"After Cloning:\", l12)"
   ]
  },
  {
   "cell_type": "markdown",
   "id": "72dad9e2",
   "metadata": {},
   "source": [
    "### 11. Write a Python program to Count occurrences of an element in a list?"
   ]
  },
  {
   "cell_type": "markdown",
   "id": "a497abdc",
   "metadata": {},
   "source": [
    "##### SOLUTION:  "
   ]
  },
  {
   "cell_type": "code",
   "execution_count": 14,
   "id": "0bc58d61",
   "metadata": {},
   "outputs": [
    {
     "name": "stdout",
     "output_type": "stream",
     "text": [
      "Enter an element in a list : 8\n",
      "8 has occurred 5 times\n"
     ]
    }
   ],
   "source": [
    "def count(l13, i):\n",
    "    return l13.count(i)\n",
    "\n",
    "l13 = [8, 6, 8, 10, 8, 20, 10, 8, 8]\n",
    "i = int(input(\"Enter an element in a list : \"))\n",
    "print('{} has occurred {} times'.format(i, count(l13, i)))"
   ]
  }
 ],
 "metadata": {
  "kernelspec": {
   "display_name": "Python 3 (ipykernel)",
   "language": "python",
   "name": "python3"
  },
  "language_info": {
   "codemirror_mode": {
    "name": "ipython",
    "version": 3
   },
   "file_extension": ".py",
   "mimetype": "text/x-python",
   "name": "python",
   "nbconvert_exporter": "python",
   "pygments_lexer": "ipython3",
   "version": "3.9.7"
  }
 },
 "nbformat": 4,
 "nbformat_minor": 5
}
