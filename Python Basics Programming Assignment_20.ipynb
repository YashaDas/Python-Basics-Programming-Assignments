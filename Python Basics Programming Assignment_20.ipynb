{
 "cells": [
  {
   "cell_type": "markdown",
   "id": "5c212b8c",
   "metadata": {},
   "source": [
    "# Python Basics Programming Assignment_20"
   ]
  },
  {
   "cell_type": "markdown",
   "id": "542fac5d",
   "metadata": {},
   "source": [
    "### Question1\n",
    "\n",
    "\n",
    "### Create a function that takes a list of strings and integers, and filters out the list so that it returns a list of integers only.\n",
    "\n",
    "\n",
    "### Examples\n",
    "\n",
    "\n",
    "### filter_list([1, 2, 3, \"a\", \"b\", 4]) ➞ [1, 2, 3, 4]\n",
    "\n",
    "\n",
    "### filter_list([\"A\", 0, \"Edabit\", 1729, \"Python\", \"1729\"]) ➞ [0, 1729]\n",
    "\n",
    "\n",
    "### filter_list([\"Nothing\", \"here\"]) ➞ []"
   ]
  },
  {
   "cell_type": "markdown",
   "id": "6adc2eff",
   "metadata": {},
   "source": [
    "#### SOLUTION:"
   ]
  },
  {
   "cell_type": "code",
   "execution_count": 1,
   "id": "5525d782",
   "metadata": {},
   "outputs": [],
   "source": [
    "lst = [1, 2, 3, 'a', 'b', 4]\n",
    "def filter_list(lst):\n",
    "    int_list = []\n",
    "    for i in lst:\n",
    "        if type(i) == int:\n",
    "            int_list.append(i)\n",
    "       \n",
    "    return int_list"
   ]
  },
  {
   "cell_type": "code",
   "execution_count": 2,
   "id": "e0754660",
   "metadata": {},
   "outputs": [
    {
     "data": {
      "text/plain": [
       "[1, 2, 3, 4, 5, 6, 7]"
      ]
     },
     "execution_count": 2,
     "metadata": {},
     "output_type": "execute_result"
    }
   ],
   "source": [
    "filter_list([1,2,3,4,'abc','def',5,6,7,'xyz'])"
   ]
  },
  {
   "cell_type": "code",
   "execution_count": 3,
   "id": "b42aca10",
   "metadata": {},
   "outputs": [
    {
     "data": {
      "text/plain": [
       "[1306, 3009]"
      ]
     },
     "execution_count": 3,
     "metadata": {},
     "output_type": "execute_result"
    }
   ],
   "source": [
    "filter_list([\"blue\", \"red\", \"puple\", 1306, 3009, \"rain\"])"
   ]
  },
  {
   "cell_type": "code",
   "execution_count": 4,
   "id": "6d013260",
   "metadata": {},
   "outputs": [
    {
     "data": {
      "text/plain": [
       "[]"
      ]
     },
     "execution_count": 4,
     "metadata": {},
     "output_type": "execute_result"
    }
   ],
   "source": [
    "filter_list([\"music\", \"ice\", \"cold\", \"movie\"])"
   ]
  },
  {
   "cell_type": "markdown",
   "id": "dbe4513f",
   "metadata": {},
   "source": [
    "### Question2\n",
    "\n",
    "\n",
    "### Given a list of numbers, create a function which returns the list but with each element's index in the list added to itself. This means you add 0 to the number at index 0, add 1 to the number at index 1, etc...\n",
    "\n",
    "\n",
    "### Examples\n",
    "\n",
    "\n",
    "### add_indexes([0, 0, 0, 0, 0]) ➞ [0, 1, 2, 3, 4]\n",
    "\n",
    "\n",
    "### add_indexes([1, 2, 3, 4, 5]) ➞ [1, 3, 5, 7, 9]\n",
    "\n",
    "\n",
    "### add_indexes([5, 4, 3, 2, 1]) ➞ [5, 5, 5, 5, 5]"
   ]
  },
  {
   "cell_type": "markdown",
   "id": "cca98d37",
   "metadata": {},
   "source": [
    "#### SOLUTION:"
   ]
  },
  {
   "cell_type": "code",
   "execution_count": 5,
   "id": "8e3e30ef",
   "metadata": {},
   "outputs": [],
   "source": [
    "def add_indexes(lst):\n",
    "    ind = 0\n",
    "    index = []\n",
    "    for i in lst:\n",
    "        index.append(lst.index(i,ind) + i)\n",
    "        ind+=1\n",
    "    return index"
   ]
  },
  {
   "cell_type": "code",
   "execution_count": 8,
   "id": "c02ade09",
   "metadata": {},
   "outputs": [
    {
     "data": {
      "text/plain": [
       "[1, 2, 3, 4, 5, 6, 7]"
      ]
     },
     "execution_count": 8,
     "metadata": {},
     "output_type": "execute_result"
    }
   ],
   "source": [
    "add_indexes([1,1,1,1,1,1,1])"
   ]
  },
  {
   "cell_type": "code",
   "execution_count": 9,
   "id": "88fa5ebb",
   "metadata": {},
   "outputs": [
    {
     "data": {
      "text/plain": [
       "[0, 1, 2, 3, 4, 5, 6]"
      ]
     },
     "execution_count": 9,
     "metadata": {},
     "output_type": "execute_result"
    }
   ],
   "source": [
    "add_indexes([0,0,0,0,0,0,0])"
   ]
  },
  {
   "cell_type": "code",
   "execution_count": 10,
   "id": "ce4f7b4a",
   "metadata": {},
   "outputs": [
    {
     "data": {
      "text/plain": [
       "[2, 10, 7, 9, 12, 14, 6]"
      ]
     },
     "execution_count": 10,
     "metadata": {},
     "output_type": "execute_result"
    }
   ],
   "source": [
    "add_indexes([2,9,5,6,8,9,0])"
   ]
  },
  {
   "cell_type": "markdown",
   "id": "0dcb7413",
   "metadata": {},
   "source": [
    "### Question3\n",
    "\n",
    "\n",
    "### Create a function that takes the height and radius of a cone as arguments and returns the volume of the cone rounded to the nearest hundredth. See the resources tab for the formula."
   ]
  },
  {
   "attachments": {
    "q3%20assignment20.gif": {
     "image/gif": "[encoded data removed]"
    }
   },
   "cell_type": "markdown",
   "id": "6be19860",
   "metadata": {},
   "source": [
    "![q3%20assignment20.gif](attachment:q3%20assignment20.gif)"
   ]
  },
  {
   "cell_type": "markdown",
   "id": "2eea1cb2",
   "metadata": {},
   "source": [
    "### Examples\n",
    "\n",
    "\n",
    "### cone_volume(3, 2) ➞ 12.57\n",
    "\n",
    "\n",
    "### cone_volume(15, 6) ➞ 565.49\n",
    "\n",
    "\n",
    "### cone_volume(18, 0) ➞ 0"
   ]
  },
  {
   "cell_type": "markdown",
   "id": "56efe080",
   "metadata": {},
   "source": [
    "#### SOLUTION:"
   ]
  },
  {
   "cell_type": "code",
   "execution_count": 11,
   "id": "ff92f1ce",
   "metadata": {},
   "outputs": [
    {
     "name": "stdout",
     "output_type": "stream",
     "text": [
      "Volume Of Cone :  565\n"
     ]
    }
   ],
   "source": [
    "import math\n",
    "pi = math.pi\n",
    " \n",
    "# Calculating Volume of Cone\n",
    "def cone_volume(h, r):\n",
    "    return round((1 / 3) * pi * r * r * h)\n",
    " \n",
    "\n",
    "\n",
    "\n",
    "height = float(15)\n",
    "radius = float(6)\n",
    "\n",
    "print( \"Volume Of Cone : \", cone_volume(height, radius) )"
   ]
  },
  {
   "cell_type": "code",
   "execution_count": 12,
   "id": "5f9c10f1",
   "metadata": {},
   "outputs": [
    {
     "data": {
      "text/plain": [
       "452"
      ]
     },
     "execution_count": 12,
     "metadata": {},
     "output_type": "execute_result"
    }
   ],
   "source": [
    "cone_volume(12,6)"
   ]
  },
  {
   "cell_type": "code",
   "execution_count": 13,
   "id": "f66edba0",
   "metadata": {},
   "outputs": [
    {
     "data": {
      "text/plain": [
       "0"
      ]
     },
     "execution_count": 13,
     "metadata": {},
     "output_type": "execute_result"
    }
   ],
   "source": [
    "cone_volume(18,0)"
   ]
  },
  {
   "cell_type": "markdown",
   "id": "3857deb3",
   "metadata": {},
   "source": [
    "### Question4\n",
    "\n",
    "\n",
    "### This Triangular Number Sequence is generated from a pattern of dots that form a triangle. The first 5 numbers of the sequence, or dots, are:\n",
    "\n",
    "\n",
    "### 1, 3, 6, 10, 15\n",
    "\n",
    "\n",
    "### This means that the first triangle has just one dot, the second one has three dots, the third one has 6 dots and so on.\n",
    "\n",
    "\n",
    "### Write a function that gives the number of dots with its corresponding triangle number of the sequence.\n",
    "\n",
    "\n",
    "### Examples\n",
    "\n",
    "\n",
    "### triangle(1) ➞ 1\n",
    "\n",
    "\n",
    "### triangle(6) ➞ 21\n",
    "\n",
    "\n",
    "### triangle(215) ➞ 23220"
   ]
  },
  {
   "cell_type": "markdown",
   "id": "4a0d9a76",
   "metadata": {},
   "source": [
    "#### SOLUTION:"
   ]
  },
  {
   "cell_type": "markdown",
   "id": "891bfd71",
   "metadata": {},
   "source": [
    "- First, rearrange the dots like this:\n",
    "\n",
    "\n",
    "- triangular numbers 1 to 5\n",
    "\n",
    "\n",
    "- Then double the number of dots, and form them into a rectangle:\n",
    "\n",
    "\n",
    "- triangular numbers when doubled become n by n+1 rectangles\n",
    "\n",
    "\n",
    "- Now it is easy to work out how many dots: just multiply n by n+1"
   ]
  },
  {
   "cell_type": "code",
   "execution_count": 26,
   "id": "14a2e3d6",
   "metadata": {},
   "outputs": [
    {
     "name": "stdout",
     "output_type": "stream",
     "text": [
      "Enter the triangle number :215\n",
      "The 215th triangle has 23220 dots \n"
     ]
    }
   ],
   "source": [
    "def triangle(n):\n",
    "    return round(n*(n+1)*0.5)\n",
    "\n",
    "n = int(input('Enter the triangle number :'))\n",
    "print(\"The {}th triangle has {} dots \".format(n,int(triangle(n))))"
   ]
  },
  {
   "cell_type": "code",
   "execution_count": 27,
   "id": "5a00fd1f",
   "metadata": {},
   "outputs": [
    {
     "data": {
      "text/plain": [
       "210"
      ]
     },
     "execution_count": 27,
     "metadata": {},
     "output_type": "execute_result"
    }
   ],
   "source": [
    "triangle(20)"
   ]
  },
  {
   "cell_type": "code",
   "execution_count": 28,
   "id": "bf029580",
   "metadata": {},
   "outputs": [
    {
     "data": {
      "text/plain": [
       "1"
      ]
     },
     "execution_count": 28,
     "metadata": {},
     "output_type": "execute_result"
    }
   ],
   "source": [
    "triangle(1)"
   ]
  },
  {
   "cell_type": "markdown",
   "id": "0a301851",
   "metadata": {},
   "source": [
    "### Question5\n",
    "\n",
    "\n",
    "### Create a function that takes a list of numbers between 1 and 10 (excluding one number) and returns the missing number.\n",
    "\n",
    "\n",
    "### Examples\n",
    "\n",
    "\n",
    "### missing_num([1, 2, 3, 4, 6, 7, 8, 9, 10]) ➞ 5\n",
    "\n",
    "\n",
    "### missing_num([7, 2, 3, 6, 5, 9, 1, 4, 8]) ➞ 10\n",
    "\n",
    "\n",
    "### missing_num([10, 5, 1, 2, 4, 6, 8, 3, 9]) ➞ 7"
   ]
  },
  {
   "cell_type": "markdown",
   "id": "62514a36",
   "metadata": {},
   "source": [
    "#### SOLUTION:"
   ]
  },
  {
   "cell_type": "code",
   "execution_count": 42,
   "id": "d9009617",
   "metadata": {},
   "outputs": [],
   "source": [
    "def missing_num(lst):\n",
    "    total = sum([x for x in range(11)])\n",
    "    sum_Of_list = sum(lst)\n",
    "    return total - sum_Of_list"
   ]
  },
  {
   "cell_type": "code",
   "execution_count": 43,
   "id": "39597bba",
   "metadata": {},
   "outputs": [
    {
     "data": {
      "text/plain": [
       "7"
      ]
     },
     "execution_count": 43,
     "metadata": {},
     "output_type": "execute_result"
    }
   ],
   "source": [
    "missing_num([10, 5, 1, 2, 4, 6, 8, 3, 9])"
   ]
  },
  {
   "cell_type": "code",
   "execution_count": 44,
   "id": "2b6c1821",
   "metadata": {},
   "outputs": [
    {
     "data": {
      "text/plain": [
       "4"
      ]
     },
     "execution_count": 44,
     "metadata": {},
     "output_type": "execute_result"
    }
   ],
   "source": [
    "missing_num([1,2,3,5,7,6,9,8,10])"
   ]
  },
  {
   "cell_type": "code",
   "execution_count": 45,
   "id": "98d5b847",
   "metadata": {},
   "outputs": [
    {
     "data": {
      "text/plain": [
       "2"
      ]
     },
     "execution_count": 45,
     "metadata": {},
     "output_type": "execute_result"
    }
   ],
   "source": [
    "missing_num([1,4,9,10,5,6,7,8,3])"
   ]
  }
 ],
 "metadata": {
  "kernelspec": {
   "display_name": "Python 3 (ipykernel)",
   "language": "python",
   "name": "python3"
  },
  "language_info": {
   "codemirror_mode": {
    "name": "ipython",
    "version": 3
   },
   "file_extension": ".py",
   "mimetype": "text/x-python",
   "name": "python",
   "nbconvert_exporter": "python",
   "pygments_lexer": "ipython3",
   "version": "3.9.7"
  }
 },
 "nbformat": 4,
 "nbformat_minor": 5
}
