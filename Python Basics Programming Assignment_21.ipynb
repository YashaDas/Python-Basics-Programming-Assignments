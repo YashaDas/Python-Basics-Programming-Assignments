{
 "cells": [
  {
   "cell_type": "markdown",
   "id": "0ae65083",
   "metadata": {},
   "source": [
    "# Python Basics Programming Assignment_21"
   ]
  },
  {
   "cell_type": "markdown",
   "id": "c9e55ded",
   "metadata": {},
   "source": [
    "### Question1\n",
    "\n",
    "\n",
    "### Write a function that takes a list and a number as arguments. Add the number to the end of the list, then remove the first element of the list. The function should then return the updated list.\n",
    "\n",
    "\n",
    "### Examples\n",
    "\n",
    "\n",
    "### next_in_line([5, 6, 7, 8, 9], 1) ➞ [6, 7, 8, 9, 1]\n",
    "\n",
    "\n",
    "### next_in_line([7, 6, 3, 23, 17], 10) ➞ [6, 3, 23, 17, 10]\n",
    "\n",
    "\n",
    "### next_in_line([1, 10, 20, 42 ], 6) ➞ [10, 20, 42, 6]\n",
    "\n",
    "\n",
    "### next_in_line([], 6) ➞ \"No list has been selected\""
   ]
  },
  {
   "cell_type": "markdown",
   "id": "8605eccb",
   "metadata": {},
   "source": [
    "#### SOLUTION:"
   ]
  },
  {
   "cell_type": "code",
   "execution_count": 1,
   "id": "3f655f9b",
   "metadata": {},
   "outputs": [],
   "source": [
    "lst = [5, 6, 7, 8, 9]\n",
    "def next_in_line(lst,num):\n",
    "    if len(lst) > 0 :\n",
    "        lst.append(num)\n",
    "        return lst[1:]\n",
    "    else:\n",
    "        print(\"'No list has been selected'\")"
   ]
  },
  {
   "cell_type": "code",
   "execution_count": 2,
   "id": "a253ef73",
   "metadata": {},
   "outputs": [
    {
     "data": {
      "text/plain": [
       "[2, 3, 4, 5, 6, 94]"
      ]
     },
     "execution_count": 2,
     "metadata": {},
     "output_type": "execute_result"
    }
   ],
   "source": [
    "next_in_line([1,2,3,4,5,6],94)"
   ]
  },
  {
   "cell_type": "code",
   "execution_count": 3,
   "id": "4ba81f6c",
   "metadata": {},
   "outputs": [
    {
     "name": "stdout",
     "output_type": "stream",
     "text": [
      "'No list has been selected'\n"
     ]
    }
   ],
   "source": [
    "next_in_line([],7)"
   ]
  },
  {
   "cell_type": "markdown",
   "id": "6e6b45c1",
   "metadata": {},
   "source": [
    "### Question2\n",
    "\n",
    "\n",
    "### Create the function that takes a list of dictionaries and returns the sum of people's budgets.\n",
    "\n",
    "\n",
    "### Examples\n",
    "\n",
    "\n",
    "### get_budgets([\n",
    "\n",
    "###  { \"name\": \"John\", \"age\": 21, \"budget\": 23000 },\n",
    "  \n",
    "###  { \"name\": \"Steve\",  \"age\": 32, \"budget\": 40000 },\n",
    "  \n",
    "###  { \"name\": \"Martin\",  \"age\": 16, \"budget\": 2700 }\n",
    "  \n",
    "### ]) ➞ 65700\n",
    "\n",
    "\n",
    "\n",
    "### get_budgets([\n",
    "\n",
    "###  { \"name\": \"John\",  \"age\": 21, \"budget\": 29000 },\n",
    "  \n",
    "###  { \"name\": \"Steve\",  \"age\": 32, \"budget\": 32000 },\n",
    "  \n",
    "###  { \"name\": \"Martin\",  \"age\": 16, \"budget\": 1600 }\n",
    "  \n",
    "### ]) ➞ 62600"
   ]
  },
  {
   "cell_type": "markdown",
   "id": "62b90bae",
   "metadata": {},
   "source": [
    "#### SOLUTION:"
   ]
  },
  {
   "cell_type": "code",
   "execution_count": 4,
   "id": "15f7a0c0",
   "metadata": {},
   "outputs": [],
   "source": [
    "def get_budgets(listDict):\n",
    "    sum = 0\n",
    "    for i in listDict:\n",
    "        for k,v in i.items():\n",
    "            if k == 'budget':\n",
    "                sum = sum + v\n",
    "    return sum"
   ]
  },
  {
   "cell_type": "code",
   "execution_count": 5,
   "id": "e09afaf8",
   "metadata": {},
   "outputs": [
    {
     "data": {
      "text/plain": [
       "108000"
      ]
     },
     "execution_count": 5,
     "metadata": {},
     "output_type": "execute_result"
    }
   ],
   "source": [
    "get_budgets([{\"name\": \"Eric\", \"age\": 21, \"budget\": 23000},\n",
    "            {\"name\": \"Harry\", \"age\": 27, \"budget\": 37000},\n",
    "            {\"name\": \"Jane\", \"age\": 25, \"budget\": 48000}])"
   ]
  },
  {
   "cell_type": "markdown",
   "id": "6d03cae4",
   "metadata": {},
   "source": [
    "### Question3\n",
    "\n",
    "\n",
    "### Create a function that takes a string and returns a string with its letters in alphabetical order.\n",
    "\n",
    "\n",
    "### Examples\n",
    "\n",
    "\n",
    "### alphabet_soup(\"hello\") ➞ \"ehllo\"\n",
    "\n",
    "\n",
    "### alphabet_soup(\"edabit\") ➞ \"abdeit\"\n",
    "\n",
    "\n",
    "### alphabet_soup(\"hacker\") ➞ \"acehkr\"\n",
    "\n",
    "\n",
    "### alphabet_soup(\"geek\") ➞ \"eegk\"\n",
    "\n",
    "\n",
    "### alphabet_soup(\"javascript\") ➞ \"aacijprstv\""
   ]
  },
  {
   "cell_type": "markdown",
   "id": "7d38b7b8",
   "metadata": {},
   "source": [
    "#### SOLUTION:"
   ]
  },
  {
   "cell_type": "code",
   "execution_count": 6,
   "id": "3d236325",
   "metadata": {},
   "outputs": [],
   "source": [
    "def alphabet_soup(str):\n",
    "    return ''.join(sorted(str))"
   ]
  },
  {
   "cell_type": "code",
   "execution_count": 7,
   "id": "57f10a17",
   "metadata": {},
   "outputs": [
    {
     "data": {
      "text/plain": [
       "'elppru'"
      ]
     },
     "execution_count": 7,
     "metadata": {},
     "output_type": "execute_result"
    }
   ],
   "source": [
    "alphabet_soup(\"purple\")"
   ]
  },
  {
   "cell_type": "markdown",
   "id": "4731a0ba",
   "metadata": {},
   "source": [
    "### Question4\n",
    "\n",
    "\n",
    "### Suppose that you invest 10,000 dollar for 10 years at an interest rate of 6% compounded monthly. What will be the value of your investment at the end of the 10 year period?\n",
    "\n",
    "\n",
    "### Create a function that accepts the principal p, the term in years t, the interest rate r, and the number of compounding periods per year n. The function returns the value at the end of term rounded to the nearest cent.\n",
    "\n",
    "\n",
    "### For the example above:\n",
    "    \n",
    "    \n",
    "### compound_interest(10000, 10, 0.06, 12) ➞ 18193.97\n",
    "\n",
    "\n",
    "### Note that the interest rate is given as a decimal and n=12 because with monthly compounding there are 12 periods per year. Compounding can also be done annually, quarterly, weekly, or daily.\n",
    "\n",
    "\n",
    "### Examples\n",
    "\n",
    "\n",
    "### compound_interest(100, 1, 0.05, 1) ➞ 105.0\n",
    "\n",
    "\n",
    "### compound_interest(3500, 15, 0.1, 4) ➞ 15399.26\n",
    "\n",
    "\n",
    "### compound_interest(100000, 20, 0.15, 365) ➞ 2007316.26"
   ]
  },
  {
   "cell_type": "markdown",
   "id": "847f582a",
   "metadata": {},
   "source": [
    "#### SOLUTION:"
   ]
  },
  {
   "cell_type": "code",
   "execution_count": 8,
   "id": "88c3583f",
   "metadata": {},
   "outputs": [],
   "source": [
    "def compound_interest(amt, years, intrest, compPeriod):\n",
    "    future_value = amt *(1 + (intrest/compPeriod)) ** (years * compPeriod)\n",
    "    return round(future_value,2)"
   ]
  },
  {
   "cell_type": "code",
   "execution_count": 9,
   "id": "88a4f208",
   "metadata": {},
   "outputs": [
    {
     "data": {
      "text/plain": [
       "13303474.64"
      ]
     },
     "execution_count": 9,
     "metadata": {},
     "output_type": "execute_result"
    }
   ],
   "source": [
    "compound_interest(70000, 10, 0.6, 2)"
   ]
  },
  {
   "cell_type": "markdown",
   "id": "fca6b779",
   "metadata": {},
   "source": [
    "### Question5\n",
    "\n",
    "\n",
    "### Write a function that takes a list of elements and returns only the integers.\n",
    "\n",
    "\n",
    "### Examples\n",
    "\n",
    "\n",
    "### return_only_integer([9, 2, \"space\", \"car\", \"lion\", 16]) ➞ [9, 2, 16]\n",
    "\n",
    "\n",
    "### return_only_integer([\"hello\", 81, \"basketball\", 123, \"fox\"]) ➞ [81, 123]\n",
    "\n",
    "\n",
    "### return_only_integer([10, \"121\", 56, 20, \"car\", 3, \"lion\"]) ➞ [10, 56, 20, 3]\n",
    "\n",
    "\n",
    "### return_only_integer([\"String\",  True,  3.3,  1]) ➞ [1]"
   ]
  },
  {
   "cell_type": "markdown",
   "id": "3aa1c6a6",
   "metadata": {},
   "source": [
    "#### SOLUTION:"
   ]
  },
  {
   "cell_type": "code",
   "execution_count": 10,
   "id": "1542a448",
   "metadata": {},
   "outputs": [],
   "source": [
    "def return_only_integer(lst):\n",
    "    int_list = []\n",
    "    for i in lst:\n",
    "        if type(i) == int:\n",
    "            int_list.append(i)\n",
    "    return int_list"
   ]
  },
  {
   "cell_type": "code",
   "execution_count": 11,
   "id": "bbe696ad",
   "metadata": {},
   "outputs": [
    {
     "data": {
      "text/plain": [
       "[123, 356, 700, 1306, 100]"
      ]
     },
     "execution_count": 11,
     "metadata": {},
     "output_type": "execute_result"
    }
   ],
   "source": [
    "return_only_integer([\"hello\", 123, 356, 700, 1306, \"purple\", \"tea\", 100, \"music\"])"
   ]
  },
  {
   "cell_type": "code",
   "execution_count": 12,
   "id": "41c935f7",
   "metadata": {},
   "outputs": [
    {
     "data": {
      "text/plain": [
       "[1, 0]"
      ]
     },
     "execution_count": 12,
     "metadata": {},
     "output_type": "execute_result"
    }
   ],
   "source": [
    "return_only_integer([True, 3.14, 1, 0])"
   ]
  }
 ],
 "metadata": {
  "kernelspec": {
   "display_name": "Python 3 (ipykernel)",
   "language": "python",
   "name": "python3"
  },
  "language_info": {
   "codemirror_mode": {
    "name": "ipython",
    "version": 3
   },
   "file_extension": ".py",
   "mimetype": "text/x-python",
   "name": "python",
   "nbconvert_exporter": "python",
   "pygments_lexer": "ipython3",
   "version": "3.9.7"
  }
 },
 "nbformat": 4,
 "nbformat_minor": 5
}
