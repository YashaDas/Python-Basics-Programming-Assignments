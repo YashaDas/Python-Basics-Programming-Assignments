{
 "cells": [
  {
   "cell_type": "markdown",
   "id": "395e19c0",
   "metadata": {},
   "source": [
    "# Python Basics Programming Assignment_22"
   ]
  },
  {
   "cell_type": "markdown",
   "id": "af03cce0",
   "metadata": {},
   "source": [
    "### Question1\n",
    "\n",
    "\n",
    "### Create a function that takes three parameters where:\n",
    "    \n",
    "    \n",
    "###  • x is the start of the range (inclusive).\n",
    "\n",
    "\n",
    "### • y is the end of the range (inclusive).\n",
    "\n",
    "\n",
    "### • n is the divisor to be checked against.\n",
    "\n",
    "\n",
    "### Return an ordered list with numbers in the range that are divisible by the third parameter n. Return an empty list if there are no numbers that are divisible by n.\n",
    "\n",
    "\n",
    "### Examples\n",
    "\n",
    "\n",
    "### list_operation(1, 10, 3) ➞ [3, 6, 9]\n",
    "\n",
    "\n",
    "### list_operation(7, 9, 2) ➞ [8]\n",
    "\n",
    "\n",
    "### list_operation(15, 20, 7) ➞ []"
   ]
  },
  {
   "cell_type": "markdown",
   "id": "1e3975d3",
   "metadata": {},
   "source": [
    "#### SOLUTION:"
   ]
  },
  {
   "cell_type": "code",
   "execution_count": 1,
   "id": "a60bd7e1",
   "metadata": {},
   "outputs": [],
   "source": [
    "def list_operation(x,y,n):\n",
    "    \n",
    "    divisor = []\n",
    "    nonDiv = []\n",
    "    for i in range(x,y+1):\n",
    "        if i % n == 0:\n",
    "            divisor.append(i)\n",
    "    return divisor"
   ]
  },
  {
   "cell_type": "code",
   "execution_count": 2,
   "id": "a2ac5535",
   "metadata": {},
   "outputs": [
    {
     "data": {
      "text/plain": [
       "[6, 8]"
      ]
     },
     "execution_count": 2,
     "metadata": {},
     "output_type": "execute_result"
    }
   ],
   "source": [
    "list_operation(6,8,2)"
   ]
  },
  {
   "cell_type": "code",
   "execution_count": 8,
   "id": "d968d089",
   "metadata": {},
   "outputs": [
    {
     "data": {
      "text/plain": [
       "[10, 15, 20]"
      ]
     },
     "execution_count": 8,
     "metadata": {},
     "output_type": "execute_result"
    }
   ],
   "source": [
    "list_operation(10,20,5)"
   ]
  },
  {
   "cell_type": "code",
   "execution_count": 9,
   "id": "8a50792f",
   "metadata": {},
   "outputs": [
    {
     "data": {
      "text/plain": [
       "[]"
      ]
     },
     "execution_count": 9,
     "metadata": {},
     "output_type": "execute_result"
    }
   ],
   "source": [
    "list_operation(9,5,4)"
   ]
  },
  {
   "cell_type": "markdown",
   "id": "4e27e81e",
   "metadata": {},
   "source": [
    "### Question2\n",
    "\n",
    "\n",
    "### Create a function that takes in two lists and returns True if the second list follows the first list by one element, and False otherwise. In other words, determine if the second list is the first list shifted to the right by 1.\n",
    "\n",
    "\n",
    "### Examples\n",
    "\n",
    "\n",
    "### simon_says([1, 2], [5, 1]) ➞ True\n",
    "\n",
    "\n",
    "### simon_says([1, 2], [5, 5]) ➞ False\n",
    "\n",
    "\n",
    "### simon_says([1, 2, 3, 4, 5], [0, 1, 2, 3, 4]) ➞ True\n",
    "\n",
    "\n",
    "### simon_says([1, 2, 3, 4, 5], [5, 5, 1, 2, 3]) ➞ False\n",
    "\n",
    "\n",
    "### Notes\n",
    "\n",
    "\n",
    "### • Both input lists will be of the same length, and will have a minimum length of 2.\n",
    "\n",
    "\n",
    "### • The values of the 0-indexed element in the second list and the n-1th indexed element in the first list do not matter."
   ]
  },
  {
   "cell_type": "markdown",
   "id": "789c50aa",
   "metadata": {},
   "source": [
    "#### SOLUTION:"
   ]
  },
  {
   "cell_type": "code",
   "execution_count": 10,
   "id": "f5e7ed82",
   "metadata": {},
   "outputs": [],
   "source": [
    "def simon_says(ls,ls2):\n",
    "    if ls[0:len(ls)-1] == ls2[1:len(ls2)]:\n",
    "        return True\n",
    "    return False"
   ]
  },
  {
   "cell_type": "code",
   "execution_count": 11,
   "id": "c46d076a",
   "metadata": {},
   "outputs": [
    {
     "data": {
      "text/plain": [
       "True"
      ]
     },
     "execution_count": 11,
     "metadata": {},
     "output_type": "execute_result"
    }
   ],
   "source": [
    "simon_says([1,2],[2,1])"
   ]
  },
  {
   "cell_type": "code",
   "execution_count": 13,
   "id": "c949a95b",
   "metadata": {},
   "outputs": [
    {
     "data": {
      "text/plain": [
       "False"
      ]
     },
     "execution_count": 13,
     "metadata": {},
     "output_type": "execute_result"
    }
   ],
   "source": [
    "simon_says([2,3],[4,5])"
   ]
  },
  {
   "cell_type": "markdown",
   "id": "9c3272ef",
   "metadata": {},
   "source": [
    "### Question3\n",
    "\n",
    "\n",
    "### A group of friends have decided to start a secret society. The name will be the first letter of each of their names, sorted in alphabetical order.\n",
    "\n",
    "\n",
    "### Create a function that takes in a list of names and returns the name of the secret society.\n",
    "\n",
    "\n",
    "### Examples\n",
    "\n",
    "\n",
    "### society_name([\"Adam\", \"Sarah\", \"Malcolm\"]) ➞ \"AMS\"\n",
    "\n",
    "\n",
    "### society_name([\"Harry\", \"Newt\", \"Luna\", \"Cho\"]) ➞ \"CHLN\"\n",
    "\n",
    "\n",
    "### society_name([\"Phoebe\", \"Chandler\", \"Rachel\", \"Ross\", \"Monica\", \"Joey\"])"
   ]
  },
  {
   "cell_type": "markdown",
   "id": "e9180fde",
   "metadata": {},
   "source": [
    "#### SOLUTION:"
   ]
  },
  {
   "cell_type": "code",
   "execution_count": 14,
   "id": "cb46182f",
   "metadata": {},
   "outputs": [],
   "source": [
    "def society_name(lst):\n",
    "    return ''.join([i[0] for i in sorted(lst)])"
   ]
  },
  {
   "cell_type": "code",
   "execution_count": 15,
   "id": "4e3ad4f5",
   "metadata": {},
   "outputs": [
    {
     "data": {
      "text/plain": [
       "'BBHLT'"
      ]
     },
     "execution_count": 15,
     "metadata": {},
     "output_type": "execute_result"
    }
   ],
   "source": [
    "society_name([\"Harry\",\"Luna\", \"Boss\", \"Bright\", \"Tay\"])"
   ]
  },
  {
   "cell_type": "markdown",
   "id": "b3f6b107",
   "metadata": {},
   "source": [
    "### Question4\n",
    "\n",
    "\n",
    "### An isogram is a word that has no duplicate letters. Create a function that takes a string and returns either True or False depending on whether or not it's an \"isogram\".\n",
    "\n",
    "\n",
    "### Examples\n",
    "\n",
    "\n",
    "### is_isogram(\"Algorism\") ➞ True\n",
    "\n",
    "\n",
    "### is_isogram(\"PasSword\") ➞ False\n",
    "\n",
    "#### Not case sensitive.\n",
    "\n",
    "\n",
    "### is_isogram(\"Consecutive\") ➞ False\n",
    "\n",
    "\n",
    "### Notes\n",
    "\n",
    "\n",
    "### • Ignore letter case (should not be case sensitive).\n",
    "\n",
    "\n",
    "### • All test cases contain valid one word strings."
   ]
  },
  {
   "cell_type": "markdown",
   "id": "d20d94cc",
   "metadata": {},
   "source": [
    "#### SOLUTION:"
   ]
  },
  {
   "cell_type": "code",
   "execution_count": 16,
   "id": "7fac1ce5",
   "metadata": {},
   "outputs": [],
   "source": [
    "def is_isogram(s):\n",
    "    for i in range(len(s)):\n",
    "        if s.lower().count(s[i]) > 1:\n",
    "            return False\n",
    "    else:\n",
    "        return True"
   ]
  },
  {
   "cell_type": "code",
   "execution_count": 19,
   "id": "c489a459",
   "metadata": {},
   "outputs": [
    {
     "data": {
      "text/plain": [
       "False"
      ]
     },
     "execution_count": 19,
     "metadata": {},
     "output_type": "execute_result"
    }
   ],
   "source": [
    "is_isogram(\"apple\")"
   ]
  },
  {
   "cell_type": "code",
   "execution_count": 18,
   "id": "2e2ab1f8",
   "metadata": {},
   "outputs": [
    {
     "data": {
      "text/plain": [
       "True"
      ]
     },
     "execution_count": 18,
     "metadata": {},
     "output_type": "execute_result"
    }
   ],
   "source": [
    "is_isogram(\"education\")"
   ]
  },
  {
   "cell_type": "markdown",
   "id": "77bde2f2",
   "metadata": {},
   "source": [
    "### Question5\n",
    "\n",
    "\n",
    "### Create a function that takes a string and returns True or False, depending on whether the characters are in order or not.\n",
    "\n",
    "\n",
    "### Examples\n",
    "\n",
    "\n",
    "### is_in_order(\"abc\") ➞ True\n",
    "\n",
    "\n",
    "### is_in_order(\"edabit\") ➞ False\n",
    "\n",
    "\n",
    "### is_in_order(\"123\") ➞ True\n",
    "\n",
    "\n",
    "### is_in_order(\"xyzz\") ➞ True\n",
    "\n",
    "\n",
    "### Notes\n",
    "\n",
    "\n",
    "### You don't have to handle empty strings."
   ]
  },
  {
   "cell_type": "markdown",
   "id": "4b5abec6",
   "metadata": {},
   "source": [
    "#### SOLUTION:"
   ]
  },
  {
   "cell_type": "code",
   "execution_count": 20,
   "id": "b6a0b601",
   "metadata": {},
   "outputs": [],
   "source": [
    "def is_in_order(s):\n",
    "    n = len(s)\n",
    "    c = [s[i] for i in range(len(s))]\n",
    "    c.sort()\n",
    "    for i in range(n):\n",
    "        if c[i] != s[i]:\n",
    "            return False\n",
    "    return True"
   ]
  },
  {
   "cell_type": "code",
   "execution_count": 21,
   "id": "2b698af1",
   "metadata": {},
   "outputs": [
    {
     "data": {
      "text/plain": [
       "True"
      ]
     },
     "execution_count": 21,
     "metadata": {},
     "output_type": "execute_result"
    }
   ],
   "source": [
    "is_in_order(\"abcdefg\")"
   ]
  },
  {
   "cell_type": "code",
   "execution_count": 22,
   "id": "7214cf14",
   "metadata": {},
   "outputs": [
    {
     "data": {
      "text/plain": [
       "False"
      ]
     },
     "execution_count": 22,
     "metadata": {},
     "output_type": "execute_result"
    }
   ],
   "source": [
    "is_in_order(\"qwerty\")"
   ]
  }
 ],
 "metadata": {
  "kernelspec": {
   "display_name": "Python 3 (ipykernel)",
   "language": "python",
   "name": "python3"
  },
  "language_info": {
   "codemirror_mode": {
    "name": "ipython",
    "version": 3
   },
   "file_extension": ".py",
   "mimetype": "text/x-python",
   "name": "python",
   "nbconvert_exporter": "python",
   "pygments_lexer": "ipython3",
   "version": "3.9.7"
  }
 },
 "nbformat": 4,
 "nbformat_minor": 5
}
