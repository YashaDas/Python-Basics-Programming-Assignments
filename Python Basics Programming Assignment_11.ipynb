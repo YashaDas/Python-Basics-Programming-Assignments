{
 "cells": [
  {
   "cell_type": "markdown",
   "id": "c9ca2890",
   "metadata": {},
   "source": [
    "# Python Basics Programming Assignment_11"
   ]
  },
  {
   "cell_type": "markdown",
   "id": "af5d40fa",
   "metadata": {},
   "source": [
    "### 1. Write a Python program to find words which are greater than given length k?"
   ]
  },
  {
   "cell_type": "markdown",
   "id": "10ae00e0",
   "metadata": {},
   "source": [
    "##### SOLUTION: "
   ]
  },
  {
   "cell_type": "code",
   "execution_count": 9,
   "id": "cd343e2d",
   "metadata": {},
   "outputs": [
    {
     "name": "stdout",
     "output_type": "stream",
     "text": [
      "['Stack', 'Science', 'Course']\n"
     ]
    }
   ],
   "source": [
    "# Python program to find all string which are greater than given length k\n",
    "\n",
    "def string_k(k, str):\n",
    "    string = []\n",
    "    text = str.split(\" \")\n",
    "    for x in text:\n",
    "        if len(x) > k:\n",
    "            string.append(x)\n",
    "        \n",
    "    return string\n",
    "\n",
    "k = 4\n",
    "str = \"Full Stack Data Science Course\"\n",
    "print(string_k(k, str))"
   ]
  },
  {
   "cell_type": "markdown",
   "id": "db541cd7",
   "metadata": {},
   "source": [
    "### 2. Write a Python program for removing i-th character from a string?"
   ]
  },
  {
   "cell_type": "markdown",
   "id": "05a3a015",
   "metadata": {},
   "source": [
    "##### SOLUTION:  "
   ]
  },
  {
   "cell_type": "code",
   "execution_count": 2,
   "id": "aa19ba30",
   "metadata": {},
   "outputs": [
    {
     "name": "stdout",
     "output_type": "stream",
     "text": [
      "ieuron\n"
     ]
    }
   ],
   "source": [
    "# Python program for removing i-th character from a string\n",
    "\n",
    "def remove(string, i): \n",
    "    for j in range(len(string)):\n",
    "        if j == i:\n",
    "            string = string.replace(string[i], \"\", 1)\n",
    "    return string\n",
    "      \n",
    "\n",
    "if __name__ == '__main__':\n",
    "    string = \"iNeuron\"\n",
    "    i = 1\n",
    "print(remove(string, i))"
   ]
  },
  {
   "cell_type": "markdown",
   "id": "ce13ef19",
   "metadata": {},
   "source": [
    "### 3. Write a Python program to split and join a string?"
   ]
  },
  {
   "cell_type": "markdown",
   "id": "0cc6beea",
   "metadata": {},
   "source": [
    "##### SOLUTION: "
   ]
  },
  {
   "cell_type": "code",
   "execution_count": 3,
   "id": "6d53578b",
   "metadata": {},
   "outputs": [
    {
     "name": "stdout",
     "output_type": "stream",
     "text": [
      "['Full', 'Stack', 'Data', 'Science', 'Course']\n",
      "Full-Stack-Data-Science-Course\n"
     ]
    }
   ],
   "source": [
    "# Python program to split and join a string \n",
    "\n",
    "def split_string(string):\n",
    "    list_string = string.split(' ')\n",
    "    return list_string\n",
    "\n",
    "  \n",
    "def join_string(list_string):\n",
    "    string = '-'.join(list_string)\n",
    "    return string\n",
    "\n",
    "  \n",
    "if __name__ == '__main__':\n",
    "    string = 'Full Stack Data Science Course'\n",
    "      \n",
    "   \n",
    "    list_string = split_string(string)\n",
    "    print(list_string)\n",
    "  \n",
    "    \n",
    "    new_string = join_string(list_string)\n",
    "    print(new_string)"
   ]
  },
  {
   "cell_type": "markdown",
   "id": "d903b678",
   "metadata": {},
   "source": [
    "### 4. Write a Python to check if a given string is binary string or not?"
   ]
  },
  {
   "cell_type": "markdown",
   "id": "7213ee8e",
   "metadata": {},
   "source": [
    "##### SOLUTION:  "
   ]
  },
  {
   "cell_type": "code",
   "execution_count": 4,
   "id": "39760f9d",
   "metadata": {},
   "outputs": [
    {
     "name": "stdout",
     "output_type": "stream",
     "text": [
      "Yes\n"
     ]
    }
   ],
   "source": [
    "# Python program to check if a given string is binary string or not\n",
    "\n",
    "def check(string) :\n",
    "    b = set(string)\n",
    "    s = {'0', '1'}\n",
    "    if s == b or b == {'0'} or b == {'1'}:\n",
    "        print(\"Yes\")\n",
    "    else :\n",
    "        print(\"No\")\n",
    "        \n",
    "        \n",
    "if __name__ == \"__main__\" :\n",
    "    string = \"1000111000\"\n",
    "    check(string)"
   ]
  },
  {
   "cell_type": "markdown",
   "id": "739b3441",
   "metadata": {},
   "source": [
    "### 5. Write a Python program to find uncommon words from two Strings?"
   ]
  },
  {
   "cell_type": "markdown",
   "id": "bbbff79d",
   "metadata": {},
   "source": [
    "##### SOLUTION:  "
   ]
  },
  {
   "cell_type": "code",
   "execution_count": 5,
   "id": "5844c8ca",
   "metadata": {},
   "outputs": [
    {
     "name": "stdout",
     "output_type": "stream",
     "text": [
      "['april', 'may', 'january', 'february']\n"
     ]
    }
   ],
   "source": [
    "#  Python program to find uncommon words from two Strings\n",
    "\n",
    "def uncommon(a,b):\n",
    "    a= a.split()\n",
    "    b= b.split()\n",
    "    c= set(a).symmetric_difference(set(b)) #by using in-built function “symmetric_difference()”\n",
    "    return c\n",
    "  \n",
    "\n",
    "if __name__==\"__main__\":\n",
    "    a=\"january february march\" \n",
    "    b=\"march april may\"\n",
    "    print(list(uncommon(a,b)))"
   ]
  },
  {
   "cell_type": "markdown",
   "id": "48cbfe1c",
   "metadata": {},
   "source": [
    "### 6. Write a Python to find all duplicate characters in string?"
   ]
  },
  {
   "cell_type": "markdown",
   "id": "766aa066",
   "metadata": {},
   "source": [
    "##### SOLUTION:  "
   ]
  },
  {
   "cell_type": "code",
   "execution_count": 6,
   "id": "eccf2fef",
   "metadata": {},
   "outputs": [
    {
     "name": "stdout",
     "output_type": "stream",
     "text": [
      "p t o n   r g a m i s\n"
     ]
    }
   ],
   "source": [
    "# Python to find all duplicate characters in string\n",
    "\n",
    "## initializing string\n",
    "string = \"python programming basics assignment\"\n",
    "duplicates = []\n",
    "for char in string:\n",
    "    if string.count(char) > 1:\n",
    "        if char not in duplicates:\n",
    "            duplicates.append(char)\n",
    "\n",
    "print(*duplicates)"
   ]
  },
  {
   "cell_type": "markdown",
   "id": "3c8af3a8",
   "metadata": {},
   "source": [
    "### 7. Write a Python Program to check if a string contains any special character?"
   ]
  },
  {
   "cell_type": "markdown",
   "id": "3b48e0e6",
   "metadata": {},
   "source": [
    "##### SOLUTION:  "
   ]
  },
  {
   "cell_type": "code",
   "execution_count": 7,
   "id": "05572c62",
   "metadata": {},
   "outputs": [
    {
     "name": "stdout",
     "output_type": "stream",
     "text": [
      "String contains special character\n"
     ]
    }
   ],
   "source": [
    "# Python Program to check if a string contains any special character\n",
    "\n",
    "# import required package\n",
    "import re\n",
    "  \n",
    "def run(string):\n",
    "    regex = re.compile('[@_!#$%^&*()<>?/\\|}{~:]')\n",
    "    if(regex.search(string) == None):\n",
    "        print(\"String does not contain any special character\")\n",
    "    else:\n",
    "        print(\"String contains special character\")\n",
    "              \n",
    "if __name__ == '__main__' :\n",
    "    string = \"Python$Basic_Programming!@Assignment\\\\11\"\n",
    "    run(string)"
   ]
  }
 ],
 "metadata": {
  "kernelspec": {
   "display_name": "Python 3 (ipykernel)",
   "language": "python",
   "name": "python3"
  },
  "language_info": {
   "codemirror_mode": {
    "name": "ipython",
    "version": 3
   },
   "file_extension": ".py",
   "mimetype": "text/x-python",
   "name": "python",
   "nbconvert_exporter": "python",
   "pygments_lexer": "ipython3",
   "version": "3.9.7"
  }
 },
 "nbformat": 4,
 "nbformat_minor": 5
}
