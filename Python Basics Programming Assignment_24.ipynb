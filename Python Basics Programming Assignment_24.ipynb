{
 "cells": [
  {
   "cell_type": "markdown",
   "id": "c5623f38",
   "metadata": {},
   "source": [
    "# Python Basics Programming Assignment_24"
   ]
  },
  {
   "cell_type": "markdown",
   "id": "b61883f3",
   "metadata": {},
   "source": [
    "### Question1\n",
    "\n",
    "\n",
    "### Create a function that takes an integer and returns a list from 1 to the given number, where:\n",
    "    \n",
    "    \n",
    "### 1. If the number can be divided evenly by 4, amplify it by 10 (i.e. return 10 times the number).\n",
    "\n",
    "\n",
    "### 2. If the number cannot be divided evenly by 4, simply return the number.\n",
    "\n",
    "\n",
    "### Examples\n",
    "\n",
    "\n",
    "### amplify(4) ➞ [1, 2, 3, 40]\n",
    "\n",
    "\n",
    "### amplify(3) ➞ [1, 2, 3]\n",
    "\n",
    "\n",
    "### amplify(25) ➞ [1, 2, 3, 40, 5, 6, 7, 80, 9, 10, 11, 120, 13, 14, 15, 160, 17, 18, 19, 200, 21, 22, 23, 240, 25]\n",
    "\n",
    "\n",
    "### Notes\n",
    "\n",
    "\n",
    "### • The given integer will always be equal to or greater than 1.\n",
    "\n",
    "\n",
    "### • Include the number (see example above).\n",
    "\n",
    "\n",
    "### • To perform this problem with its intended purpose, try doing it with list comprehensions. If that's too difficult, just solve the challenge any way you can."
   ]
  },
  {
   "cell_type": "markdown",
   "id": "55004875",
   "metadata": {},
   "source": [
    "#### SOLUTION:"
   ]
  },
  {
   "cell_type": "code",
   "execution_count": 1,
   "id": "3b5e23f9",
   "metadata": {},
   "outputs": [],
   "source": [
    "def amplify(n):\n",
    "    return [i*10 if i % 4 == 0 else i for i in range(1,n+1)]"
   ]
  },
  {
   "cell_type": "code",
   "execution_count": 2,
   "id": "c74c348e",
   "metadata": {},
   "outputs": [
    {
     "data": {
      "text/plain": [
       "[1, 2, 3, 40, 5, 6, 7, 80, 9, 10]"
      ]
     },
     "execution_count": 2,
     "metadata": {},
     "output_type": "execute_result"
    }
   ],
   "source": [
    "amplify(10)"
   ]
  },
  {
   "cell_type": "code",
   "execution_count": 5,
   "id": "e34eda90",
   "metadata": {
    "scrolled": false
   },
   "outputs": [
    {
     "name": "stdout",
     "output_type": "stream",
     "text": [
      "[1, 2, 3, 40, 5, 6, 7, 80, 9, 10, 11, 120, 13, 14, 15, 160, 17, 18, 19, 200, 21, 22, 23, 240, 25, 26, 27, 280, 29, 30, 31, 320, 33, 34, 35, 360, 37, 38, 39, 400, 41, 42, 43, 440, 45, 46, 47, 480, 49, 50]\n"
     ]
    }
   ],
   "source": [
    "print(amplify(50))"
   ]
  },
  {
   "cell_type": "markdown",
   "id": "40b90ed6",
   "metadata": {},
   "source": [
    "### Question2\n",
    "\n",
    "\n",
    "### Create a function that takes a list of numbers and return the number that's unique.\n",
    "\n",
    "\n",
    "### Examples\n",
    "\n",
    "\n",
    "### unique([3, 3, 3, 7, 3, 3]) ➞ 7\n",
    "\n",
    "\n",
    "### unique([0, 0, 0.77, 0, 0]) ➞ 0.77\n",
    "\n",
    "\n",
    "### unique([0, 1, 1, 1, 1, 1, 1, 1]) ➞ 0\n",
    "\n",
    "\n",
    "### Notes\n",
    "\n",
    "\n",
    "### Test cases will always have exactly one unique number while all others are the same."
   ]
  },
  {
   "cell_type": "markdown",
   "id": "f7128295",
   "metadata": {},
   "source": [
    "#### SOLUTION:"
   ]
  },
  {
   "cell_type": "code",
   "execution_count": 7,
   "id": "b6acedb3",
   "metadata": {},
   "outputs": [],
   "source": [
    "def unique(lst):\n",
    "    s = list(set(lst))\n",
    "    for i in s:\n",
    "        if lst.count(i) == 1:\n",
    "            return i"
   ]
  },
  {
   "cell_type": "code",
   "execution_count": 8,
   "id": "f6feb992",
   "metadata": {},
   "outputs": [
    {
     "data": {
      "text/plain": [
       "1"
      ]
     },
     "execution_count": 8,
     "metadata": {},
     "output_type": "execute_result"
    }
   ],
   "source": [
    "unique([0,0,0,0,1,0,0,0,0])"
   ]
  },
  {
   "cell_type": "code",
   "execution_count": 9,
   "id": "e233f1c4",
   "metadata": {},
   "outputs": [
    {
     "data": {
      "text/plain": [
       "8.63"
      ]
     },
     "execution_count": 9,
     "metadata": {},
     "output_type": "execute_result"
    }
   ],
   "source": [
    "unique([7,7.77,8.63,77.7,7])"
   ]
  },
  {
   "cell_type": "code",
   "execution_count": 10,
   "id": "ddbaf776",
   "metadata": {},
   "outputs": [
    {
     "data": {
      "text/plain": [
       "7"
      ]
     },
     "execution_count": 10,
     "metadata": {},
     "output_type": "execute_result"
    }
   ],
   "source": [
    "unique([4,5,4,5,7,8,8,9,9])"
   ]
  },
  {
   "cell_type": "markdown",
   "id": "62f0de73",
   "metadata": {},
   "source": [
    "### Question3\n",
    "\n",
    "\n",
    "### Your task is to create a Circle constructor that creates a circle with a radius provided by an argument. The circles constructed must have two getters getArea() (PIr^2) and getPerimeter() (2PI*r) which give both respective areas and perimeter (circumference).\n",
    "\n",
    "\n",
    "### For help with this class, I have provided you with a Rectangle constructor which you can use as a base example.\n",
    "\n",
    "\n",
    "### Examples\n",
    "\n",
    "\n",
    "### circy = Circle(11)\n",
    "\n",
    "\n",
    "### circy.getArea()\n",
    "\n",
    "#### Should return 380.132711084365\n",
    "\n",
    "\n",
    "### circy = Circle(4.44)\n",
    "\n",
    "\n",
    "### circy.getPerimeter()\n",
    "\n",
    "\n",
    "#### Should return 27.897342763877365\n",
    "\n",
    "\n",
    "### Notes\n",
    "\n",
    "\n",
    "### Round results up to the nearest integer."
   ]
  },
  {
   "cell_type": "markdown",
   "id": "2db8a2a6",
   "metadata": {},
   "source": [
    "#### SOLUTION:"
   ]
  },
  {
   "cell_type": "code",
   "execution_count": 11,
   "id": "682790b3",
   "metadata": {},
   "outputs": [],
   "source": [
    "class Circle():\n",
    "    def __init__(self, r):\n",
    "        self.radius = r\n",
    "\n",
    "    def getArea(self):\n",
    "        return round(self.radius**2*3.14)\n",
    "    \n",
    "    def getPerimeter(self):\n",
    "        return round(2*self.radius*3.14)"
   ]
  },
  {
   "cell_type": "code",
   "execution_count": 12,
   "id": "725c58d3",
   "metadata": {},
   "outputs": [
    {
     "data": {
      "text/plain": [
       "380"
      ]
     },
     "execution_count": 12,
     "metadata": {},
     "output_type": "execute_result"
    }
   ],
   "source": [
    "circy = Circle(11)\n",
    "circy.getArea()"
   ]
  },
  {
   "cell_type": "code",
   "execution_count": 13,
   "id": "b5c96b91",
   "metadata": {},
   "outputs": [
    {
     "data": {
      "text/plain": [
       "28"
      ]
     },
     "execution_count": 13,
     "metadata": {},
     "output_type": "execute_result"
    }
   ],
   "source": [
    "circy = Circle(4.44)\n",
    "circy.getPerimeter()"
   ]
  },
  {
   "cell_type": "markdown",
   "id": "323df3bb",
   "metadata": {},
   "source": [
    "### Question4\n",
    "\n",
    "\n",
    "### Create a function that takes a list of strings and return a list, sorted from shortest to longest.\n",
    "\n",
    "\n",
    "### Examples\n",
    "\n",
    "\n",
    "### sort_by_length([\"Google\", \"Apple\", \"Microsoft\"])\n",
    "### ➞ [\"Apple\", \"Google\", \"Microsoft\"]\n",
    "\n",
    "\n",
    "### sort_by_length([\"Leonardo\", \"Michelangelo\", \"Raphael\", \"Donatello\"])\n",
    "### ➞ [\"Raphael\", \"Leonardo\", \"Donatello\", \"Michelangelo\"]\n",
    "\n",
    "\n",
    "### sort_by_length([\"Turing\", \"Einstein\", \"Jung\"])\n",
    "### ➞ [\"Jung\", \"Turing\", \"Einstein\"]\n",
    "\n",
    "\n",
    "### Notes\n",
    "\n",
    "\n",
    "### All test cases contain lists with strings of different lengths, so you won't have to deal with multiple strings of the same length."
   ]
  },
  {
   "cell_type": "markdown",
   "id": "d6be20d3",
   "metadata": {},
   "source": [
    "#### SOLUTION:"
   ]
  },
  {
   "cell_type": "code",
   "execution_count": 14,
   "id": "793025ee",
   "metadata": {},
   "outputs": [],
   "source": [
    "def sort_by_length(lst):\n",
    "    return sorted(lst, key = len)"
   ]
  },
  {
   "cell_type": "code",
   "execution_count": 15,
   "id": "862c1a72",
   "metadata": {},
   "outputs": [
    {
     "data": {
      "text/plain": [
       "['Cat', 'Jung', 'Bubbles', 'Harry Potter']"
      ]
     },
     "execution_count": 15,
     "metadata": {},
     "output_type": "execute_result"
    }
   ],
   "source": [
    "sort_by_length([\"Harry Potter\", \"Jung\", \"Bubbles\", \"Cat\"])"
   ]
  },
  {
   "cell_type": "markdown",
   "id": "cac42334",
   "metadata": {},
   "source": [
    "### Question5\n",
    "\n",
    "\n",
    "### Create a function that validates whether three given integers form a Pythagorean triplet. The sum of the squares of the two smallest integers must equal the square of the largest number to be validated.\n",
    "\n",
    "\n",
    "### Examples\n",
    "\n",
    "\n",
    "### is_triplet(3, 4, 5) ➞ True\n",
    "\n",
    "##### 3² + 4² = 25\n",
    "\n",
    "##### 5² = 25\n",
    "\n",
    "\n",
    "### is_triplet(13, 5, 12) ➞ True\n",
    "\n",
    "##### 5² + 12² = 169\n",
    "\n",
    "##### 13² = 169\n",
    "\n",
    "\n",
    "### is_triplet(1, 2, 3) ➞ False\n",
    "\n",
    "##### 1² + 2² = 5\n",
    "\n",
    "##### 3² = 9\n",
    "\n",
    "\n",
    "### Notes\n",
    "\n",
    "\n",
    "### Numbers may not be given in a sorted order."
   ]
  },
  {
   "cell_type": "markdown",
   "id": "5ff10bd0",
   "metadata": {},
   "source": [
    "#### SOLUTION:"
   ]
  },
  {
   "cell_type": "code",
   "execution_count": 18,
   "id": "1ea6328f",
   "metadata": {},
   "outputs": [],
   "source": [
    "def is_triplet(a,b,c):\n",
    "    lst = []\n",
    "    lst.extend((a,b,c))\n",
    "    lst = sorted(lst)\n",
    "\n",
    "    if lst[0]**2 + lst[1]**2 == lst[2]**2:\n",
    "        return True\n",
    "    else:\n",
    "        return False"
   ]
  },
  {
   "cell_type": "code",
   "execution_count": 19,
   "id": "5cf4b270",
   "metadata": {},
   "outputs": [
    {
     "data": {
      "text/plain": [
       "False"
      ]
     },
     "execution_count": 19,
     "metadata": {},
     "output_type": "execute_result"
    }
   ],
   "source": [
    "is_triplet(1,2,3)"
   ]
  },
  {
   "cell_type": "code",
   "execution_count": 20,
   "id": "063b4e82",
   "metadata": {},
   "outputs": [
    {
     "data": {
      "text/plain": [
       "True"
      ]
     },
     "execution_count": 20,
     "metadata": {},
     "output_type": "execute_result"
    }
   ],
   "source": [
    "is_triplet(3,4,5)"
   ]
  }
 ],
 "metadata": {
  "kernelspec": {
   "display_name": "Python 3 (ipykernel)",
   "language": "python",
   "name": "python3"
  },
  "language_info": {
   "codemirror_mode": {
    "name": "ipython",
    "version": 3
   },
   "file_extension": ".py",
   "mimetype": "text/x-python",
   "name": "python",
   "nbconvert_exporter": "python",
   "pygments_lexer": "ipython3",
   "version": "3.9.7"
  }
 },
 "nbformat": 4,
 "nbformat_minor": 5
}
