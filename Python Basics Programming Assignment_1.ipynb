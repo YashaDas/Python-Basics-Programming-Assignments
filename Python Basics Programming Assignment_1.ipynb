{
 "cells": [
  {
   "cell_type": "markdown",
   "id": "ab01caeb",
   "metadata": {},
   "source": [
    "# Python Basics Programming Assignment_1"
   ]
  },
  {
   "cell_type": "markdown",
   "id": "225421b1",
   "metadata": {},
   "source": [
    "### 1. Write a Python program to print \"Hello Python\"?"
   ]
  },
  {
   "cell_type": "markdown",
   "id": "ae8b0319",
   "metadata": {},
   "source": [
    "##### SOLUTION:"
   ]
  },
  {
   "cell_type": "code",
   "execution_count": 1,
   "id": "c6b67f67",
   "metadata": {},
   "outputs": [
    {
     "name": "stdout",
     "output_type": "stream",
     "text": [
      "Hello Python\n"
     ]
    }
   ],
   "source": [
    "print(\"Hello Python\")"
   ]
  },
  {
   "cell_type": "markdown",
   "id": "741440b9",
   "metadata": {},
   "source": [
    "### 2. Write a Python program to do arithmetical operations addition and division?"
   ]
  },
  {
   "cell_type": "markdown",
   "id": "61a0caa0",
   "metadata": {},
   "source": [
    "##### SOLUTION: "
   ]
  },
  {
   "cell_type": "code",
   "execution_count": 2,
   "id": "11fb3688",
   "metadata": {},
   "outputs": [
    {
     "name": "stdout",
     "output_type": "stream",
     "text": [
      "Enter first number: 50\n",
      "Enter second number: 70\n",
      "120.0\n"
     ]
    }
   ],
   "source": [
    "# Addition operation\n",
    "\n",
    "num1 = input(\"Enter first number: \")\n",
    "num2 = input(\"Enter second number: \")\n",
    "sum = float(num1) + float(num2)\n",
    "print(sum)"
   ]
  },
  {
   "cell_type": "code",
   "execution_count": 3,
   "id": "708aaa57",
   "metadata": {},
   "outputs": [
    {
     "name": "stdout",
     "output_type": "stream",
     "text": [
      "Enter first number: 70\n",
      "Enter second number: 7\n",
      "10.0\n"
     ]
    }
   ],
   "source": [
    "# Division operation\n",
    "\n",
    "num1 = input(\"Enter first number: \")\n",
    "num2 = input(\"Enter second number: \")\n",
    "div = float(num1) / float(num2)\n",
    "print(div)"
   ]
  },
  {
   "cell_type": "markdown",
   "id": "53bcfddf",
   "metadata": {},
   "source": [
    "### 3. Write a Python program to find the area of a triangle?"
   ]
  },
  {
   "cell_type": "markdown",
   "id": "17c91e2a",
   "metadata": {},
   "source": [
    "##### SOLUTION: "
   ]
  },
  {
   "cell_type": "markdown",
   "id": "68f22ae3",
   "metadata": {},
   "source": [
    "##### To find the area of a triangle -- \n",
    "\n",
    "\n",
    "If a, b and c are three sides of a triangle. \n",
    "\n",
    "\n",
    "Then, the formula for -\n",
    "\n",
    "\n",
    "- Calculating the semi-perimerter is:\n",
    "\n",
    "   \n",
    "     s = (a+b+c)/2\n",
    "     \n",
    "\n",
    "- Calculating the area is:\n",
    "\n",
    "\n",
    "     area = √(s(s-a)(s-b)(s-c))"
   ]
  },
  {
   "cell_type": "code",
   "execution_count": 4,
   "id": "13c182b8",
   "metadata": {},
   "outputs": [
    {
     "name": "stdout",
     "output_type": "stream",
     "text": [
      "Enter first side: 3\n",
      "Enter second side: 4\n",
      "Enter third side: 5\n",
      "The area of the triangle is 6.00\n"
     ]
    }
   ],
   "source": [
    "# Three sides of the triangle is a, b and c:  \n",
    "\n",
    "a = float(input('Enter first side: '))  \n",
    "b = float(input('Enter second side: '))  \n",
    "c = float(input('Enter third side: '))  \n",
    "  \n",
    "# calculating the semi-perimeter  \n",
    "\n",
    "s = (a + b + c) / 2  \n",
    "  \n",
    "# calculating the area  \n",
    "\n",
    "area = (s*(s-a)*(s-b)*(s-c)) ** 0.5  \n",
    "print('The area of the triangle is %0.2f' %area)   "
   ]
  },
  {
   "cell_type": "markdown",
   "id": "1260f7eb",
   "metadata": {},
   "source": [
    "###### Note: %0.2f floating point specifies at least 0 wide and 2 numbers after decimal. If you use %0.5f then it will give 5 numbers after decimal."
   ]
  },
  {
   "cell_type": "markdown",
   "id": "76351110",
   "metadata": {},
   "source": [
    "### 4. Write a Python program to swap two variables?"
   ]
  },
  {
   "cell_type": "markdown",
   "id": "f97955d9",
   "metadata": {},
   "source": [
    "##### SOLUTION: "
   ]
  },
  {
   "cell_type": "code",
   "execution_count": 5,
   "id": "9aa43897",
   "metadata": {},
   "outputs": [
    {
     "name": "stdout",
     "output_type": "stream",
     "text": [
      "Enter value of x: 3\n",
      "Enter value of y: 7\n",
      "The value of x after swapping: 7\n",
      "The value of y after swapping: 3\n"
     ]
    }
   ],
   "source": [
    "# Python program to swap two variables\n",
    "\n",
    "x = input('Enter value of x: ')\n",
    "y = input('Enter value of y: ')\n",
    "\n",
    "# Creating a temporary variable to swap the values\n",
    "\n",
    "temp = x\n",
    "x = y\n",
    "y = temp\n",
    "\n",
    "print('The value of x after swapping: {}'.format(x))\n",
    "print('The value of y after swapping: {}'.format(y))"
   ]
  },
  {
   "cell_type": "code",
   "execution_count": 6,
   "id": "2fc8f979",
   "metadata": {},
   "outputs": [
    {
     "name": "stdout",
     "output_type": "stream",
     "text": [
      "Enter value of x: 8\n",
      "Enter value of y: 4\n",
      "x = 4\n",
      "y = 8\n"
     ]
    }
   ],
   "source": [
    "#The following code does the same thing as above but without the use of any temporary variable.\n",
    "\n",
    "x = input('Enter value of x: ')\n",
    "y = input('Enter value of y: ')\n",
    "\n",
    "x, y = y, x\n",
    "\n",
    "print(\"x =\", x)\n",
    "print(\"y =\", y)"
   ]
  },
  {
   "cell_type": "markdown",
   "id": "a339b98e",
   "metadata": {},
   "source": [
    "### 5. Write a Python program to generate a random number?"
   ]
  },
  {
   "cell_type": "markdown",
   "id": "30a66210",
   "metadata": {},
   "source": [
    "##### SOLUTION: "
   ]
  },
  {
   "cell_type": "code",
   "execution_count": 7,
   "id": "2c7597e7",
   "metadata": {},
   "outputs": [
    {
     "name": "stdout",
     "output_type": "stream",
     "text": [
      "0\n"
     ]
    }
   ],
   "source": [
    "# Program to generate a random number between 0 and 9\n",
    "\n",
    "# importing the random module\n",
    "import random\n",
    "\n",
    "print(random.randint(0,9))"
   ]
  },
  {
   "cell_type": "markdown",
   "id": "cbc9341c",
   "metadata": {},
   "source": [
    "Note that we may get different output because this program generates random number in range 0 and 9.\n",
    "\n",
    "The syntax of this function is:\n",
    "\n",
    "random.randint(a,b)\n",
    "\n",
    "This returns a number N in the inclusive range [a,b], meaning a <= N <= b, where the endpoints are included in the range."
   ]
  }
 ],
 "metadata": {
  "kernelspec": {
   "display_name": "Python 3 (ipykernel)",
   "language": "python",
   "name": "python3"
  },
  "language_info": {
   "codemirror_mode": {
    "name": "ipython",
    "version": 3
   },
   "file_extension": ".py",
   "mimetype": "text/x-python",
   "name": "python",
   "nbconvert_exporter": "python",
   "pygments_lexer": "ipython3",
   "version": "3.9.7"
  }
 },
 "nbformat": 4,
 "nbformat_minor": 5
}
